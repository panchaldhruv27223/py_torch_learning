{
 "cells": [
  {
   "cell_type": "markdown",
   "metadata": {
    "id": "WlvEivces5NH"
   },
   "source": [
    "Py-torch"
   ]
  },
  {
   "cell_type": "code",
   "execution_count": null,
   "metadata": {
    "id": "vV9vvYUJcPF2"
   },
   "outputs": [],
   "source": [
    "import torch"
   ]
  },
  {
   "cell_type": "code",
   "execution_count": null,
   "metadata": {
    "id": "ISETqpu7diep"
   },
   "outputs": [],
   "source": [
    "t1 = torch.tensor(4.)"
   ]
  },
  {
   "cell_type": "code",
   "execution_count": null,
   "metadata": {
    "colab": {
     "base_uri": "https://localhost:8080/"
    },
    "executionInfo": {
     "elapsed": 5,
     "status": "ok",
     "timestamp": 1707571897725,
     "user": {
      "displayName": "Panchal Dhruv",
      "userId": "08685030827788807431"
     },
     "user_tz": -330
    },
    "id": "zHDBHdsBdpbW",
    "outputId": "7104aac3-e793-44f6-ab58-2656d4e525c7"
   },
   "outputs": [
    {
     "data": {
      "text/plain": [
       "tensor(4.)"
      ]
     },
     "execution_count": 6,
     "metadata": {},
     "output_type": "execute_result"
    }
   ],
   "source": [
    "## single element\n",
    "t1"
   ]
  },
  {
   "cell_type": "code",
   "execution_count": null,
   "metadata": {
    "id": "PglOPhhIOddl"
   },
   "outputs": [],
   "source": [
    "t1 = 10"
   ]
  },
  {
   "cell_type": "code",
   "execution_count": null,
   "metadata": {
    "colab": {
     "base_uri": "https://localhost:8080/"
    },
    "executionInfo": {
     "elapsed": 1,
     "status": "ok",
     "timestamp": 1707572094164,
     "user": {
      "displayName": "Panchal Dhruv",
      "userId": "08685030827788807431"
     },
     "user_tz": -330
    },
    "id": "oBMFT_M5OdhC",
    "outputId": "e2ccaecc-1bb8-40bd-bf75-86974fd95d0b"
   },
   "outputs": [
    {
     "data": {
      "text/plain": [
       "10"
      ]
     },
     "execution_count": 16,
     "metadata": {},
     "output_type": "execute_result"
    }
   ],
   "source": [
    "t1"
   ]
  },
  {
   "cell_type": "code",
   "execution_count": null,
   "metadata": {
    "colab": {
     "base_uri": "https://localhost:8080/",
     "height": 175
    },
    "executionInfo": {
     "elapsed": 4,
     "status": "error",
     "timestamp": 1707572113285,
     "user": {
      "displayName": "Panchal Dhruv",
      "userId": "08685030827788807431"
     },
     "user_tz": -330
    },
    "id": "KpZx4c_mObYw",
    "outputId": "dd9541fd-a49b-4339-c229-0c3844353da0"
   },
   "outputs": [
    {
     "ename": "AttributeError",
     "evalue": "'int' object has no attribute 'dtype'",
     "output_type": "error",
     "traceback": [
      "\u001b[0;31m---------------------------------------------------------------------------\u001b[0m",
      "\u001b[0;31mAttributeError\u001b[0m                            Traceback (most recent call last)",
      "\u001b[0;32m<ipython-input-17-9f5da4d53615>\u001b[0m in \u001b[0;36m<cell line: 1>\u001b[0;34m()\u001b[0m\n\u001b[0;32m----> 1\u001b[0;31m \u001b[0mt1\u001b[0m\u001b[0;34m.\u001b[0m\u001b[0mdtype\u001b[0m\u001b[0;34m\u001b[0m\u001b[0;34m\u001b[0m\u001b[0m\n\u001b[0m",
      "\u001b[0;31mAttributeError\u001b[0m: 'int' object has no attribute 'dtype'"
     ]
    }
   ],
   "source": [
    "t1.dtype"
   ]
  },
  {
   "cell_type": "code",
   "execution_count": null,
   "metadata": {
    "colab": {
     "base_uri": "https://localhost:8080/"
    },
    "executionInfo": {
     "elapsed": 3,
     "status": "ok",
     "timestamp": 1707572128282,
     "user": {
      "displayName": "Panchal Dhruv",
      "userId": "08685030827788807431"
     },
     "user_tz": -330
    },
    "id": "OC0m6GlgOsWq",
    "outputId": "c1d9c08c-7065-440b-af70-221cd71e0ec8"
   },
   "outputs": [
    {
     "data": {
      "text/plain": [
       "int"
      ]
     },
     "execution_count": 18,
     "metadata": {},
     "output_type": "execute_result"
    }
   ],
   "source": [
    "type(t1)"
   ]
  },
  {
   "cell_type": "code",
   "execution_count": null,
   "metadata": {
    "colab": {
     "base_uri": "https://localhost:8080/"
    },
    "executionInfo": {
     "elapsed": 653,
     "status": "ok",
     "timestamp": 1707571997257,
     "user": {
      "displayName": "Panchal Dhruv",
      "userId": "08685030827788807431"
     },
     "user_tz": -330
    },
    "id": "FrZH5Fr3dqZC",
    "outputId": "6a1d1fb8-d2ee-4131-acae-186394e086d3"
   },
   "outputs": [
    {
     "data": {
      "text/plain": [
       "torch.float32"
      ]
     },
     "execution_count": 7,
     "metadata": {},
     "output_type": "execute_result"
    }
   ],
   "source": [
    "## for type\n",
    "t1.dtype"
   ]
  },
  {
   "cell_type": "code",
   "execution_count": null,
   "metadata": {
    "colab": {
     "base_uri": "https://localhost:8080/"
    },
    "executionInfo": {
     "elapsed": 3,
     "status": "ok",
     "timestamp": 1707572016654,
     "user": {
      "displayName": "Panchal Dhruv",
      "userId": "08685030827788807431"
     },
     "user_tz": -330
    },
    "id": "KJGdeA1LOPLT",
    "outputId": "2078bd00-7157-4df4-c4ba-af38cc2ca124"
   },
   "outputs": [
    {
     "data": {
      "text/plain": [
       "array(4., dtype=float32)"
      ]
     },
     "execution_count": 8,
     "metadata": {},
     "output_type": "execute_result"
    }
   ],
   "source": [
    "t1.numpy()"
   ]
  },
  {
   "cell_type": "code",
   "execution_count": null,
   "metadata": {
    "colab": {
     "base_uri": "https://localhost:8080/"
    },
    "executionInfo": {
     "elapsed": 5,
     "status": "ok",
     "timestamp": 1707572026957,
     "user": {
      "displayName": "Panchal Dhruv",
      "userId": "08685030827788807431"
     },
     "user_tz": -330
    },
    "id": "KbzsO-l8OUlv",
    "outputId": "cfc0ee6b-e6e2-484c-ff92-2b25868d7d70"
   },
   "outputs": [
    {
     "data": {
      "text/plain": [
       "torch.Size([])"
      ]
     },
     "execution_count": 9,
     "metadata": {},
     "output_type": "execute_result"
    }
   ],
   "source": [
    "t1.shape"
   ]
  },
  {
   "cell_type": "code",
   "execution_count": null,
   "metadata": {
    "colab": {
     "base_uri": "https://localhost:8080/"
    },
    "executionInfo": {
     "elapsed": 2,
     "status": "ok",
     "timestamp": 1707572040131,
     "user": {
      "displayName": "Panchal Dhruv",
      "userId": "08685030827788807431"
     },
     "user_tz": -330
    },
    "id": "mEcls9YPOWow",
    "outputId": "90a49fcd-355f-44fa-daba-c1ffc681a01e"
   },
   "outputs": [
    {
     "data": {
      "text/plain": [
       "torch.Size([])"
      ]
     },
     "execution_count": 11,
     "metadata": {},
     "output_type": "execute_result"
    }
   ],
   "source": [
    "t1.size()"
   ]
  },
  {
   "cell_type": "code",
   "execution_count": null,
   "metadata": {
    "colab": {
     "base_uri": "https://localhost:8080/"
    },
    "executionInfo": {
     "elapsed": 691,
     "status": "ok",
     "timestamp": 1707573295033,
     "user": {
      "displayName": "Panchal Dhruv",
      "userId": "08685030827788807431"
     },
     "user_tz": -330
    },
    "id": "fLtE9ZYod2oz",
    "outputId": "a3ff3a1b-957a-48b3-8497-f483253378c9"
   },
   "outputs": [
    {
     "data": {
      "text/plain": [
       "tensor([1., 2., 3., 4.])"
      ]
     },
     "execution_count": 19,
     "metadata": {},
     "output_type": "execute_result"
    }
   ],
   "source": [
    "## vector\n",
    "t2 = torch.tensor([1.,2.,3,4])\n",
    "t2"
   ]
  },
  {
   "cell_type": "code",
   "execution_count": null,
   "metadata": {
    "colab": {
     "base_uri": "https://localhost:8080/"
    },
    "executionInfo": {
     "elapsed": 5,
     "status": "ok",
     "timestamp": 1707573295816,
     "user": {
      "displayName": "Panchal Dhruv",
      "userId": "08685030827788807431"
     },
     "user_tz": -330
    },
    "id": "2mN1j_a9d9j3",
    "outputId": "830b75ca-4f89-45d4-c9ba-dbb8d7f28f67"
   },
   "outputs": [
    {
     "name": "stdout",
     "output_type": "stream",
     "text": [
      "tensor([[1., 2.],\n",
      "        [3., 4.],\n",
      "        [5., 6.]])\n",
      "torch.float32\n"
     ]
    }
   ],
   "source": [
    "## metrix\n",
    "t3 = torch.tensor([[1,2],\n",
    "                  [3,4.],\n",
    "                   [5,6]])\n",
    "print(t3)\n",
    "print(t3.dtype)"
   ]
  },
  {
   "cell_type": "code",
   "execution_count": null,
   "metadata": {
    "id": "dj-ZeUrOehNe"
   },
   "outputs": [],
   "source": [
    "## 3D tensor\n",
    "t4 = torch.tensor([[[1,2,3], [3,4,5]],\n",
    "                    [[2,3,4], [5,6,7.]]\n",
    "                   ])"
   ]
  },
  {
   "cell_type": "code",
   "execution_count": null,
   "metadata": {
    "colab": {
     "base_uri": "https://localhost:8080/"
    },
    "executionInfo": {
     "elapsed": 4,
     "status": "ok",
     "timestamp": 1707573295816,
     "user": {
      "displayName": "Panchal Dhruv",
      "userId": "08685030827788807431"
     },
     "user_tz": -330
    },
    "id": "DJoC68Ooe-fv",
    "outputId": "68078a8f-c10e-46c4-dc87-f986d9b1641b"
   },
   "outputs": [
    {
     "name": "stdout",
     "output_type": "stream",
     "text": [
      "tensor([[[1., 2., 3.],\n",
      "         [3., 4., 5.]],\n",
      "\n",
      "        [[2., 3., 4.],\n",
      "         [5., 6., 7.]]])\n",
      "<class 'torch.Tensor'>\n",
      "torch.float32\n",
      "torch.Size([2, 2, 3])\n"
     ]
    }
   ],
   "source": [
    "print(t4)\n",
    "print(type(t4))\n",
    "print(t4.dtype)\n",
    "print(t4.shape)"
   ]
  },
  {
   "cell_type": "code",
   "execution_count": null,
   "metadata": {
    "colab": {
     "base_uri": "https://localhost:8080/"
    },
    "executionInfo": {
     "elapsed": 11,
     "status": "ok",
     "timestamp": 1707573296497,
     "user": {
      "displayName": "Panchal Dhruv",
      "userId": "08685030827788807431"
     },
     "user_tz": -330
    },
    "id": "k7K5Z1i_fM_2",
    "outputId": "00e1b04b-cdb1-4f20-b570-6d8adefe1f3c"
   },
   "outputs": [
    {
     "name": "stdout",
     "output_type": "stream",
     "text": [
      "torch.Size([2, 2, 3])\n"
     ]
    }
   ],
   "source": [
    "print(t4.size())"
   ]
  },
  {
   "cell_type": "code",
   "execution_count": null,
   "metadata": {
    "colab": {
     "base_uri": "https://localhost:8080/"
    },
    "executionInfo": {
     "elapsed": 9,
     "status": "ok",
     "timestamp": 1707573296497,
     "user": {
      "displayName": "Panchal Dhruv",
      "userId": "08685030827788807431"
     },
     "user_tz": -330
    },
    "id": "Ur5NBJEGfWtz",
    "outputId": "a4b0270e-0ccd-4be1-ece1-6ab08b3e5ddb"
   },
   "outputs": [
    {
     "name": "stdout",
     "output_type": "stream",
     "text": [
      "torch.Size([2, 2, 3])\n"
     ]
    }
   ],
   "source": [
    "print(t4.shape)"
   ]
  },
  {
   "cell_type": "code",
   "execution_count": null,
   "metadata": {
    "colab": {
     "base_uri": "https://localhost:8080/",
     "height": 210
    },
    "executionInfo": {
     "elapsed": 6,
     "status": "error",
     "timestamp": 1707573296497,
     "user": {
      "displayName": "Panchal Dhruv",
      "userId": "08685030827788807431"
     },
     "user_tz": -330
    },
    "id": "BoZaBN1Jfgo9",
    "outputId": "0b4409be-ad9f-4132-9c9e-08a4aad12ab5"
   },
   "outputs": [
    {
     "ename": "AttributeError",
     "evalue": "'int' object has no attribute 'shape'",
     "output_type": "error",
     "traceback": [
      "\u001b[0;31m---------------------------------------------------------------------------\u001b[0m",
      "\u001b[0;31mAttributeError\u001b[0m                            Traceback (most recent call last)",
      "\u001b[0;32m<ipython-input-25-281da3bc019e>\u001b[0m in \u001b[0;36m<cell line: 1>\u001b[0;34m()\u001b[0m\n\u001b[0;32m----> 1\u001b[0;31m \u001b[0mprint\u001b[0m\u001b[0;34m(\u001b[0m\u001b[0mt1\u001b[0m\u001b[0;34m.\u001b[0m\u001b[0mshape\u001b[0m\u001b[0;34m)\u001b[0m\u001b[0;34m\u001b[0m\u001b[0;34m\u001b[0m\u001b[0m\n\u001b[0m\u001b[1;32m      2\u001b[0m \u001b[0mprint\u001b[0m\u001b[0;34m(\u001b[0m\u001b[0mt3\u001b[0m\u001b[0;34m.\u001b[0m\u001b[0mshape\u001b[0m\u001b[0;34m)\u001b[0m\u001b[0;34m\u001b[0m\u001b[0;34m\u001b[0m\u001b[0m\n\u001b[1;32m      3\u001b[0m \u001b[0mprint\u001b[0m\u001b[0;34m(\u001b[0m\u001b[0mt2\u001b[0m\u001b[0;34m.\u001b[0m\u001b[0mshape\u001b[0m\u001b[0;34m)\u001b[0m\u001b[0;34m\u001b[0m\u001b[0;34m\u001b[0m\u001b[0m\n",
      "\u001b[0;31mAttributeError\u001b[0m: 'int' object has no attribute 'shape'"
     ]
    }
   ],
   "source": [
    "print(t1.shape)\n",
    "print(t3.shape)\n",
    "print(t2.shape)"
   ]
  },
  {
   "cell_type": "code",
   "execution_count": null,
   "metadata": {
    "id": "iG5XyZ15f1si"
   },
   "outputs": [],
   "source": [
    "t3"
   ]
  },
  {
   "cell_type": "code",
   "execution_count": null,
   "metadata": {
    "colab": {
     "base_uri": "https://localhost:8080/"
    },
    "executionInfo": {
     "elapsed": 10,
     "status": "ok",
     "timestamp": 1707573297272,
     "user": {
      "displayName": "Panchal Dhruv",
      "userId": "08685030827788807431"
     },
     "user_tz": -330
    },
    "id": "ZfqBg9iCf6bn",
    "outputId": "ca73643e-8220-44ed-87c8-7b540f33e13d"
   },
   "outputs": [
    {
     "data": {
      "text/plain": [
       "tensor([1., 2., 3., 4.])"
      ]
     },
     "execution_count": 26,
     "metadata": {},
     "output_type": "execute_result"
    }
   ],
   "source": [
    "t2"
   ]
  },
  {
   "cell_type": "code",
   "execution_count": null,
   "metadata": {
    "colab": {
     "base_uri": "https://localhost:8080/"
    },
    "executionInfo": {
     "elapsed": 9,
     "status": "ok",
     "timestamp": 1707573297273,
     "user": {
      "displayName": "Panchal Dhruv",
      "userId": "08685030827788807431"
     },
     "user_tz": -330
    },
    "id": "fKCO3t3Hf8eE",
    "outputId": "02d23fd6-2bd7-4301-a5c9-08d2caec553b"
   },
   "outputs": [
    {
     "data": {
      "text/plain": [
       "tensor([[[1., 2., 3.],\n",
       "         [3., 4., 5.]],\n",
       "\n",
       "        [[2., 3., 4.],\n",
       "         [5., 6., 7.]]])"
      ]
     },
     "execution_count": 27,
     "metadata": {},
     "output_type": "execute_result"
    }
   ],
   "source": [
    "t4"
   ]
  },
  {
   "cell_type": "code",
   "execution_count": null,
   "metadata": {
    "colab": {
     "base_uri": "https://localhost:8080/"
    },
    "executionInfo": {
     "elapsed": 4,
     "status": "ok",
     "timestamp": 1707573297795,
     "user": {
      "displayName": "Panchal Dhruv",
      "userId": "08685030827788807431"
     },
     "user_tz": -330
    },
    "id": "yIUTKrONf9XB",
    "outputId": "98e4e661-ad48-4846-cccc-b87529e40d46"
   },
   "outputs": [
    {
     "data": {
      "text/plain": [
       "torch.Size([2, 2, 3])"
      ]
     },
     "execution_count": 28,
     "metadata": {},
     "output_type": "execute_result"
    }
   ],
   "source": [
    "t4.shape"
   ]
  },
  {
   "cell_type": "code",
   "execution_count": null,
   "metadata": {
    "id": "tXl9HZW3TIV3"
   },
   "outputs": [],
   "source": [
    "t = t4.shape"
   ]
  },
  {
   "cell_type": "code",
   "execution_count": null,
   "metadata": {
    "colab": {
     "base_uri": "https://localhost:8080/"
    },
    "executionInfo": {
     "elapsed": 2,
     "status": "ok",
     "timestamp": 1707573407838,
     "user": {
      "displayName": "Panchal Dhruv",
      "userId": "08685030827788807431"
     },
     "user_tz": -330
    },
    "id": "HsCRLX3cTmCS",
    "outputId": "a856adb2-904d-47af-b9a1-5be1cb96edb5"
   },
   "outputs": [
    {
     "data": {
      "text/plain": [
       "tensor([[[1., 2., 3.],\n",
       "         [3., 4., 5.]],\n",
       "\n",
       "        [[2., 3., 4.],\n",
       "         [5., 6., 7.]]])"
      ]
     },
     "execution_count": 39,
     "metadata": {},
     "output_type": "execute_result"
    }
   ],
   "source": [
    "t4"
   ]
  },
  {
   "cell_type": "code",
   "execution_count": null,
   "metadata": {
    "colab": {
     "base_uri": "https://localhost:8080/"
    },
    "executionInfo": {
     "elapsed": 2,
     "status": "ok",
     "timestamp": 1707573442842,
     "user": {
      "displayName": "Panchal Dhruv",
      "userId": "08685030827788807431"
     },
     "user_tz": -330
    },
    "id": "xfTFgskoTnjb",
    "outputId": "248d6367-42bc-45a3-c8ca-e434b5eb27c3"
   },
   "outputs": [
    {
     "data": {
      "text/plain": [
       "tensor(3.)"
      ]
     },
     "execution_count": 42,
     "metadata": {},
     "output_type": "execute_result"
    }
   ],
   "source": [
    "t4[0][1][0]"
   ]
  },
  {
   "cell_type": "code",
   "execution_count": null,
   "metadata": {
    "colab": {
     "base_uri": "https://localhost:8080/"
    },
    "executionInfo": {
     "elapsed": 3,
     "status": "ok",
     "timestamp": 1707573446637,
     "user": {
      "displayName": "Panchal Dhruv",
      "userId": "08685030827788807431"
     },
     "user_tz": -330
    },
    "id": "h16B_DArTnmQ",
    "outputId": "3836c228-e274-4d79-cbeb-0850c9cbfa45"
   },
   "outputs": [
    {
     "data": {
      "text/plain": [
       "tensor(5.)"
      ]
     },
     "execution_count": 43,
     "metadata": {},
     "output_type": "execute_result"
    }
   ],
   "source": [
    "t4[1][1][0]\n"
   ]
  },
  {
   "cell_type": "code",
   "execution_count": null,
   "metadata": {
    "id": "ZiozWzAaTnog"
   },
   "outputs": [],
   "source": []
  },
  {
   "cell_type": "code",
   "execution_count": null,
   "metadata": {
    "colab": {
     "base_uri": "https://localhost:8080/"
    },
    "executionInfo": {
     "elapsed": 2,
     "status": "ok",
     "timestamp": 1707573325809,
     "user": {
      "displayName": "Panchal Dhruv",
      "userId": "08685030827788807431"
     },
     "user_tz": -330
    },
    "id": "pCJea3TmTOWo",
    "outputId": "a1618aa4-a74c-4669-a536-fe317d720c9d"
   },
   "outputs": [
    {
     "data": {
      "text/plain": [
       "12"
      ]
     },
     "execution_count": 33,
     "metadata": {},
     "output_type": "execute_result"
    }
   ],
   "source": [
    "t[0]*t[1]*t[2]"
   ]
  },
  {
   "cell_type": "code",
   "execution_count": null,
   "metadata": {
    "id": "xJJWlJ_nTOZ9"
   },
   "outputs": [],
   "source": []
  },
  {
   "cell_type": "code",
   "execution_count": null,
   "metadata": {
    "id": "sKMRuGn2f-WP"
   },
   "outputs": [],
   "source": [
    "## here you can not  create a ragged matrix, , we  can not  create a tensor with improper size"
   ]
  },
  {
   "cell_type": "code",
   "execution_count": null,
   "metadata": {
    "colab": {
     "base_uri": "https://localhost:8080/",
     "height": 227
    },
    "executionInfo": {
     "elapsed": 703,
     "status": "error",
     "timestamp": 1707573359836,
     "user": {
      "displayName": "Panchal Dhruv",
      "userId": "08685030827788807431"
     },
     "user_tz": -330
    },
    "id": "F3878lYagtAa",
    "outputId": "bca3316c-9ec6-4384-80ab-e6bb3f61686a"
   },
   "outputs": [
    {
     "ename": "ValueError",
     "evalue": "expected sequence of length 3 at dim 1 (got 2)",
     "output_type": "error",
     "traceback": [
      "\u001b[0;31m---------------------------------------------------------------------------\u001b[0m",
      "\u001b[0;31mValueError\u001b[0m                                Traceback (most recent call last)",
      "\u001b[0;32m<ipython-input-35-4a579d23a2ef>\u001b[0m in \u001b[0;36m<cell line: 1>\u001b[0;34m()\u001b[0m\n\u001b[0;32m----> 1\u001b[0;31m t5 = torch.tensor([[5.,6,7],\n\u001b[0m\u001b[1;32m      2\u001b[0m                    \u001b[0;34m[\u001b[0m\u001b[0;36m7\u001b[0m\u001b[0;34m,\u001b[0m\u001b[0;36m8\u001b[0m\u001b[0;34m]\u001b[0m\u001b[0;34m,\u001b[0m\u001b[0;34m\u001b[0m\u001b[0;34m\u001b[0m\u001b[0m\n\u001b[1;32m      3\u001b[0m                    [9,7]])\n\u001b[1;32m      4\u001b[0m \u001b[0mt5\u001b[0m\u001b[0;34m\u001b[0m\u001b[0;34m\u001b[0m\u001b[0m\n",
      "\u001b[0;31mValueError\u001b[0m: expected sequence of length 3 at dim 1 (got 2)"
     ]
    }
   ],
   "source": [
    "t5 = torch.tensor([[5.,6,7],\n",
    "                   [7,8],\n",
    "                   [9,7]])\n",
    "t5"
   ]
  },
  {
   "cell_type": "code",
   "execution_count": null,
   "metadata": {
    "id": "IGUjCpU2g5BX"
   },
   "outputs": [],
   "source": [
    "## we will get an error"
   ]
  },
  {
   "cell_type": "code",
   "execution_count": null,
   "metadata": {
    "id": "AkTUr-LDg90x"
   },
   "outputs": [],
   "source": [
    "# tennsor oprationn and gradient"
   ]
  },
  {
   "cell_type": "code",
   "execution_count": null,
   "metadata": {
    "id": "dxoRbfr4hKlh"
   },
   "outputs": [],
   "source": [
    "## gradient"
   ]
  },
  {
   "cell_type": "code",
   "execution_count": null,
   "metadata": {
    "colab": {
     "base_uri": "https://localhost:8080/"
    },
    "executionInfo": {
     "elapsed": 4,
     "status": "ok",
     "timestamp": 1707573363819,
     "user": {
      "displayName": "Panchal Dhruv",
      "userId": "08685030827788807431"
     },
     "user_tz": -330
    },
    "id": "R0uqbfYUinXz",
    "outputId": "9de666df-b3c0-4f79-f795-dffea095940b"
   },
   "outputs": [
    {
     "data": {
      "text/plain": [
       "tensor(3.)"
      ]
     },
     "execution_count": 36,
     "metadata": {},
     "output_type": "execute_result"
    }
   ],
   "source": [
    "x = torch.tensor(3.)\n",
    "x"
   ]
  },
  {
   "cell_type": "code",
   "execution_count": null,
   "metadata": {
    "colab": {
     "base_uri": "https://localhost:8080/"
    },
    "executionInfo": {
     "elapsed": 4,
     "status": "ok",
     "timestamp": 1707573364562,
     "user": {
      "displayName": "Panchal Dhruv",
      "userId": "08685030827788807431"
     },
     "user_tz": -330
    },
    "id": "HyG6G-LSisn6",
    "outputId": "d22d80b6-e1a9-4560-ae33-77a947b150a8"
   },
   "outputs": [
    {
     "data": {
      "text/plain": [
       "tensor(4., requires_grad=True)"
      ]
     },
     "execution_count": 37,
     "metadata": {},
     "output_type": "execute_result"
    }
   ],
   "source": [
    "w = torch.tensor(4., requires_grad = True)\n",
    "w"
   ]
  },
  {
   "cell_type": "code",
   "execution_count": null,
   "metadata": {
    "colab": {
     "base_uri": "https://localhost:8080/"
    },
    "executionInfo": {
     "elapsed": 3,
     "status": "ok",
     "timestamp": 1707573365060,
     "user": {
      "displayName": "Panchal Dhruv",
      "userId": "08685030827788807431"
     },
     "user_tz": -330
    },
    "id": "4vO04UE9jBB3",
    "outputId": "ba569930-3824-45f9-aa6e-9c77352a636e"
   },
   "outputs": [
    {
     "data": {
      "text/plain": [
       "tensor(5., requires_grad=True)"
      ]
     },
     "execution_count": 38,
     "metadata": {},
     "output_type": "execute_result"
    }
   ],
   "source": [
    "b = torch.tensor(5., requires_grad = True)\n",
    "b"
   ]
  },
  {
   "cell_type": "code",
   "execution_count": null,
   "metadata": {
    "colab": {
     "base_uri": "https://localhost:8080/",
     "height": 210
    },
    "executionInfo": {
     "elapsed": 501,
     "status": "error",
     "timestamp": 1707573687520,
     "user": {
      "displayName": "Panchal Dhruv",
      "userId": "08685030827788807431"
     },
     "user_tz": -330
    },
    "id": "c0Bn7aRijIVu",
    "outputId": "6dc43547-6b49-4210-8dc1-8d260e01d5fc"
   },
   "outputs": [
    {
     "ename": "RuntimeError",
     "evalue": "Only Tensors of floating point and complex dtype can require gradients",
     "output_type": "error",
     "traceback": [
      "\u001b[0;31m---------------------------------------------------------------------------\u001b[0m",
      "\u001b[0;31mRuntimeError\u001b[0m                              Traceback (most recent call last)",
      "\u001b[0;32m<ipython-input-44-bb5f54e632c4>\u001b[0m in \u001b[0;36m<cell line: 1>\u001b[0;34m()\u001b[0m\n\u001b[0;32m----> 1\u001b[0;31m \u001b[0mb\u001b[0m \u001b[0;34m=\u001b[0m \u001b[0mtorch\u001b[0m\u001b[0;34m.\u001b[0m\u001b[0mtensor\u001b[0m\u001b[0;34m(\u001b[0m\u001b[0;36m5\u001b[0m\u001b[0;34m,\u001b[0m \u001b[0mrequires_grad\u001b[0m \u001b[0;34m=\u001b[0m \u001b[0;32mTrue\u001b[0m\u001b[0;34m)\u001b[0m\u001b[0;34m\u001b[0m\u001b[0;34m\u001b[0m\u001b[0m\n\u001b[0m\u001b[1;32m      2\u001b[0m \u001b[0mb\u001b[0m\u001b[0;34m\u001b[0m\u001b[0;34m\u001b[0m\u001b[0m\n",
      "\u001b[0;31mRuntimeError\u001b[0m: Only Tensors of floating point and complex dtype can require gradients"
     ]
    }
   ],
   "source": [
    "b = torch.tensor(5, requires_grad = True)\n",
    "b"
   ]
  },
  {
   "cell_type": "code",
   "execution_count": null,
   "metadata": {
    "colab": {
     "base_uri": "https://localhost:8080/"
    },
    "executionInfo": {
     "elapsed": 624,
     "status": "ok",
     "timestamp": 1707573792468,
     "user": {
      "displayName": "Panchal Dhruv",
      "userId": "08685030827788807431"
     },
     "user_tz": -330
    },
    "id": "kNviTByCjO9S",
    "outputId": "946cf52d-7218-45df-a373-ee095d194733"
   },
   "outputs": [
    {
     "data": {
      "text/plain": [
       "tensor(17., grad_fn=<AddBackward0>)"
      ]
     },
     "execution_count": 45,
     "metadata": {},
     "output_type": "execute_result"
    }
   ],
   "source": [
    "y = (w*x) + b\n",
    "y"
   ]
  },
  {
   "cell_type": "code",
   "execution_count": null,
   "metadata": {
    "colab": {
     "base_uri": "https://localhost:8080/"
    },
    "executionInfo": {
     "elapsed": 2,
     "status": "ok",
     "timestamp": 1707573792994,
     "user": {
      "displayName": "Panchal Dhruv",
      "userId": "08685030827788807431"
     },
     "user_tz": -330
    },
    "id": "_xjnbAzDjUbO",
    "outputId": "e0a65568-d387-4f39-84c1-5851f6b0dcbd"
   },
   "outputs": [
    {
     "data": {
      "text/plain": [
       "torch.float32"
      ]
     },
     "execution_count": 46,
     "metadata": {},
     "output_type": "execute_result"
    }
   ],
   "source": [
    "y.dtype"
   ]
  },
  {
   "cell_type": "code",
   "execution_count": null,
   "metadata": {
    "id": "DnbxsIOYjViS"
   },
   "outputs": [],
   "source": [
    "y.backward()"
   ]
  },
  {
   "cell_type": "code",
   "execution_count": null,
   "metadata": {
    "colab": {
     "base_uri": "https://localhost:8080/"
    },
    "executionInfo": {
     "elapsed": 461,
     "status": "ok",
     "timestamp": 1700128558031,
     "user": {
      "displayName": "Panchal Dhruv",
      "userId": "08685030827788807431"
     },
     "user_tz": -330
    },
    "id": "7yKqw4hfjduU",
    "outputId": "f5c83d63-bf88-4130-8353-d9f366e831da"
   },
   "outputs": [
    {
     "name": "stdout",
     "output_type": "stream",
     "text": [
      "dx/dy :  None\n",
      "dw/dy :  tensor(3.)\n",
      "db/dy :  tensor(1.)\n"
     ]
    }
   ],
   "source": [
    "print(\"dx/dy : \" , x.grad)\n",
    "print(\"dw/dy : \" , w.grad)\n",
    "print(\"db/dy : \" , b.grad)"
   ]
  },
  {
   "cell_type": "code",
   "execution_count": null,
   "metadata": {
    "colab": {
     "base_uri": "https://localhost:8080/"
    },
    "executionInfo": {
     "elapsed": 735,
     "status": "ok",
     "timestamp": 1707573919390,
     "user": {
      "displayName": "Panchal Dhruv",
      "userId": "08685030827788807431"
     },
     "user_tz": -330
    },
    "id": "mOFBJ75xVYrA",
    "outputId": "e36d39f1-5a81-412d-c717-13ceb504462f"
   },
   "outputs": [
    {
     "name": "stdout",
     "output_type": "stream",
     "text": [
      "tensor(3.)\n",
      "tensor(4.)\n",
      "tensor(5.)\n"
     ]
    }
   ],
   "source": [
    "print(x)\n",
    "w = torch.tensor(4.)\n",
    "print(w)\n",
    "b = torch.tensor(5.)\n",
    "print(b)"
   ]
  },
  {
   "cell_type": "code",
   "execution_count": null,
   "metadata": {
    "colab": {
     "base_uri": "https://localhost:8080/"
    },
    "executionInfo": {
     "elapsed": 3,
     "status": "ok",
     "timestamp": 1707573937457,
     "user": {
      "displayName": "Panchal Dhruv",
      "userId": "08685030827788807431"
     },
     "user_tz": -330
    },
    "id": "50BAXEjlVYt0",
    "outputId": "86e8a57a-0494-495e-d364-a2f8293c5b09"
   },
   "outputs": [
    {
     "data": {
      "text/plain": [
       "tensor(17.)"
      ]
     },
     "execution_count": 50,
     "metadata": {},
     "output_type": "execute_result"
    }
   ],
   "source": [
    "y = w*x + b\n",
    "y"
   ]
  },
  {
   "cell_type": "code",
   "execution_count": null,
   "metadata": {
    "colab": {
     "base_uri": "https://localhost:8080/",
     "height": 192
    },
    "executionInfo": {
     "elapsed": 6,
     "status": "error",
     "timestamp": 1707573990571,
     "user": {
      "displayName": "Panchal Dhruv",
      "userId": "08685030827788807431"
     },
     "user_tz": -330
    },
    "id": "VRzmUKjdVYxW",
    "outputId": "4c13e1e0-7ee2-416c-f42a-b1f953c6ccd2"
   },
   "outputs": [
    {
     "ename": "TypeError",
     "evalue": "'NoneType' object is not callable",
     "output_type": "error",
     "traceback": [
      "\u001b[0;31m---------------------------------------------------------------------------\u001b[0m",
      "\u001b[0;31mTypeError\u001b[0m                                 Traceback (most recent call last)",
      "\u001b[0;32m<ipython-input-51-45639edcbbbb>\u001b[0m in \u001b[0;36m<cell line: 2>\u001b[0;34m()\u001b[0m\n\u001b[1;32m      1\u001b[0m \u001b[0;31m## if we want to compute gradient of xyz\u001b[0m\u001b[0;34m\u001b[0m\u001b[0;34m\u001b[0m\u001b[0m\n\u001b[0;32m----> 2\u001b[0;31m \u001b[0mx\u001b[0m\u001b[0;34m.\u001b[0m\u001b[0mgrad\u001b[0m\u001b[0;34m(\u001b[0m\u001b[0;34m)\u001b[0m\u001b[0;34m\u001b[0m\u001b[0;34m\u001b[0m\u001b[0m\n\u001b[0m",
      "\u001b[0;31mTypeError\u001b[0m: 'NoneType' object is not callable"
     ]
    }
   ],
   "source": [
    "## if we want to compute gradient of xyz\n",
    "x.grad()"
   ]
  },
  {
   "cell_type": "code",
   "execution_count": null,
   "metadata": {
    "colab": {
     "base_uri": "https://localhost:8080/",
     "height": 390
    },
    "executionInfo": {
     "elapsed": 4,
     "status": "error",
     "timestamp": 1707574029984,
     "user": {
      "displayName": "Panchal Dhruv",
      "userId": "08685030827788807431"
     },
     "user_tz": -330
    },
    "id": "zbxVZfkqjsJZ",
    "outputId": "69ff9449-fb50-4ba9-85f1-0534f1709448"
   },
   "outputs": [
    {
     "ename": "RuntimeError",
     "evalue": "element 0 of tensors does not require grad and does not have a grad_fn",
     "output_type": "error",
     "traceback": [
      "\u001b[0;31m---------------------------------------------------------------------------\u001b[0m",
      "\u001b[0;31mRuntimeError\u001b[0m                              Traceback (most recent call last)",
      "\u001b[0;32m<ipython-input-52-ab75bb780f4c>\u001b[0m in \u001b[0;36m<cell line: 1>\u001b[0;34m()\u001b[0m\n\u001b[0;32m----> 1\u001b[0;31m \u001b[0my\u001b[0m\u001b[0;34m.\u001b[0m\u001b[0mbackward\u001b[0m\u001b[0;34m(\u001b[0m\u001b[0;34m)\u001b[0m\u001b[0;34m\u001b[0m\u001b[0;34m\u001b[0m\u001b[0m\n\u001b[0m",
      "\u001b[0;32m/usr/local/lib/python3.10/dist-packages/torch/_tensor.py\u001b[0m in \u001b[0;36mbackward\u001b[0;34m(self, gradient, retain_graph, create_graph, inputs)\u001b[0m\n\u001b[1;32m    490\u001b[0m                 \u001b[0minputs\u001b[0m\u001b[0;34m=\u001b[0m\u001b[0minputs\u001b[0m\u001b[0;34m,\u001b[0m\u001b[0;34m\u001b[0m\u001b[0;34m\u001b[0m\u001b[0m\n\u001b[1;32m    491\u001b[0m             )\n\u001b[0;32m--> 492\u001b[0;31m         torch.autograd.backward(\n\u001b[0m\u001b[1;32m    493\u001b[0m             \u001b[0mself\u001b[0m\u001b[0;34m,\u001b[0m \u001b[0mgradient\u001b[0m\u001b[0;34m,\u001b[0m \u001b[0mretain_graph\u001b[0m\u001b[0;34m,\u001b[0m \u001b[0mcreate_graph\u001b[0m\u001b[0;34m,\u001b[0m \u001b[0minputs\u001b[0m\u001b[0;34m=\u001b[0m\u001b[0minputs\u001b[0m\u001b[0;34m\u001b[0m\u001b[0;34m\u001b[0m\u001b[0m\n\u001b[1;32m    494\u001b[0m         )\n",
      "\u001b[0;32m/usr/local/lib/python3.10/dist-packages/torch/autograd/__init__.py\u001b[0m in \u001b[0;36mbackward\u001b[0;34m(tensors, grad_tensors, retain_graph, create_graph, grad_variables, inputs)\u001b[0m\n\u001b[1;32m    249\u001b[0m     \u001b[0;31m# some Python versions print out the first line of a multi-line function\u001b[0m\u001b[0;34m\u001b[0m\u001b[0;34m\u001b[0m\u001b[0m\n\u001b[1;32m    250\u001b[0m     \u001b[0;31m# calls in the traceback and some print out the last line\u001b[0m\u001b[0;34m\u001b[0m\u001b[0;34m\u001b[0m\u001b[0m\n\u001b[0;32m--> 251\u001b[0;31m     Variable._execution_engine.run_backward(  # Calls into the C++ engine to run the backward pass\n\u001b[0m\u001b[1;32m    252\u001b[0m         \u001b[0mtensors\u001b[0m\u001b[0;34m,\u001b[0m\u001b[0;34m\u001b[0m\u001b[0;34m\u001b[0m\u001b[0m\n\u001b[1;32m    253\u001b[0m         \u001b[0mgrad_tensors_\u001b[0m\u001b[0;34m,\u001b[0m\u001b[0;34m\u001b[0m\u001b[0;34m\u001b[0m\u001b[0m\n",
      "\u001b[0;31mRuntimeError\u001b[0m: element 0 of tensors does not require grad and does not have a grad_fn"
     ]
    }
   ],
   "source": [
    "y.backward()\n",
    "\n",
    "## require grad = false"
   ]
  },
  {
   "cell_type": "code",
   "execution_count": null,
   "metadata": {
    "id": "-lLNZPrmj9E9"
   },
   "outputs": [],
   "source": [
    "##"
   ]
  },
  {
   "cell_type": "code",
   "execution_count": null,
   "metadata": {
    "id": "rYtTn47bj9dG"
   },
   "outputs": [],
   "source": [
    "#"
   ]
  },
  {
   "cell_type": "code",
   "execution_count": null,
   "metadata": {
    "id": "1OeIPNiBj9wV"
   },
   "outputs": [],
   "source": [
    "### tensor function"
   ]
  },
  {
   "cell_type": "code",
   "execution_count": null,
   "metadata": {
    "id": "SqieSA6Vj_VF"
   },
   "outputs": [],
   "source": [
    "t1 = torch.full((3,2),42)"
   ]
  },
  {
   "cell_type": "code",
   "execution_count": null,
   "metadata": {
    "colab": {
     "base_uri": "https://localhost:8080/"
    },
    "executionInfo": {
     "elapsed": 1,
     "status": "ok",
     "timestamp": 1707574232099,
     "user": {
      "displayName": "Panchal Dhruv",
      "userId": "08685030827788807431"
     },
     "user_tz": -330
    },
    "id": "l6t4DrnGkJbp",
    "outputId": "068c7308-91a3-481b-8f02-bf35dbfd1c7c"
   },
   "outputs": [
    {
     "data": {
      "text/plain": [
       "tensor([[42, 42],\n",
       "        [42, 42],\n",
       "        [42, 42]])"
      ]
     },
     "execution_count": 58,
     "metadata": {},
     "output_type": "execute_result"
    }
   ],
   "source": [
    "## create a constant tensor\n",
    "t1"
   ]
  },
  {
   "cell_type": "code",
   "execution_count": null,
   "metadata": {
    "colab": {
     "base_uri": "https://localhost:8080/"
    },
    "executionInfo": {
     "elapsed": 2,
     "status": "ok",
     "timestamp": 1707574169933,
     "user": {
      "displayName": "Panchal Dhruv",
      "userId": "08685030827788807431"
     },
     "user_tz": -330
    },
    "id": "CknDmN74WeAP",
    "outputId": "f8394092-4a60-4baf-d288-b247a05d4960"
   },
   "outputs": [
    {
     "data": {
      "text/plain": [
       "tensor([[1., 1.],\n",
       "        [1., 1.],\n",
       "        [1., 1.]])"
      ]
     },
     "execution_count": 53,
     "metadata": {},
     "output_type": "execute_result"
    }
   ],
   "source": [
    "torch.ones((3,2))"
   ]
  },
  {
   "cell_type": "code",
   "execution_count": null,
   "metadata": {
    "colab": {
     "base_uri": "https://localhost:8080/"
    },
    "executionInfo": {
     "elapsed": 3,
     "status": "ok",
     "timestamp": 1707574178619,
     "user": {
      "displayName": "Panchal Dhruv",
      "userId": "08685030827788807431"
     },
     "user_tz": -330
    },
    "id": "2zjfcRW-WeDl",
    "outputId": "2b5e54b1-122f-4b79-d254-2e8b73bfed8e"
   },
   "outputs": [
    {
     "data": {
      "text/plain": [
       "tensor([[0., 0., 0., 0.],\n",
       "        [0., 0., 0., 0.],\n",
       "        [0., 0., 0., 0.]])"
      ]
     },
     "execution_count": 54,
     "metadata": {},
     "output_type": "execute_result"
    }
   ],
   "source": [
    "torch.zeros((3,4))"
   ]
  },
  {
   "cell_type": "code",
   "execution_count": null,
   "metadata": {
    "id": "jszMf5JCkNrW"
   },
   "outputs": [],
   "source": [
    "t2 = torch.tensor([[1,2],\n",
    "                   [2.,3],\n",
    "                   [4,5]])"
   ]
  },
  {
   "cell_type": "code",
   "execution_count": null,
   "metadata": {
    "colab": {
     "base_uri": "https://localhost:8080/"
    },
    "executionInfo": {
     "elapsed": 3,
     "status": "ok",
     "timestamp": 1707574345186,
     "user": {
      "displayName": "Panchal Dhruv",
      "userId": "08685030827788807431"
     },
     "user_tz": -330
    },
    "id": "Ni6NB8pAkfEd",
    "outputId": "24fde952-5821-4f2f-ad4d-74f4a4fa0fdf"
   },
   "outputs": [
    {
     "data": {
      "text/plain": [
       "tensor([[1., 2.],\n",
       "        [2., 3.],\n",
       "        [4., 5.]])"
      ]
     },
     "execution_count": 66,
     "metadata": {},
     "output_type": "execute_result"
    }
   ],
   "source": [
    "t2"
   ]
  },
  {
   "cell_type": "code",
   "execution_count": null,
   "metadata": {
    "colab": {
     "base_uri": "https://localhost:8080/"
    },
    "executionInfo": {
     "elapsed": 536,
     "status": "ok",
     "timestamp": 1707574236912,
     "user": {
      "displayName": "Panchal Dhruv",
      "userId": "08685030827788807431"
     },
     "user_tz": -330
    },
    "id": "bsHQClp9kfcB",
    "outputId": "9e627972-8518-4798-9c5b-4ab41c5cf656"
   },
   "outputs": [
    {
     "data": {
      "text/plain": [
       "tensor([[42, 42],\n",
       "        [42, 42],\n",
       "        [42, 42]])"
      ]
     },
     "execution_count": 59,
     "metadata": {},
     "output_type": "execute_result"
    }
   ],
   "source": [
    "t1"
   ]
  },
  {
   "cell_type": "code",
   "execution_count": null,
   "metadata": {
    "id": "wnIVNaXgkfyE"
   },
   "outputs": [],
   "source": [
    "## concatenation\n",
    "t3 = torch.cat([t1,t2],axis = 0)"
   ]
  },
  {
   "cell_type": "code",
   "execution_count": null,
   "metadata": {
    "colab": {
     "base_uri": "https://localhost:8080/"
    },
    "executionInfo": {
     "elapsed": 478,
     "status": "ok",
     "timestamp": 1707574355898,
     "user": {
      "displayName": "Panchal Dhruv",
      "userId": "08685030827788807431"
     },
     "user_tz": -330
    },
    "id": "wjppu2UHklbn",
    "outputId": "a4efa4cc-183c-48a2-ce20-4272b1818259"
   },
   "outputs": [
    {
     "data": {
      "text/plain": [
       "tensor([[42., 42.],\n",
       "        [42., 42.],\n",
       "        [42., 42.],\n",
       "        [ 1.,  2.],\n",
       "        [ 2.,  3.],\n",
       "        [ 4.,  5.]])"
      ]
     },
     "execution_count": 68,
     "metadata": {},
     "output_type": "execute_result"
    }
   ],
   "source": [
    "t3"
   ]
  },
  {
   "cell_type": "code",
   "execution_count": null,
   "metadata": {
    "colab": {
     "base_uri": "https://localhost:8080/"
    },
    "executionInfo": {
     "elapsed": 749,
     "status": "ok",
     "timestamp": 1707574362671,
     "user": {
      "displayName": "Panchal Dhruv",
      "userId": "08685030827788807431"
     },
     "user_tz": -330
    },
    "id": "t0WaZ6VekmAu",
    "outputId": "5fe6b12f-47c7-491a-f411-073d6a8b6a63"
   },
   "outputs": [
    {
     "data": {
      "text/plain": [
       "tensor([[42., 42.,  1.,  2.],\n",
       "        [42., 42.,  2.,  3.],\n",
       "        [42., 42.,  4.,  5.]])"
      ]
     },
     "execution_count": 69,
     "metadata": {},
     "output_type": "execute_result"
    }
   ],
   "source": [
    "t4 = torch.cat([t1,t2],axis=1)\n",
    "t4"
   ]
  },
  {
   "cell_type": "code",
   "execution_count": null,
   "metadata": {
    "colab": {
     "base_uri": "https://localhost:8080/"
    },
    "executionInfo": {
     "elapsed": 507,
     "status": "ok",
     "timestamp": 1707574396692,
     "user": {
      "displayName": "Panchal Dhruv",
      "userId": "08685030827788807431"
     },
     "user_tz": -330
    },
    "id": "JM8s2C35k2G0",
    "outputId": "541928a8-c05b-4ce4-cccb-6dbfbcda8537"
   },
   "outputs": [
    {
     "data": {
      "text/plain": [
       "tensor([[ 0.8415,  0.9093],\n",
       "        [ 0.9093,  0.1411],\n",
       "        [-0.7568, -0.9589]])"
      ]
     },
     "execution_count": 70,
     "metadata": {},
     "output_type": "execute_result"
    }
   ],
   "source": [
    "t5 = torch.sin(t2)\n",
    "t5"
   ]
  },
  {
   "cell_type": "code",
   "execution_count": null,
   "metadata": {
    "colab": {
     "base_uri": "https://localhost:8080/"
    },
    "executionInfo": {
     "elapsed": 2,
     "status": "ok",
     "timestamp": 1707574397186,
     "user": {
      "displayName": "Panchal Dhruv",
      "userId": "08685030827788807431"
     },
     "user_tz": -330
    },
    "id": "MQ7PAB-rk_UW",
    "outputId": "2fd68491-d8f7-4298-c292-c055052566cd"
   },
   "outputs": [
    {
     "data": {
      "text/plain": [
       "tensor([[42., 42.],\n",
       "        [42., 42.],\n",
       "        [42., 42.],\n",
       "        [ 1.,  2.],\n",
       "        [ 2.,  3.],\n",
       "        [ 4.,  5.]])"
      ]
     },
     "execution_count": 71,
     "metadata": {},
     "output_type": "execute_result"
    }
   ],
   "source": [
    "t3"
   ]
  },
  {
   "cell_type": "code",
   "execution_count": null,
   "metadata": {
    "id": "MO_PnEpjlFnk"
   },
   "outputs": [],
   "source": [
    "t6 = t3.reshape(3,2,2)"
   ]
  },
  {
   "cell_type": "code",
   "execution_count": null,
   "metadata": {
    "colab": {
     "base_uri": "https://localhost:8080/"
    },
    "executionInfo": {
     "elapsed": 6,
     "status": "ok",
     "timestamp": 1707574427224,
     "user": {
      "displayName": "Panchal Dhruv",
      "userId": "08685030827788807431"
     },
     "user_tz": -330
    },
    "id": "YrUaWp2FlM7D",
    "outputId": "d8fbefc1-c7a1-45ab-d49d-32bb7861a075"
   },
   "outputs": [
    {
     "data": {
      "text/plain": [
       "tensor([[[42., 42.],\n",
       "         [42., 42.]],\n",
       "\n",
       "        [[42., 42.],\n",
       "         [ 1.,  2.]],\n",
       "\n",
       "        [[ 2.,  3.],\n",
       "         [ 4.,  5.]]])"
      ]
     },
     "execution_count": 73,
     "metadata": {},
     "output_type": "execute_result"
    }
   ],
   "source": [
    "t6"
   ]
  },
  {
   "cell_type": "code",
   "execution_count": null,
   "metadata": {
    "id": "K264va_blNXu"
   },
   "outputs": [],
   "source": [
    "import numpy as np"
   ]
  },
  {
   "cell_type": "code",
   "execution_count": null,
   "metadata": {
    "colab": {
     "base_uri": "https://localhost:8080/"
    },
    "executionInfo": {
     "elapsed": 652,
     "status": "ok",
     "timestamp": 1700129441953,
     "user": {
      "displayName": "Panchal Dhruv",
      "userId": "08685030827788807431"
     },
     "user_tz": -330
    },
    "id": "0wwsLbutloPT",
    "outputId": "b214a98f-fd83-4ba7-bb18-752af98e7b4c"
   },
   "outputs": [
    {
     "data": {
      "text/plain": [
       "array([[1., 2.],\n",
       "       [2., 3.]])"
      ]
     },
     "execution_count": 76,
     "metadata": {},
     "output_type": "execute_result"
    }
   ],
   "source": [
    "x = np.array([[1,2],[2,3.0]])\n",
    "x"
   ]
  },
  {
   "cell_type": "code",
   "execution_count": null,
   "metadata": {
    "colab": {
     "base_uri": "https://localhost:8080/"
    },
    "executionInfo": {
     "elapsed": 656,
     "status": "ok",
     "timestamp": 1700130073558,
     "user": {
      "displayName": "Panchal Dhruv",
      "userId": "08685030827788807431"
     },
     "user_tz": -330
    },
    "id": "RxhWA_eSl1G-",
    "outputId": "c58d3353-529b-4305-f2d5-6150935c9fb2"
   },
   "outputs": [
    {
     "data": {
      "text/plain": [
       "tensor([[1., 2.],\n",
       "        [2., 3.]], dtype=torch.float64)"
      ]
     },
     "execution_count": 80,
     "metadata": {},
     "output_type": "execute_result"
    }
   ],
   "source": [
    "## convert to tensor\n",
    "## numpy to tensor\n",
    "y = torch.from_numpy(x)\n",
    "y"
   ]
  },
  {
   "cell_type": "code",
   "execution_count": null,
   "metadata": {
    "colab": {
     "base_uri": "https://localhost:8080/"
    },
    "executionInfo": {
     "elapsed": 804,
     "status": "ok",
     "timestamp": 1700130007534,
     "user": {
      "displayName": "Panchal Dhruv",
      "userId": "08685030827788807431"
     },
     "user_tz": -330
    },
    "id": "fDJRxzyZmBCP",
    "outputId": "b23df856-ddcf-42aa-95ec-cfa52363f876"
   },
   "outputs": [
    {
     "data": {
      "text/plain": [
       "(dtype('float64'), torch.float64)"
      ]
     },
     "execution_count": 78,
     "metadata": {},
     "output_type": "execute_result"
    }
   ],
   "source": [
    "x.dtype, y.dtype"
   ]
  },
  {
   "cell_type": "code",
   "execution_count": null,
   "metadata": {
    "id": "YplLIoqDpSNE"
   },
   "outputs": [],
   "source": [
    "## this is a differance\n"
   ]
  },
  {
   "cell_type": "code",
   "execution_count": null,
   "metadata": {
    "id": "588LKWW9paeR"
   },
   "outputs": [],
   "source": [
    "## tensor to numpy\n",
    "\n",
    "z = y.numpy()"
   ]
  },
  {
   "cell_type": "code",
   "execution_count": null,
   "metadata": {
    "colab": {
     "base_uri": "https://localhost:8080/"
    },
    "executionInfo": {
     "elapsed": 527,
     "status": "ok",
     "timestamp": 1700130103178,
     "user": {
      "displayName": "Panchal Dhruv",
      "userId": "08685030827788807431"
     },
     "user_tz": -330
    },
    "id": "W1jH8e9epo8a",
    "outputId": "383ee24e-0f8f-4863-b403-3e45f3e7c803"
   },
   "outputs": [
    {
     "data": {
      "text/plain": [
       "array([[1., 2.],\n",
       "       [2., 3.]])"
      ]
     },
     "execution_count": 82,
     "metadata": {},
     "output_type": "execute_result"
    }
   ],
   "source": [
    "z"
   ]
  },
  {
   "cell_type": "code",
   "execution_count": null,
   "metadata": {
    "colab": {
     "base_uri": "https://localhost:8080/"
    },
    "executionInfo": {
     "elapsed": 1293,
     "status": "ok",
     "timestamp": 1700130107553,
     "user": {
      "displayName": "Panchal Dhruv",
      "userId": "08685030827788807431"
     },
     "user_tz": -330
    },
    "id": "5EyGB9zFppdj",
    "outputId": "079a0f31-9287-452e-9d0d-8e9ae90fabdd"
   },
   "outputs": [
    {
     "data": {
      "text/plain": [
       "dtype('float64')"
      ]
     },
     "execution_count": 83,
     "metadata": {},
     "output_type": "execute_result"
    }
   ],
   "source": [
    "z.dtype"
   ]
  },
  {
   "cell_type": "code",
   "execution_count": null,
   "metadata": {
    "colab": {
     "base_uri": "https://localhost:8080/"
    },
    "executionInfo": {
     "elapsed": 1477,
     "status": "ok",
     "timestamp": 1700130119316,
     "user": {
      "displayName": "Panchal Dhruv",
      "userId": "08685030827788807431"
     },
     "user_tz": -330
    },
    "id": "xscS4eY8pqQv",
    "outputId": "fc4ac39a-9a29-491f-83f6-c49974d15076"
   },
   "outputs": [
    {
     "data": {
      "text/plain": [
       "torch.float64"
      ]
     },
     "execution_count": 84,
     "metadata": {},
     "output_type": "execute_result"
    }
   ],
   "source": [
    "y.dtype"
   ]
  },
  {
   "cell_type": "code",
   "execution_count": null,
   "metadata": {
    "id": "S5Gtnvm1psyQ"
   },
   "outputs": [],
   "source": [
    "import numpy as np\n",
    "import torch"
   ]
  },
  {
   "cell_type": "code",
   "execution_count": null,
   "metadata": {
    "id": "ouLedbV02yx9"
   },
   "outputs": [],
   "source": [
    "## input rainfall, temp, humidity"
   ]
  },
  {
   "cell_type": "code",
   "execution_count": null,
   "metadata": {
    "colab": {
     "base_uri": "https://localhost:8080/"
    },
    "executionInfo": {
     "elapsed": 494,
     "status": "ok",
     "timestamp": 1707574664354,
     "user": {
      "displayName": "Panchal Dhruv",
      "userId": "08685030827788807431"
     },
     "user_tz": -330
    },
    "id": "EjDlRMle25WQ",
    "outputId": "6bac0d2c-bac1-4081-a9b2-fd8271f1d0d0"
   },
   "outputs": [
    {
     "name": "stdout",
     "output_type": "stream",
     "text": [
      "[[ 73.  67.  43.]\n",
      " [ 91.  88.  64.]\n",
      " [ 87. 134.  58.]\n",
      " [102.  43.  37.]\n",
      " [ 69.  96.  70.]]\n"
     ]
    }
   ],
   "source": [
    "input = np.array([[73,67,43],\n",
    "                  [91,88,64],\n",
    "                  [87,134,58],\n",
    "                  [102,43,37],\n",
    "                  [69,96,70.]], dtype = \"float32\")\n",
    "print(input)"
   ]
  },
  {
   "cell_type": "code",
   "execution_count": null,
   "metadata": {
    "colab": {
     "base_uri": "https://localhost:8080/"
    },
    "executionInfo": {
     "elapsed": 2,
     "status": "ok",
     "timestamp": 1707574666010,
     "user": {
      "displayName": "Panchal Dhruv",
      "userId": "08685030827788807431"
     },
     "user_tz": -330
    },
    "id": "NOtCoHKh3Xx5",
    "outputId": "68d91a57-beb4-4bde-c3a5-d67cbbf5d41c"
   },
   "outputs": [
    {
     "name": "stdout",
     "output_type": "stream",
     "text": [
      "[[ 56.  70.]\n",
      " [ 81. 101.]\n",
      " [119. 133.]\n",
      " [ 22.  37.]\n",
      " [103. 119.]]\n"
     ]
    }
   ],
   "source": [
    "## apple , orange\n",
    "target = np.array([[56,70],\n",
    "                   [81,101],\n",
    "                   [119,133],\n",
    "                   [22,37],\n",
    "                   [103,119]], dtype=\"float32\")\n",
    "print(target)"
   ]
  },
  {
   "cell_type": "code",
   "execution_count": null,
   "metadata": {
    "colab": {
     "base_uri": "https://localhost:8080/"
    },
    "executionInfo": {
     "elapsed": 2,
     "status": "ok",
     "timestamp": 1707574666745,
     "user": {
      "displayName": "Panchal Dhruv",
      "userId": "08685030827788807431"
     },
     "user_tz": -330
    },
    "id": "2HZMVr3_4ODJ",
    "outputId": "0a814ee7-4a4f-4931-a308-bd110d5c3118"
   },
   "outputs": [
    {
     "name": "stdout",
     "output_type": "stream",
     "text": [
      "tensor([[ 73.,  67.,  43.],\n",
      "        [ 91.,  88.,  64.],\n",
      "        [ 87., 134.,  58.],\n",
      "        [102.,  43.,  37.],\n",
      "        [ 69.,  96.,  70.]])\n",
      "tensor([[ 56.,  70.],\n",
      "        [ 81., 101.],\n",
      "        [119., 133.],\n",
      "        [ 22.,  37.],\n",
      "        [103., 119.]])\n"
     ]
    }
   ],
   "source": [
    "## convert ndarray to tensor\n",
    "\n",
    "input = torch.from_numpy(input)\n",
    "target = torch.from_numpy(target)\n",
    "\n",
    "print(input)\n",
    "\n",
    "print(target)"
   ]
  },
  {
   "cell_type": "code",
   "execution_count": null,
   "metadata": {
    "colab": {
     "base_uri": "https://localhost:8080/"
    },
    "executionInfo": {
     "elapsed": 3,
     "status": "ok",
     "timestamp": 1707574708685,
     "user": {
      "displayName": "Panchal Dhruv",
      "userId": "08685030827788807431"
     },
     "user_tz": -330
    },
    "id": "6qB1PQ624wbh",
    "outputId": "b5faeeb0-a7b8-492a-ecbc-0767cc956a1c"
   },
   "outputs": [
    {
     "name": "stdout",
     "output_type": "stream",
     "text": [
      "tensor([[-1.1093, -1.5308, -0.9423],\n",
      "        [ 0.4230, -0.3118, -0.0324]], requires_grad=True) tensor([-1.1062,  0.8582], requires_grad=True)\n"
     ]
    }
   ],
   "source": [
    "## initalize weights and bias\n",
    "\n",
    "w  = torch.randn((2,3),requires_grad=True)\n",
    "b = torch.randn(2 , requires_grad=True)\n",
    "print(w,b)"
   ]
  },
  {
   "cell_type": "markdown",
   "metadata": {
    "id": "Nz1y9sE75tKt"
   },
   "source": []
  },
  {
   "cell_type": "code",
   "execution_count": null,
   "metadata": {
    "id": "DbafvUpl6_-K"
   },
   "outputs": [],
   "source": []
  },
  {
   "cell_type": "code",
   "execution_count": null,
   "metadata": {
    "colab": {
     "base_uri": "https://localhost:8080/"
    },
    "executionInfo": {
     "elapsed": 2,
     "status": "ok",
     "timestamp": 1707574734223,
     "user": {
      "displayName": "Panchal Dhruv",
      "userId": "08685030827788807431"
     },
     "user_tz": -330
    },
    "id": "x7VSXxjHYpIw",
    "outputId": "8dd3777c-3157-4f79-bfa5-962326aa25ef"
   },
   "outputs": [
    {
     "name": "stdout",
     "output_type": "stream",
     "text": [
      "tensor([[-1.1093, -1.5308, -0.9423],\n",
      "        [ 0.4230, -0.3118, -0.0324]], requires_grad=True)\n"
     ]
    }
   ],
   "source": [
    "print(w)"
   ]
  },
  {
   "cell_type": "code",
   "execution_count": null,
   "metadata": {
    "colab": {
     "base_uri": "https://localhost:8080/"
    },
    "executionInfo": {
     "elapsed": 4,
     "status": "ok",
     "timestamp": 1707574737349,
     "user": {
      "displayName": "Panchal Dhruv",
      "userId": "08685030827788807431"
     },
     "user_tz": -330
    },
    "id": "GkBi8jGWYpML",
    "outputId": "71d9ad11-a406-4eec-ca2e-1d3165c6e80c"
   },
   "outputs": [
    {
     "name": "stdout",
     "output_type": "stream",
     "text": [
      "tensor([-1.1062,  0.8582], requires_grad=True)\n"
     ]
    }
   ],
   "source": [
    "print(b)"
   ]
  },
  {
   "cell_type": "code",
   "execution_count": null,
   "metadata": {
    "colab": {
     "base_uri": "https://localhost:8080/"
    },
    "executionInfo": {
     "elapsed": 478,
     "status": "ok",
     "timestamp": 1707574760495,
     "user": {
      "displayName": "Panchal Dhruv",
      "userId": "08685030827788807431"
     },
     "user_tz": -330
    },
    "id": "V2t4jrR_5PCN",
    "outputId": "9d3185db-1888-4427-dd4e-29d08091939f"
   },
   "outputs": [
    {
     "name": "stdout",
     "output_type": "stream",
     "text": [
      "tensor([[-225.1685,    9.4504],\n",
      "        [-297.0717,    9.8352],\n",
      "        [-357.3993,   -6.0032],\n",
      "        [-214.9430,   29.3931],\n",
      "        [-290.5685,   -2.1585]], grad_fn=<AddBackward0>)\n"
     ]
    }
   ],
   "source": [
    "def model(x):\n",
    "    return ((x @ (w.T)) + b)\n",
    "\n",
    "predict = model(input)\n",
    "\n",
    "print(predict)"
   ]
  },
  {
   "cell_type": "code",
   "execution_count": null,
   "metadata": {
    "colab": {
     "base_uri": "https://localhost:8080/"
    },
    "executionInfo": {
     "elapsed": 3,
     "status": "ok",
     "timestamp": 1707574768326,
     "user": {
      "displayName": "Panchal Dhruv",
      "userId": "08685030827788807431"
     },
     "user_tz": -330
    },
    "id": "rv8f6Ir16NG2",
    "outputId": "0c726f53-9a66-468e-b88b-435ee0889ec6"
   },
   "outputs": [
    {
     "data": {
      "text/plain": [
       "tensor([[-1.1093,  0.4230],\n",
       "        [-1.5308, -0.3118],\n",
       "        [-0.9423, -0.0324]], grad_fn=<PermuteBackward0>)"
      ]
     },
     "execution_count": 87,
     "metadata": {},
     "output_type": "execute_result"
    }
   ],
   "source": [
    "w.T"
   ]
  },
  {
   "cell_type": "code",
   "execution_count": null,
   "metadata": {
    "colab": {
     "base_uri": "https://localhost:8080/"
    },
    "executionInfo": {
     "elapsed": 4,
     "status": "ok",
     "timestamp": 1707574774545,
     "user": {
      "displayName": "Panchal Dhruv",
      "userId": "08685030827788807431"
     },
     "user_tz": -330
    },
    "id": "Bm_ogHrG6OGC",
    "outputId": "a24cbc62-979a-483f-af12-b3a417a6ac13"
   },
   "outputs": [
    {
     "data": {
      "text/plain": [
       "tensor([[-1.1093,  0.4230],\n",
       "        [-1.5308, -0.3118],\n",
       "        [-0.9423, -0.0324]], grad_fn=<TBackward0>)"
      ]
     },
     "execution_count": 88,
     "metadata": {},
     "output_type": "execute_result"
    }
   ],
   "source": [
    "w.t()\n",
    "\n",
    "## we convert it into 3 X 2"
   ]
  },
  {
   "cell_type": "code",
   "execution_count": null,
   "metadata": {
    "colab": {
     "base_uri": "https://localhost:8080/"
    },
    "executionInfo": {
     "elapsed": 4,
     "status": "ok",
     "timestamp": 1707574864245,
     "user": {
      "displayName": "Panchal Dhruv",
      "userId": "08685030827788807431"
     },
     "user_tz": -330
    },
    "id": "6Thtw4XJY6Ol",
    "outputId": "a5dd5836-5f25-45a0-e789-78caece0cb5b"
   },
   "outputs": [
    {
     "data": {
      "text/plain": [
       "tensor([[ 73.,  67.,  43.],\n",
       "        [ 91.,  88.,  64.],\n",
       "        [ 87., 134.,  58.],\n",
       "        [102.,  43.,  37.],\n",
       "        [ 69.,  96.,  70.]])"
      ]
     },
     "execution_count": 91,
     "metadata": {},
     "output_type": "execute_result"
    }
   ],
   "source": [
    "input\n",
    "## 5 X 3"
   ]
  },
  {
   "cell_type": "code",
   "execution_count": null,
   "metadata": {
    "colab": {
     "base_uri": "https://localhost:8080/"
    },
    "executionInfo": {
     "elapsed": 3,
     "status": "ok",
     "timestamp": 1707574869583,
     "user": {
      "displayName": "Panchal Dhruv",
      "userId": "08685030827788807431"
     },
     "user_tz": -330
    },
    "id": "1JLJy7_TZK2J",
    "outputId": "bee9c006-f2d2-4862-98b5-291e94fb58a2"
   },
   "outputs": [
    {
     "data": {
      "text/plain": [
       "tensor([[ 56.,  70.],\n",
       "        [ 81., 101.],\n",
       "        [119., 133.],\n",
       "        [ 22.,  37.],\n",
       "        [103., 119.]])"
      ]
     },
     "execution_count": 92,
     "metadata": {},
     "output_type": "execute_result"
    }
   ],
   "source": [
    "target\n",
    "## 5 X 2"
   ]
  },
  {
   "cell_type": "code",
   "execution_count": null,
   "metadata": {
    "colab": {
     "base_uri": "https://localhost:8080/"
    },
    "executionInfo": {
     "elapsed": 3,
     "status": "ok",
     "timestamp": 1707574876644,
     "user": {
      "displayName": "Panchal Dhruv",
      "userId": "08685030827788807431"
     },
     "user_tz": -330
    },
    "id": "tPpu_05yY0eN",
    "outputId": "b2a0735b-821f-43dd-9d6e-cef559b531f6"
   },
   "outputs": [
    {
     "data": {
      "text/plain": [
       "tensor([[-224.0623,    8.5922],\n",
       "        [-295.9654,    8.9770],\n",
       "        [-356.2931,   -6.8614],\n",
       "        [-213.8368,   28.5349],\n",
       "        [-289.4623,   -3.0167]], grad_fn=<MmBackward0>)"
      ]
     },
     "execution_count": 93,
     "metadata": {},
     "output_type": "execute_result"
    }
   ],
   "source": [
    "input @ w.t()"
   ]
  },
  {
   "cell_type": "code",
   "execution_count": null,
   "metadata": {
    "colab": {
     "base_uri": "https://localhost:8080/"
    },
    "executionInfo": {
     "elapsed": 3,
     "status": "ok",
     "timestamp": 1707574901164,
     "user": {
      "displayName": "Panchal Dhruv",
      "userId": "08685030827788807431"
     },
     "user_tz": -330
    },
    "id": "eZ1-psnZZRsW",
    "outputId": "cb1affdb-21df-4d39-82cf-22b6c29d541f"
   },
   "outputs": [
    {
     "data": {
      "text/plain": [
       "tensor([-1.1062,  0.8582], requires_grad=True)"
      ]
     },
     "execution_count": 94,
     "metadata": {},
     "output_type": "execute_result"
    }
   ],
   "source": [
    "b"
   ]
  },
  {
   "cell_type": "code",
   "execution_count": null,
   "metadata": {
    "colab": {
     "base_uri": "https://localhost:8080/"
    },
    "executionInfo": {
     "elapsed": 2,
     "status": "ok",
     "timestamp": 1707574910039,
     "user": {
      "displayName": "Panchal Dhruv",
      "userId": "08685030827788807431"
     },
     "user_tz": -330
    },
    "id": "_4gag7zwY4Lj",
    "outputId": "71b8ca22-ca97-4f3e-bbb1-da0e221efb3c"
   },
   "outputs": [
    {
     "data": {
      "text/plain": [
       "tensor([[-225.1685,    9.4504],\n",
       "        [-297.0717,    9.8352],\n",
       "        [-357.3993,   -6.0032],\n",
       "        [-214.9430,   29.3931],\n",
       "        [-290.5685,   -2.1585]], grad_fn=<AddBackward0>)"
      ]
     },
     "execution_count": 95,
     "metadata": {},
     "output_type": "execute_result"
    }
   ],
   "source": [
    "input @ w.t() + b"
   ]
  },
  {
   "cell_type": "code",
   "execution_count": null,
   "metadata": {
    "colab": {
     "base_uri": "https://localhost:8080/"
    },
    "executionInfo": {
     "elapsed": 2,
     "status": "ok",
     "timestamp": 1707575061611,
     "user": {
      "displayName": "Panchal Dhruv",
      "userId": "08685030827788807431"
     },
     "user_tz": -330
    },
    "id": "JSr2WUIvZUlm",
    "outputId": "7ef275ff-c9a7-49d7-b8aa-3a3957b162ec"
   },
   "outputs": [
    {
     "data": {
      "text/plain": [
       "tensor([[ 56.,  70.],\n",
       "        [ 81., 101.],\n",
       "        [119., 133.],\n",
       "        [ 22.,  37.],\n",
       "        [103., 119.]])"
      ]
     },
     "execution_count": 99,
     "metadata": {},
     "output_type": "execute_result"
    }
   ],
   "source": [
    "target"
   ]
  },
  {
   "cell_type": "code",
   "execution_count": null,
   "metadata": {
    "colab": {
     "base_uri": "https://localhost:8080/"
    },
    "executionInfo": {
     "elapsed": 3,
     "status": "ok",
     "timestamp": 1707575052131,
     "user": {
      "displayName": "Panchal Dhruv",
      "userId": "08685030827788807431"
     },
     "user_tz": -330
    },
    "id": "Lygo3m54ZpWb",
    "outputId": "572cad1e-b35d-4ec6-a7ea-00fd41856946"
   },
   "outputs": [
    {
     "data": {
      "text/plain": [
       "tensor([[-225.1685,    9.4504],\n",
       "        [-297.0717,    9.8352],\n",
       "        [-357.3993,   -6.0032],\n",
       "        [-214.9430,   29.3931],\n",
       "        [-290.5685,   -2.1585]], grad_fn=<AddBackward0>)"
      ]
     },
     "execution_count": 98,
     "metadata": {},
     "output_type": "execute_result"
    }
   ],
   "source": [
    "predict"
   ]
  },
  {
   "cell_type": "code",
   "execution_count": null,
   "metadata": {
    "id": "rQ6OLiK9Z4Oi"
   },
   "outputs": [],
   "source": [
    "def mse(actual,target) :\n",
    "    diff = actual - target\n",
    "    return torch.sum(diff*diff)/diff.numel()"
   ]
  },
  {
   "cell_type": "code",
   "execution_count": null,
   "metadata": {
    "colab": {
     "base_uri": "https://localhost:8080/"
    },
    "executionInfo": {
     "elapsed": 2,
     "status": "ok",
     "timestamp": 1707575202686,
     "user": {
      "displayName": "Panchal Dhruv",
      "userId": "08685030827788807431"
     },
     "user_tz": -330
    },
    "id": "hEC3MDB6aY6E",
    "outputId": "1d5c604c-b47d-466e-907e-8793851fada2"
   },
   "outputs": [
    {
     "data": {
      "text/plain": [
       "tensor(70602.4766, grad_fn=<DivBackward0>)"
      ]
     },
     "execution_count": 102,
     "metadata": {},
     "output_type": "execute_result"
    }
   ],
   "source": [
    "mse(target,predict)"
   ]
  },
  {
   "cell_type": "code",
   "execution_count": null,
   "metadata": {
    "id": "BdXw8eYpabwy"
   },
   "outputs": [],
   "source": [
    "def mse(actual,target) :\n",
    "    diff = (actual - target)**2\n",
    "    return torch.sum(diff)/diff.numel()"
   ]
  },
  {
   "cell_type": "code",
   "execution_count": null,
   "metadata": {
    "id": "_tC7q_8Gai9y"
   },
   "outputs": [],
   "source": [
    "loss = mse(target,predict)"
   ]
  },
  {
   "cell_type": "code",
   "execution_count": null,
   "metadata": {
    "colab": {
     "base_uri": "https://localhost:8080/"
    },
    "executionInfo": {
     "elapsed": 3,
     "status": "ok",
     "timestamp": 1707575258025,
     "user": {
      "displayName": "Panchal Dhruv",
      "userId": "08685030827788807431"
     },
     "user_tz": -330
    },
    "id": "W8yVQpPtaj6E",
    "outputId": "e2c21ad7-065b-49ca-a234-037259da9388"
   },
   "outputs": [
    {
     "data": {
      "text/plain": [
       "tensor([[ 56.,  70.],\n",
       "        [ 81., 101.],\n",
       "        [119., 133.],\n",
       "        [ 22.,  37.],\n",
       "        [103., 119.]])"
      ]
     },
     "execution_count": 105,
     "metadata": {},
     "output_type": "execute_result"
    }
   ],
   "source": [
    "target"
   ]
  },
  {
   "cell_type": "code",
   "execution_count": null,
   "metadata": {
    "colab": {
     "base_uri": "https://localhost:8080/"
    },
    "executionInfo": {
     "elapsed": 3,
     "status": "ok",
     "timestamp": 1707575263476,
     "user": {
      "displayName": "Panchal Dhruv",
      "userId": "08685030827788807431"
     },
     "user_tz": -330
    },
    "id": "s-uqPop5aqQP",
    "outputId": "ad228731-5fb5-41af-c66e-8cbb6cdcbd52"
   },
   "outputs": [
    {
     "data": {
      "text/plain": [
       "10"
      ]
     },
     "execution_count": 106,
     "metadata": {},
     "output_type": "execute_result"
    }
   ],
   "source": [
    "## number of element\n",
    "target.numel()"
   ]
  },
  {
   "cell_type": "code",
   "execution_count": null,
   "metadata": {
    "colab": {
     "base_uri": "https://localhost:8080/"
    },
    "executionInfo": {
     "elapsed": 4,
     "status": "ok",
     "timestamp": 1707575304222,
     "user": {
      "displayName": "Panchal Dhruv",
      "userId": "08685030827788807431"
     },
     "user_tz": -330
    },
    "id": "aOSFN_Wzarqh",
    "outputId": "14bda84c-eb43-4d4d-d59d-6615392c3541"
   },
   "outputs": [
    {
     "data": {
      "text/plain": [
       "tensor(70602.4766, grad_fn=<DivBackward0>)"
      ]
     },
     "execution_count": 108,
     "metadata": {},
     "output_type": "execute_result"
    }
   ],
   "source": [
    "loss"
   ]
  },
  {
   "cell_type": "code",
   "execution_count": null,
   "metadata": {
    "id": "0pJPCHmWa1pi"
   },
   "outputs": [],
   "source": [
    "loss.backward()"
   ]
  },
  {
   "cell_type": "code",
   "execution_count": null,
   "metadata": {
    "id": "83KNYAOha4CS"
   },
   "outputs": [],
   "source": [
    "input.grad"
   ]
  },
  {
   "cell_type": "code",
   "execution_count": null,
   "metadata": {
    "colab": {
     "base_uri": "https://localhost:8080/"
    },
    "executionInfo": {
     "elapsed": 6,
     "status": "ok",
     "timestamp": 1707575380902,
     "user": {
      "displayName": "Panchal Dhruv",
      "userId": "08685030827788807431"
     },
     "user_tz": -330
    },
    "id": "pgY_Yw-7a5--",
    "outputId": "8ff62f5c-4ef7-4b8a-fda6-a5914bdccb30"
   },
   "outputs": [
    {
     "data": {
      "text/plain": [
       "tensor([[-29540.1973, -32783.4492, -20046.9375],\n",
       "        [ -6789.0459,  -8532.8125,  -5052.5820]])"
      ]
     },
     "execution_count": 115,
     "metadata": {},
     "output_type": "execute_result"
    }
   ],
   "source": [
    "w.grad"
   ]
  },
  {
   "cell_type": "code",
   "execution_count": null,
   "metadata": {
    "colab": {
     "base_uri": "https://localhost:8080/"
    },
    "executionInfo": {
     "elapsed": 2,
     "status": "ok",
     "timestamp": 1707575383579,
     "user": {
      "displayName": "Panchal Dhruv",
      "userId": "08685030827788807431"
     },
     "user_tz": -330
    },
    "id": "lrGeUtRkbD-f",
    "outputId": "47b058f0-5d1b-44d5-cda2-4b841ea8dec8"
   },
   "outputs": [
    {
     "data": {
      "text/plain": [
       "tensor([-353.2302,  -83.8966])"
      ]
     },
     "execution_count": 116,
     "metadata": {},
     "output_type": "execute_result"
    }
   ],
   "source": [
    "b.grad"
   ]
  },
  {
   "cell_type": "code",
   "execution_count": null,
   "metadata": {
    "id": "sqSEc9Q3bEwB"
   },
   "outputs": [],
   "source": [
    "## now w zero gradient"
   ]
  },
  {
   "cell_type": "code",
   "execution_count": null,
   "metadata": {
    "colab": {
     "base_uri": "https://localhost:8080/"
    },
    "executionInfo": {
     "elapsed": 3,
     "status": "ok",
     "timestamp": 1707575485738,
     "user": {
      "displayName": "Panchal Dhruv",
      "userId": "08685030827788807431"
     },
     "user_tz": -330
    },
    "id": "ymPUDYq8bbVk",
    "outputId": "6b1fb49c-d3e3-42d9-dd02-a33b1e352a45"
   },
   "outputs": [
    {
     "data": {
      "text/plain": [
       "tensor([[0., 0., 0.],\n",
       "        [0., 0., 0.]])"
      ]
     },
     "execution_count": 118,
     "metadata": {},
     "output_type": "execute_result"
    }
   ],
   "source": [
    "w.grad.zero_()\n"
   ]
  },
  {
   "cell_type": "code",
   "execution_count": null,
   "metadata": {
    "colab": {
     "base_uri": "https://localhost:8080/"
    },
    "executionInfo": {
     "elapsed": 2,
     "status": "ok",
     "timestamp": 1707575491251,
     "user": {
      "displayName": "Panchal Dhruv",
      "userId": "08685030827788807431"
     },
     "user_tz": -330
    },
    "id": "_q6emloZbh6a",
    "outputId": "2e3e966e-1e29-40b6-9d30-8d5edb1a2362"
   },
   "outputs": [
    {
     "name": "stdout",
     "output_type": "stream",
     "text": [
      "tensor([[0., 0., 0.],\n",
      "        [0., 0., 0.]])\n"
     ]
    }
   ],
   "source": [
    "print(w.grad)"
   ]
  },
  {
   "cell_type": "code",
   "execution_count": null,
   "metadata": {
    "colab": {
     "base_uri": "https://localhost:8080/",
     "height": 175
    },
    "executionInfo": {
     "elapsed": 5,
     "status": "error",
     "timestamp": 1707575496365,
     "user": {
      "displayName": "Panchal Dhruv",
      "userId": "08685030827788807431"
     },
     "user_tz": -330
    },
    "id": "xKT1Wk8ebjPw",
    "outputId": "08e42fe5-c90a-44b0-d5f7-b01b896c5ac1"
   },
   "outputs": [
    {
     "ename": "TypeError",
     "evalue": "'Tensor' object is not callable",
     "output_type": "error",
     "traceback": [
      "\u001b[0;31m---------------------------------------------------------------------------\u001b[0m",
      "\u001b[0;31mTypeError\u001b[0m                                 Traceback (most recent call last)",
      "\u001b[0;32m<ipython-input-120-2ebe2c130b34>\u001b[0m in \u001b[0;36m<cell line: 1>\u001b[0;34m()\u001b[0m\n\u001b[0;32m----> 1\u001b[0;31m \u001b[0mprint\u001b[0m\u001b[0;34m(\u001b[0m\u001b[0mw\u001b[0m\u001b[0;34m.\u001b[0m\u001b[0mgrad\u001b[0m\u001b[0;34m(\u001b[0m\u001b[0;34m)\u001b[0m\u001b[0;34m)\u001b[0m\u001b[0;34m\u001b[0m\u001b[0;34m\u001b[0m\u001b[0m\n\u001b[0m",
      "\u001b[0;31mTypeError\u001b[0m: 'Tensor' object is not callable"
     ]
    }
   ],
   "source": [
    "print(w.grad())"
   ]
  },
  {
   "cell_type": "code",
   "execution_count": null,
   "metadata": {
    "colab": {
     "base_uri": "https://localhost:8080/"
    },
    "executionInfo": {
     "elapsed": 2,
     "status": "ok",
     "timestamp": 1707575508276,
     "user": {
      "displayName": "Panchal Dhruv",
      "userId": "08685030827788807431"
     },
     "user_tz": -330
    },
    "id": "5GJRnzIVbkYv",
    "outputId": "a54c9c60-f792-4520-d2cb-9dd5c401c67d"
   },
   "outputs": [
    {
     "data": {
      "text/plain": [
       "tensor([-353.2302,  -83.8966])"
      ]
     },
     "execution_count": 121,
     "metadata": {},
     "output_type": "execute_result"
    }
   ],
   "source": [
    "b.grad"
   ]
  },
  {
   "cell_type": "code",
   "execution_count": null,
   "metadata": {
    "colab": {
     "base_uri": "https://localhost:8080/"
    },
    "executionInfo": {
     "elapsed": 3,
     "status": "ok",
     "timestamp": 1707575526152,
     "user": {
      "displayName": "Panchal Dhruv",
      "userId": "08685030827788807431"
     },
     "user_tz": -330
    },
    "id": "pyJjREwNbnnW",
    "outputId": "85184481-d44c-442d-8cac-999158c0410d"
   },
   "outputs": [
    {
     "data": {
      "text/plain": [
       "tensor([0., 0.])"
      ]
     },
     "execution_count": 122,
     "metadata": {},
     "output_type": "execute_result"
    }
   ],
   "source": [
    "b.grad.zero_()"
   ]
  },
  {
   "cell_type": "code",
   "execution_count": null,
   "metadata": {
    "colab": {
     "base_uri": "https://localhost:8080/"
    },
    "executionInfo": {
     "elapsed": 2,
     "status": "ok",
     "timestamp": 1707575531992,
     "user": {
      "displayName": "Panchal Dhruv",
      "userId": "08685030827788807431"
     },
     "user_tz": -330
    },
    "id": "Na1HeWt6br3o",
    "outputId": "04a82f0e-ad87-476f-eddc-c7ba040b07fb"
   },
   "outputs": [
    {
     "name": "stdout",
     "output_type": "stream",
     "text": [
      "tensor([0., 0.])\n"
     ]
    }
   ],
   "source": [
    "print(b.grad)"
   ]
  },
  {
   "cell_type": "code",
   "execution_count": null,
   "metadata": {
    "id": "2EuiGr08btHK"
   },
   "outputs": [],
   "source": [
    "## we do the gradient reset beacuse we do prediction on multiple time"
   ]
  },
  {
   "cell_type": "code",
   "execution_count": null,
   "metadata": {
    "id": "x9RQCsmIb9eN"
   },
   "outputs": [],
   "source": [
    "## adjust parameters"
   ]
  },
  {
   "cell_type": "code",
   "execution_count": null,
   "metadata": {
    "id": "0afZexAdcHN5"
   },
   "outputs": [],
   "source": [
    "predict = model(input)"
   ]
  },
  {
   "cell_type": "code",
   "execution_count": null,
   "metadata": {
    "colab": {
     "base_uri": "https://localhost:8080/"
    },
    "executionInfo": {
     "elapsed": 2,
     "status": "ok",
     "timestamp": 1707575680381,
     "user": {
      "displayName": "Panchal Dhruv",
      "userId": "08685030827788807431"
     },
     "user_tz": -330
    },
    "id": "ck8qEbsacQcS",
    "outputId": "e14e9033-9778-4686-c052-eb9b3ca0ae98"
   },
   "outputs": [
    {
     "data": {
      "text/plain": [
       "tensor([[-225.1685,    9.4504],\n",
       "        [-297.0717,    9.8352],\n",
       "        [-357.3993,   -6.0032],\n",
       "        [-214.9430,   29.3931],\n",
       "        [-290.5685,   -2.1585]], grad_fn=<AddBackward0>)"
      ]
     },
     "execution_count": 127,
     "metadata": {},
     "output_type": "execute_result"
    }
   ],
   "source": [
    "predict"
   ]
  },
  {
   "cell_type": "code",
   "execution_count": null,
   "metadata": {
    "id": "pjonsLVxcRWj"
   },
   "outputs": [],
   "source": [
    "loss = mse(target,predict)"
   ]
  },
  {
   "cell_type": "code",
   "execution_count": null,
   "metadata": {
    "colab": {
     "base_uri": "https://localhost:8080/"
    },
    "executionInfo": {
     "elapsed": 2,
     "status": "ok",
     "timestamp": 1707575706499,
     "user": {
      "displayName": "Panchal Dhruv",
      "userId": "08685030827788807431"
     },
     "user_tz": -330
    },
    "id": "YyiP5-0DcXVk",
    "outputId": "80814a8e-3058-4019-c459-85b86df69c23"
   },
   "outputs": [
    {
     "data": {
      "text/plain": [
       "tensor(70602.4766, grad_fn=<DivBackward0>)"
      ]
     },
     "execution_count": 129,
     "metadata": {},
     "output_type": "execute_result"
    }
   ],
   "source": [
    "loss"
   ]
  },
  {
   "cell_type": "code",
   "execution_count": null,
   "metadata": {
    "id": "tcKvy28OcXzM"
   },
   "outputs": [],
   "source": [
    "loss.backward()"
   ]
  },
  {
   "cell_type": "code",
   "execution_count": null,
   "metadata": {
    "colab": {
     "base_uri": "https://localhost:8080/"
    },
    "executionInfo": {
     "elapsed": 4,
     "status": "ok",
     "timestamp": 1707575732097,
     "user": {
      "displayName": "Panchal Dhruv",
      "userId": "08685030827788807431"
     },
     "user_tz": -330
    },
    "id": "lvr2uZwtca1U",
    "outputId": "f16f8cea-dfec-46b4-8659-c87fefca93ff"
   },
   "outputs": [
    {
     "name": "stdout",
     "output_type": "stream",
     "text": [
      "tensor([[-29540.1973, -32783.4492, -20046.9375],\n",
      "        [ -6789.0459,  -8532.8125,  -5052.5820]])\n",
      "tensor([-353.2302,  -83.8966])\n"
     ]
    }
   ],
   "source": [
    "print(w.grad)\n",
    "print(b.grad)"
   ]
  },
  {
   "cell_type": "code",
   "execution_count": null,
   "metadata": {
    "id": "rDECgw8mcd8X"
   },
   "outputs": [],
   "source": [
    "with torch.no_grad():\n",
    "    w -= w.grad*1e-5\n",
    "    b -= b.grad*1e-5\n",
    "    w.grad.zero_()\n",
    "    b.grad.zero_()"
   ]
  },
  {
   "cell_type": "code",
   "execution_count": null,
   "metadata": {
    "colab": {
     "base_uri": "https://localhost:8080/"
    },
    "executionInfo": {
     "elapsed": 3,
     "status": "ok",
     "timestamp": 1707576247749,
     "user": {
      "displayName": "Panchal Dhruv",
      "userId": "08685030827788807431"
     },
     "user_tz": -330
    },
    "id": "640SmJj2eYJ6",
    "outputId": "7f2d931e-39f7-4338-9be2-0ea6414d2dfd"
   },
   "outputs": [
    {
     "name": "stdout",
     "output_type": "stream",
     "text": [
      "tensor([[-0.5185, -0.8752, -0.5414],\n",
      "        [ 0.5587, -0.1411,  0.0686]], requires_grad=True)\n",
      "tensor([-1.0992,  0.8599], requires_grad=True)\n"
     ]
    }
   ],
   "source": [
    "print(w)\n",
    "print(b)"
   ]
  },
  {
   "cell_type": "code",
   "execution_count": null,
   "metadata": {
    "id": "yCUlFA1Neb9K"
   },
   "outputs": [],
   "source": [
    "pred = model(input)"
   ]
  },
  {
   "cell_type": "code",
   "execution_count": null,
   "metadata": {
    "colab": {
     "base_uri": "https://localhost:8080/"
    },
    "executionInfo": {
     "elapsed": 734,
     "status": "ok",
     "timestamp": 1707576263165,
     "user": {
      "displayName": "Panchal Dhruv",
      "userId": "08685030827788807431"
     },
     "user_tz": -330
    },
    "id": "WQsrmQmree7i",
    "outputId": "0606aae5-1312-418f-b69f-19328be402eb"
   },
   "outputs": [
    {
     "data": {
      "text/plain": [
       "tensor([[-120.8626,   35.1433],\n",
       "        [-159.9425,   43.6780],\n",
       "        [-194.8783,   34.5403],\n",
       "        [-111.6455,   54.3216],\n",
       "        [-158.7861,   30.6687]], grad_fn=<AddBackward0>)"
      ]
     },
     "execution_count": 136,
     "metadata": {},
     "output_type": "execute_result"
    }
   ],
   "source": [
    "pred"
   ]
  },
  {
   "cell_type": "code",
   "execution_count": null,
   "metadata": {
    "colab": {
     "base_uri": "https://localhost:8080/"
    },
    "executionInfo": {
     "elapsed": 619,
     "status": "ok",
     "timestamp": 1707576284314,
     "user": {
      "displayName": "Panchal Dhruv",
      "userId": "08685030827788807431"
     },
     "user_tz": -330
    },
    "id": "t6ogLU4pefi7",
    "outputId": "996789f5-dea1-4e35-aebc-30108fff9d17"
   },
   "outputs": [
    {
     "data": {
      "text/plain": [
       "tensor(29654.3848, grad_fn=<DivBackward0>)"
      ]
     },
     "execution_count": 137,
     "metadata": {},
     "output_type": "execute_result"
    }
   ],
   "source": [
    "loss = mse(target,pred)\n",
    "loss"
   ]
  },
  {
   "cell_type": "code",
   "execution_count": null,
   "metadata": {
    "id": "5F65UyKkek9l"
   },
   "outputs": [],
   "source": [
    "with torch.no_grad():\n",
    "    w -= w.grad*1e-5\n",
    "    b -= b.grad*1e-5\n",
    "    w.grad.zero_()\n",
    "    b.grad.zero_()"
   ]
  },
  {
   "cell_type": "code",
   "execution_count": null,
   "metadata": {
    "colab": {
     "base_uri": "https://localhost:8080/"
    },
    "executionInfo": {
     "elapsed": 635,
     "status": "ok",
     "timestamp": 1707576307698,
     "user": {
      "displayName": "Panchal Dhruv",
      "userId": "08685030827788807431"
     },
     "user_tz": -330
    },
    "id": "YdiqtTKZepdx",
    "outputId": "250b62da-4cf0-4a18-f055-982796366976"
   },
   "outputs": [
    {
     "name": "stdout",
     "output_type": "stream",
     "text": [
      "tensor([[-0.5185, -0.8752, -0.5414],\n",
      "        [ 0.5587, -0.1411,  0.0686]], requires_grad=True)\n",
      "tensor([-1.0992,  0.8599], requires_grad=True)\n"
     ]
    }
   ],
   "source": [
    "print(w)\n",
    "print(b)"
   ]
  },
  {
   "cell_type": "code",
   "execution_count": null,
   "metadata": {
    "colab": {
     "base_uri": "https://localhost:8080/"
    },
    "executionInfo": {
     "elapsed": 618,
     "status": "ok",
     "timestamp": 1707576507812,
     "user": {
      "displayName": "Panchal Dhruv",
      "userId": "08685030827788807431"
     },
     "user_tz": -330
    },
    "id": "eMW7iJoueqqi",
    "outputId": "3eab606e-a2d6-4e2e-9a05-8f2ff6a1d17f"
   },
   "outputs": [
    {
     "name": "stdout",
     "output_type": "stream",
     "text": [
      "Epoches 0 and loss 535.2537231445312\n",
      "Epoches 1 and loss 528.7781372070312\n",
      "Epoches 2 and loss 522.3836669921875\n",
      "Epoches 3 and loss 516.069580078125\n",
      "Epoches 4 and loss 509.83465576171875\n",
      "Epoches 5 and loss 503.67791748046875\n",
      "Epoches 6 and loss 497.59844970703125\n",
      "Epoches 7 and loss 491.59515380859375\n",
      "Epoches 8 and loss 485.667236328125\n",
      "Epoches 9 and loss 479.8135681152344\n",
      "Epoches 10 and loss 474.03350830078125\n",
      "Epoches 11 and loss 468.3257751464844\n",
      "Epoches 12 and loss 462.68963623046875\n",
      "Epoches 13 and loss 457.12420654296875\n",
      "Epoches 14 and loss 451.62860107421875\n",
      "Epoches 15 and loss 446.20184326171875\n",
      "Epoches 16 and loss 440.84307861328125\n",
      "Epoches 17 and loss 435.551513671875\n",
      "Epoches 18 and loss 430.326171875\n",
      "Epoches 19 and loss 425.1664123535156\n",
      "Epoches 20 and loss 420.0712890625\n",
      "Epoches 21 and loss 415.03997802734375\n",
      "Epoches 22 and loss 410.0716857910156\n",
      "Epoches 23 and loss 405.1656799316406\n",
      "Epoches 24 and loss 400.32110595703125\n",
      "Epoches 25 and loss 395.5372314453125\n",
      "Epoches 26 and loss 390.81329345703125\n",
      "Epoches 27 and loss 386.14849853515625\n",
      "Epoches 28 and loss 381.54205322265625\n",
      "Epoches 29 and loss 376.99334716796875\n",
      "Epoches 30 and loss 372.5016174316406\n",
      "Epoches 31 and loss 368.0660095214844\n",
      "Epoches 32 and loss 363.6859436035156\n",
      "Epoches 33 and loss 359.36083984375\n",
      "Epoches 34 and loss 355.08966064453125\n",
      "Epoches 35 and loss 350.87213134765625\n",
      "Epoches 36 and loss 346.707275390625\n",
      "Epoches 37 and loss 342.5945129394531\n",
      "Epoches 38 and loss 338.5333557128906\n",
      "Epoches 39 and loss 334.5227966308594\n",
      "Epoches 40 and loss 330.5624084472656\n",
      "Epoches 41 and loss 326.6516418457031\n",
      "Epoches 42 and loss 322.78973388671875\n",
      "Epoches 43 and loss 318.97613525390625\n",
      "Epoches 44 and loss 315.210205078125\n",
      "Epoches 45 and loss 311.4913635253906\n",
      "Epoches 46 and loss 307.81903076171875\n",
      "Epoches 47 and loss 304.1924743652344\n",
      "Epoches 48 and loss 300.6114196777344\n",
      "Epoches 49 and loss 297.0751037597656\n",
      "Epoches 50 and loss 293.58282470703125\n",
      "Epoches 51 and loss 290.13421630859375\n",
      "Epoches 52 and loss 286.7286376953125\n",
      "Epoches 53 and loss 283.36578369140625\n",
      "Epoches 54 and loss 280.0447082519531\n",
      "Epoches 55 and loss 276.7652282714844\n",
      "Epoches 56 and loss 273.52667236328125\n",
      "Epoches 57 and loss 270.3285827636719\n",
      "Epoches 58 and loss 267.1703186035156\n",
      "Epoches 59 and loss 264.051513671875\n",
      "Epoches 60 and loss 260.97161865234375\n",
      "Epoches 61 and loss 257.93017578125\n",
      "Epoches 62 and loss 254.9266815185547\n",
      "Epoches 63 and loss 251.9606475830078\n",
      "Epoches 64 and loss 249.03164672851562\n",
      "Epoches 65 and loss 246.1391143798828\n",
      "Epoches 66 and loss 243.2825927734375\n",
      "Epoches 67 and loss 240.4617919921875\n",
      "Epoches 68 and loss 237.6761474609375\n",
      "Epoches 69 and loss 234.92520141601562\n",
      "Epoches 70 and loss 232.2084197998047\n",
      "Epoches 71 and loss 229.525634765625\n",
      "Epoches 72 and loss 226.876220703125\n",
      "Epoches 73 and loss 224.25985717773438\n",
      "Epoches 74 and loss 221.676025390625\n",
      "Epoches 75 and loss 219.12442016601562\n",
      "Epoches 76 and loss 216.6045379638672\n",
      "Epoches 77 and loss 214.1160430908203\n",
      "Epoches 78 and loss 211.65853881835938\n",
      "Epoches 79 and loss 209.23159790039062\n",
      "Epoches 80 and loss 206.8348846435547\n",
      "Epoches 81 and loss 204.4679718017578\n",
      "Epoches 82 and loss 202.13052368164062\n",
      "Epoches 83 and loss 199.82205200195312\n",
      "Epoches 84 and loss 197.5424346923828\n",
      "Epoches 85 and loss 195.29110717773438\n",
      "Epoches 86 and loss 193.06773376464844\n",
      "Epoches 87 and loss 190.87203979492188\n",
      "Epoches 88 and loss 188.7035369873047\n",
      "Epoches 89 and loss 186.5620574951172\n",
      "Epoches 90 and loss 184.4472198486328\n",
      "Epoches 91 and loss 182.3585662841797\n",
      "Epoches 92 and loss 180.29595947265625\n",
      "Epoches 93 and loss 178.2588653564453\n",
      "Epoches 94 and loss 176.2470703125\n",
      "Epoches 95 and loss 174.26022338867188\n",
      "Epoches 96 and loss 172.29812622070312\n",
      "Epoches 97 and loss 170.36032104492188\n",
      "Epoches 98 and loss 168.4464874267578\n",
      "Epoches 99 and loss 166.55645751953125\n"
     ]
    }
   ],
   "source": [
    "for i in range(100):\n",
    "    pred = model(input)\n",
    "    loss = mse(target,pred)\n",
    "    loss.backward()\n",
    "    with torch.no_grad():\n",
    "        w -= w.grad*1e-5\n",
    "        b -= b.grad*1e-5\n",
    "        w.grad.zero_()\n",
    "        b.grad.zero_()\n",
    "    print(f\"Epoches {i} and loss {loss}\")"
   ]
  },
  {
   "cell_type": "code",
   "execution_count": null,
   "metadata": {
    "colab": {
     "base_uri": "https://localhost:8080/"
    },
    "executionInfo": {
     "elapsed": 4,
     "status": "ok",
     "timestamp": 1707576508533,
     "user": {
      "displayName": "Panchal Dhruv",
      "userId": "08685030827788807431"
     },
     "user_tz": -330
    },
    "id": "2BEhh9rafT4q",
    "outputId": "5ba7cbd1-0888-41b8-abf1-7d3342be4bbc"
   },
   "outputs": [
    {
     "name": "stdout",
     "output_type": "stream",
     "text": [
      "tensor([[0.0255, 0.7130, 0.2837],\n",
      "        [0.1930, 0.6505, 0.3812]], requires_grad=True)\n"
     ]
    }
   ],
   "source": [
    "print(w)"
   ]
  },
  {
   "cell_type": "code",
   "execution_count": null,
   "metadata": {
    "colab": {
     "base_uri": "https://localhost:8080/"
    },
    "executionInfo": {
     "elapsed": 7,
     "status": "ok",
     "timestamp": 1707576509016,
     "user": {
      "displayName": "Panchal Dhruv",
      "userId": "08685030827788807431"
     },
     "user_tz": -330
    },
    "id": "xwrSdcpRfXKp",
    "outputId": "53d91ef6-e681-4675-c93d-30c773290b3a"
   },
   "outputs": [
    {
     "name": "stdout",
     "output_type": "stream",
     "text": [
      "tensor([-1.0899,  0.8589], requires_grad=True)\n"
     ]
    }
   ],
   "source": [
    "print(b)"
   ]
  },
  {
   "cell_type": "code",
   "execution_count": null,
   "metadata": {
    "colab": {
     "base_uri": "https://localhost:8080/"
    },
    "executionInfo": {
     "elapsed": 598,
     "status": "ok",
     "timestamp": 1707576560970,
     "user": {
      "displayName": "Panchal Dhruv",
      "userId": "08685030827788807431"
     },
     "user_tz": -330
    },
    "id": "0-r11sV6fXvz",
    "outputId": "f9ddfc8a-2a44-4069-8577-08e51cde0668"
   },
   "outputs": [
    {
     "name": "stdout",
     "output_type": "stream",
     "text": [
      "tensor(164.6899, grad_fn=<DivBackward0>)\n"
     ]
    }
   ],
   "source": [
    "pred = model(input)\n",
    "loss = mse(target,pred)\n",
    "print(loss)"
   ]
  },
  {
   "cell_type": "code",
   "execution_count": null,
   "metadata": {
    "id": "QtOOVlfsfofj"
   },
   "outputs": [],
   "source": [
    "from math import sqrt"
   ]
  },
  {
   "cell_type": "code",
   "execution_count": null,
   "metadata": {
    "colab": {
     "base_uri": "https://localhost:8080/"
    },
    "executionInfo": {
     "elapsed": 562,
     "status": "ok",
     "timestamp": 1707576576991,
     "user": {
      "displayName": "Panchal Dhruv",
      "userId": "08685030827788807431"
     },
     "user_tz": -330
    },
    "id": "JPeYfD5Jfqsf",
    "outputId": "635a02cf-6b67-41f0-c6ee-7c5e6868fccc"
   },
   "outputs": [
    {
     "data": {
      "text/plain": [
       "12.833156105568218"
      ]
     },
     "execution_count": 148,
     "metadata": {},
     "output_type": "execute_result"
    }
   ],
   "source": [
    "sqrt(loss)"
   ]
  },
  {
   "cell_type": "code",
   "execution_count": null,
   "metadata": {
    "colab": {
     "base_uri": "https://localhost:8080/"
    },
    "executionInfo": {
     "elapsed": 3,
     "status": "ok",
     "timestamp": 1707576578751,
     "user": {
      "displayName": "Panchal Dhruv",
      "userId": "08685030827788807431"
     },
     "user_tz": -330
    },
    "id": "wOq-u2Z6fsQE",
    "outputId": "18989dd1-58ae-41a0-e0c6-d5a08e09db16"
   },
   "outputs": [
    {
     "data": {
      "text/plain": [
       "tensor([[ 60.7396,  74.9231],\n",
       "        [ 82.1284, 100.0630],\n",
       "        [113.1217, 126.9243],\n",
       "        [ 42.6654,  62.6226],\n",
       "        [ 88.9734, 103.3075]], grad_fn=<AddBackward0>)"
      ]
     },
     "execution_count": 149,
     "metadata": {},
     "output_type": "execute_result"
    }
   ],
   "source": [
    "pred"
   ]
  },
  {
   "cell_type": "code",
   "execution_count": null,
   "metadata": {
    "colab": {
     "base_uri": "https://localhost:8080/"
    },
    "executionInfo": {
     "elapsed": 3,
     "status": "ok",
     "timestamp": 1707576582682,
     "user": {
      "displayName": "Panchal Dhruv",
      "userId": "08685030827788807431"
     },
     "user_tz": -330
    },
    "id": "TgS3Hra3fss4",
    "outputId": "79dbec0a-0606-49fd-f5ee-1c513c34056b"
   },
   "outputs": [
    {
     "data": {
      "text/plain": [
       "tensor([[ 56.,  70.],\n",
       "        [ 81., 101.],\n",
       "        [119., 133.],\n",
       "        [ 22.,  37.],\n",
       "        [103., 119.]])"
      ]
     },
     "execution_count": 150,
     "metadata": {},
     "output_type": "execute_result"
    }
   ],
   "source": [
    "target"
   ]
  },
  {
   "cell_type": "code",
   "execution_count": null,
   "metadata": {
    "id": "hpeulbwHftxm"
   },
   "outputs": [],
   "source": []
  },
  {
   "cell_type": "code",
   "execution_count": null,
   "metadata": {
    "id": "3UtJHRieoasA"
   },
   "outputs": [],
   "source": [
    "## neural network using pytorch"
   ]
  },
  {
   "cell_type": "code",
   "execution_count": null,
   "metadata": {
    "colab": {
     "base_uri": "https://localhost:8080/"
    },
    "executionInfo": {
     "elapsed": 14,
     "status": "ok",
     "timestamp": 1707579094832,
     "user": {
      "displayName": "Panchal Dhruv",
      "userId": "08685030827788807431"
     },
     "user_tz": -330
    },
    "id": "C7ru1O1Ooavm",
    "outputId": "35ee838f-5eee-4be0-e452-d1faef058436"
   },
   "outputs": [
    {
     "name": "stdout",
     "output_type": "stream",
     "text": [
      "/bin/bash: line 1: nvidia-smi: command not found\n"
     ]
    }
   ],
   "source": [
    "## to check gpu\n",
    "!nvidia-smi"
   ]
  },
  {
   "cell_type": "markdown",
   "metadata": {
    "id": "sCBB8V6gpPeg"
   },
   "source": []
  },
  {
   "cell_type": "code",
   "execution_count": null,
   "metadata": {
    "id": "0wZ9edmIonsc"
   },
   "outputs": [],
   "source": [
    "import torch"
   ]
  },
  {
   "cell_type": "code",
   "execution_count": null,
   "metadata": {
    "id": "sxp2mOU5owDt"
   },
   "outputs": [],
   "source": [
    "from torch import nn"
   ]
  },
  {
   "cell_type": "code",
   "execution_count": null,
   "metadata": {
    "id": "47lA1X81pSbB"
   },
   "outputs": [],
   "source": [
    "from torch.utils.data import DataLoader\n",
    "from torchvision import datasets\n",
    "from torchvision.transforms import ToTensor, Lambda, Compose\n",
    "import matplotlib.pyplot as plt\n"
   ]
  },
  {
   "cell_type": "markdown",
   "metadata": {
    "id": "CH4AWhkwtSm2"
   },
   "source": []
  },
  {
   "cell_type": "code",
   "execution_count": null,
   "metadata": {
    "colab": {
     "base_uri": "https://localhost:8080/"
    },
    "executionInfo": {
     "elapsed": 5694,
     "status": "ok",
     "timestamp": 1707579467691,
     "user": {
      "displayName": "Panchal Dhruv",
      "userId": "08685030827788807431"
     },
     "user_tz": -330
    },
    "id": "fjAgw5VYp2Rm",
    "outputId": "a4fca092-898a-4439-b581-f88210d5f69c"
   },
   "outputs": [
    {
     "name": "stdout",
     "output_type": "stream",
     "text": [
      "Downloading http://fashion-mnist.s3-website.eu-central-1.amazonaws.com/train-images-idx3-ubyte.gz\n",
      "Downloading http://fashion-mnist.s3-website.eu-central-1.amazonaws.com/train-images-idx3-ubyte.gz to data/FashionMNIST/raw/train-images-idx3-ubyte.gz\n"
     ]
    },
    {
     "name": "stderr",
     "output_type": "stream",
     "text": [
      "100%|██████████| 26421880/26421880 [00:01<00:00, 16271163.40it/s]\n"
     ]
    },
    {
     "name": "stdout",
     "output_type": "stream",
     "text": [
      "Extracting data/FashionMNIST/raw/train-images-idx3-ubyte.gz to data/FashionMNIST/raw\n",
      "\n",
      "Downloading http://fashion-mnist.s3-website.eu-central-1.amazonaws.com/train-labels-idx1-ubyte.gz\n",
      "Downloading http://fashion-mnist.s3-website.eu-central-1.amazonaws.com/train-labels-idx1-ubyte.gz to data/FashionMNIST/raw/train-labels-idx1-ubyte.gz\n"
     ]
    },
    {
     "name": "stderr",
     "output_type": "stream",
     "text": [
      "100%|██████████| 29515/29515 [00:00<00:00, 266952.93it/s]\n"
     ]
    },
    {
     "name": "stdout",
     "output_type": "stream",
     "text": [
      "Extracting data/FashionMNIST/raw/train-labels-idx1-ubyte.gz to data/FashionMNIST/raw\n",
      "\n",
      "Downloading http://fashion-mnist.s3-website.eu-central-1.amazonaws.com/t10k-images-idx3-ubyte.gz\n",
      "Downloading http://fashion-mnist.s3-website.eu-central-1.amazonaws.com/t10k-images-idx3-ubyte.gz to data/FashionMNIST/raw/t10k-images-idx3-ubyte.gz\n"
     ]
    },
    {
     "name": "stderr",
     "output_type": "stream",
     "text": [
      "100%|██████████| 4422102/4422102 [00:00<00:00, 4985323.04it/s]\n"
     ]
    },
    {
     "name": "stdout",
     "output_type": "stream",
     "text": [
      "Extracting data/FashionMNIST/raw/t10k-images-idx3-ubyte.gz to data/FashionMNIST/raw\n",
      "\n",
      "Downloading http://fashion-mnist.s3-website.eu-central-1.amazonaws.com/t10k-labels-idx1-ubyte.gz\n",
      "Downloading http://fashion-mnist.s3-website.eu-central-1.amazonaws.com/t10k-labels-idx1-ubyte.gz to data/FashionMNIST/raw/t10k-labels-idx1-ubyte.gz\n"
     ]
    },
    {
     "name": "stderr",
     "output_type": "stream",
     "text": [
      "100%|██████████| 5148/5148 [00:00<00:00, 25522786.04it/s]"
     ]
    },
    {
     "name": "stdout",
     "output_type": "stream",
     "text": [
      "Extracting data/FashionMNIST/raw/t10k-labels-idx1-ubyte.gz to data/FashionMNIST/raw\n",
      "\n"
     ]
    },
    {
     "name": "stderr",
     "output_type": "stream",
     "text": [
      "\n"
     ]
    }
   ],
   "source": [
    "training_data = datasets.FashionMNIST(\n",
    "    root = \"data\",\n",
    "    train = True,\n",
    "    download = True,\n",
    "    transform= ToTensor()\n",
    ")\n",
    "\n",
    "test_data = datasets.FashionMNIST(\n",
    "    root = \"data\",\n",
    "    train = False,\n",
    "    download = True,\n",
    "    transform = ToTensor()\n",
    ")"
   ]
  },
  {
   "cell_type": "code",
   "execution_count": null,
   "metadata": {
    "colab": {
     "base_uri": "https://localhost:8080/"
    },
    "executionInfo": {
     "elapsed": 713,
     "status": "ok",
     "timestamp": 1707579579253,
     "user": {
      "displayName": "Panchal Dhruv",
      "userId": "08685030827788807431"
     },
     "user_tz": -330
    },
    "id": "6hBCEJbRqs1D",
    "outputId": "0107e9c1-ea28-44c7-a401-cb34ee401f49"
   },
   "outputs": [
    {
     "data": {
      "text/plain": [
       "<module 'torch.nn' from '/usr/local/lib/python3.10/dist-packages/torch/nn/__init__.py'>"
      ]
     },
     "execution_count": 13,
     "metadata": {},
     "output_type": "execute_result"
    }
   ],
   "source": [
    "nn"
   ]
  },
  {
   "cell_type": "code",
   "execution_count": null,
   "metadata": {
    "colab": {
     "base_uri": "https://localhost:8080/"
    },
    "executionInfo": {
     "elapsed": 433,
     "status": "ok",
     "timestamp": 1707579635730,
     "user": {
      "displayName": "Panchal Dhruv",
      "userId": "08685030827788807431"
     },
     "user_tz": -330
    },
    "id": "zqLR0XVorEOw",
    "outputId": "a4649fbc-032e-4d2e-f7ac-67cc55e84092"
   },
   "outputs": [
    {
     "data": {
      "text/plain": [
       "Dataset FashionMNIST\n",
       "    Number of datapoints: 60000\n",
       "    Root location: data\n",
       "    Split: Train\n",
       "    StandardTransform\n",
       "Transform: ToTensor()"
      ]
     },
     "execution_count": 14,
     "metadata": {},
     "output_type": "execute_result"
    }
   ],
   "source": [
    "training_data"
   ]
  },
  {
   "cell_type": "code",
   "execution_count": null,
   "metadata": {
    "colab": {
     "base_uri": "https://localhost:8080/"
    },
    "executionInfo": {
     "elapsed": 8,
     "status": "ok",
     "timestamp": 1707579653499,
     "user": {
      "displayName": "Panchal Dhruv",
      "userId": "08685030827788807431"
     },
     "user_tz": -330
    },
    "id": "TZiT9hMqrXMO",
    "outputId": "644f5dc9-91b2-4d85-f8de-63bc730287a1"
   },
   "outputs": [
    {
     "data": {
      "text/plain": [
       "Dataset FashionMNIST\n",
       "    Number of datapoints: 10000\n",
       "    Root location: data\n",
       "    Split: Test\n",
       "    StandardTransform\n",
       "Transform: ToTensor()"
      ]
     },
     "execution_count": 16,
     "metadata": {},
     "output_type": "execute_result"
    }
   ],
   "source": [
    "test_data"
   ]
  },
  {
   "cell_type": "code",
   "execution_count": null,
   "metadata": {
    "colab": {
     "base_uri": "https://localhost:8080/"
    },
    "executionInfo": {
     "elapsed": 1180,
     "status": "ok",
     "timestamp": 1707579663723,
     "user": {
      "displayName": "Panchal Dhruv",
      "userId": "08685030827788807431"
     },
     "user_tz": -330
    },
    "id": "WEsD9MUWrYsa",
    "outputId": "21544ecd-cb7c-4725-eec0-87c304e08db4"
   },
   "outputs": [
    {
     "data": {
      "text/plain": [
       "torchvision.datasets.mnist.FashionMNIST"
      ]
     },
     "execution_count": 17,
     "metadata": {},
     "output_type": "execute_result"
    }
   ],
   "source": [
    "type(test_data)"
   ]
  },
  {
   "cell_type": "code",
   "execution_count": null,
   "metadata": {
    "colab": {
     "base_uri": "https://localhost:8080/"
    },
    "executionInfo": {
     "elapsed": 408,
     "status": "ok",
     "timestamp": 1707579680652,
     "user": {
      "displayName": "Panchal Dhruv",
      "userId": "08685030827788807431"
     },
     "user_tz": -330
    },
    "id": "5sX-I7TKrdrJ",
    "outputId": "cdc4305c-40a2-482c-bfa1-a202fcc10b6c"
   },
   "outputs": [
    {
     "data": {
      "text/plain": [
       "torchvision.datasets.mnist.FashionMNIST"
      ]
     },
     "execution_count": 19,
     "metadata": {},
     "output_type": "execute_result"
    }
   ],
   "source": [
    "type(training_data)"
   ]
  },
  {
   "cell_type": "code",
   "execution_count": null,
   "metadata": {
    "colab": {
     "base_uri": "https://localhost:8080/"
    },
    "executionInfo": {
     "elapsed": 450,
     "status": "ok",
     "timestamp": 1707579926977,
     "user": {
      "displayName": "Panchal Dhruv",
      "userId": "08685030827788807431"
     },
     "user_tz": -330
    },
    "id": "PEeXU5XFre_C",
    "outputId": "e0182cf9-375e-42b7-a99c-f58b093dffdb"
   },
   "outputs": [
    {
     "name": "stdout",
     "output_type": "stream",
     "text": [
      "Shape of X[n,c,h,w] :  torch.Size([64, 1, 28, 28])\n",
      "shape od y : torch.Size([64]) torch.int64\n"
     ]
    }
   ],
   "source": [
    "batchSize = 64\n",
    "train_dataloader = DataLoader(training_data,batch_size = batchSize)\n",
    "test_dataloader = DataLoader(test_data,batch_size = batchSize)\n",
    "\n",
    "for x,y in test_dataloader:\n",
    "    print(\"Shape of X[n,c,h,w] : \",x.shape)\n",
    "    print(\"shape od y :\",y.shape,y.dtype)\n",
    "    break"
   ]
  },
  {
   "cell_type": "code",
   "execution_count": null,
   "metadata": {
    "colab": {
     "base_uri": "https://localhost:8080/"
    },
    "executionInfo": {
     "elapsed": 434,
     "status": "ok",
     "timestamp": 1707580095332,
     "user": {
      "displayName": "Panchal Dhruv",
      "userId": "08685030827788807431"
     },
     "user_tz": -330
    },
    "id": "pTfIw7_csIPs",
    "outputId": "f66c801e-27ee-4777-a81c-b346c445dae3"
   },
   "outputs": [
    {
     "name": "stdout",
     "output_type": "stream",
     "text": [
      "we are now using :  cpu\n"
     ]
    }
   ],
   "source": [
    "device = \"cuda\" if torch.cuda.is_available() else \"cpu\"\n",
    "print(\"we are now using : \",device)"
   ]
  },
  {
   "cell_type": "code",
   "execution_count": null,
   "metadata": {
    "colab": {
     "base_uri": "https://localhost:8080/"
    },
    "executionInfo": {
     "elapsed": 575,
     "status": "ok",
     "timestamp": 1707580444998,
     "user": {
      "displayName": "Panchal Dhruv",
      "userId": "08685030827788807431"
     },
     "user_tz": -330
    },
    "id": "KSHbaWDEsIMJ",
    "outputId": "9f716281-33e2-435e-dced-55df05865844"
   },
   "outputs": [
    {
     "name": "stdout",
     "output_type": "stream",
     "text": [
      "NeuralNetwork(\n",
      "  (flatten): Flatten(start_dim=1, end_dim=-1)\n",
      "  (linear_relu_stack): Sequential(\n",
      "    (0): Linear(in_features=784, out_features=512, bias=True)\n",
      "    (1): ReLU()\n",
      "    (2): Linear(in_features=512, out_features=512, bias=True)\n",
      "    (3): ReLU()\n",
      "    (4): Linear(in_features=512, out_features=10, bias=True)\n",
      "  )\n",
      ")\n"
     ]
    }
   ],
   "source": [
    "# define model\n",
    "class NeuralNetwork(nn.Module):\n",
    "    def __init__(self):\n",
    "        super(NeuralNetwork,self).__init__()\n",
    "        self.flatten = nn.Flatten()\n",
    "        self.linear_relu_stack = nn.Sequential(\n",
    "            nn.Linear(28*28,512),\n",
    "            nn.ReLU(),\n",
    "            nn.Linear(512,512),\n",
    "            nn.ReLU(),\n",
    "            nn.Linear(512,10)\n",
    "        )\n",
    "\n",
    "    def forward(self,x):\n",
    "        x =self.flatten(x)\n",
    "        logits = self.linear_relu_stack(x)\n",
    "        return logits\n",
    "\n",
    "model = NeuralNetwork().to(device)\n",
    "print(model)"
   ]
  },
  {
   "cell_type": "code",
   "execution_count": null,
   "metadata": {
    "id": "vMJG_fMcsH93"
   },
   "outputs": [],
   "source": [
    "loss_fn = nn.CrossEntropyLoss()\n",
    "optimizer = torch.optim.SGD(model.parameters(),lr = 1e-3)"
   ]
  },
  {
   "cell_type": "code",
   "execution_count": null,
   "metadata": {
    "id": "qWU0Xj44sH4f"
   },
   "outputs": [],
   "source": [
    "def train(dataloader,model,loss_fn,optimizer):\n",
    "    size = len(dataloader.dataset)\n",
    "    model.train()\n",
    "\n",
    "    for batch,(x,y) in enumerate(dataloader):\n",
    "        x,y = x.to(device),y.to(device)\n",
    "\n",
    "        ## Compute predictoin error\n",
    "        pre = model(x)\n",
    "        loss = loss_fn(pre,y)\n",
    "\n",
    "        ## Backpropagation\n",
    "        optimizer.zero_grad()\n",
    "        loss.backward()\n",
    "        optimizer.step()\n",
    "\n",
    "        if batch*100 == 0 :\n",
    "            loss, current = loss.item(), batch*len(x)\n",
    "            print(f\"loss : {loss:>7f} [ {current:>5d}/{size:>5d}]\")\n"
   ]
  },
  {
   "cell_type": "code",
   "execution_count": null,
   "metadata": {
    "id": "Lo0flAZTsHwu"
   },
   "outputs": [],
   "source": [
    "def test(dataloader, model, loss_fn):\n",
    "    size = len(dataloader.dataset)\n",
    "    num_batches = len(dataloader)\n",
    "    model.eval()\n",
    "    test_loss, correct = 0,0\n",
    "    with torch.no_grad():\n",
    "        for x,y in dataloader :\n",
    "            x, y = x.to(device), y.to(device)\n",
    "            pred = model(x)\n",
    "            test_loss += loss_fn(pred,y).item()\n",
    "            correct += (pred.argmax(1) == y).type(torch.float).sum().item()\n",
    "    test_loss /= num_batches\n",
    "    correct /= size\n",
    "    print(f\"Test Error : \\n Accuracy : {(100*correct):>0.1f} , Avg loss : {test_loss:>8f} \\n\")\n"
   ]
  },
  {
   "cell_type": "code",
   "execution_count": null,
   "metadata": {
    "colab": {
     "base_uri": "https://localhost:8080/"
    },
    "executionInfo": {
     "elapsed": 52136,
     "status": "ok",
     "timestamp": 1707581552540,
     "user": {
      "displayName": "Panchal Dhruv",
      "userId": "08685030827788807431"
     },
     "user_tz": -330
    },
    "id": "jGBkMxRzsHs-",
    "outputId": "4e91097a-12ea-4c92-8f96-a3bd59e53110"
   },
   "outputs": [
    {
     "name": "stdout",
     "output_type": "stream",
     "text": [
      "Epochs : 1 \n",
      " --------------------------\n",
      "loss : 2.320918 [     0/60000]\n",
      "Test Error : \n",
      " Accuracy : 32.5 , Avg loss : 2.154256 \n",
      "\n",
      "Epochs : 2 \n",
      " --------------------------\n",
      "loss : 2.180183 [     0/60000]\n",
      "Test Error : \n",
      " Accuracy : 53.3 , Avg loss : 1.883425 \n",
      "\n",
      "Epochs : 3 \n",
      " --------------------------\n",
      "loss : 1.926408 [     0/60000]\n",
      "Test Error : \n",
      " Accuracy : 61.5 , Avg loss : 1.519180 \n",
      "\n",
      "Epochs : 4 \n",
      " --------------------------\n",
      "loss : 1.589477 [     0/60000]\n",
      "Test Error : \n",
      " Accuracy : 63.6 , Avg loss : 1.257529 \n",
      "\n",
      "Epochs : 5 \n",
      " --------------------------\n",
      "loss : 1.334977 [     0/60000]\n",
      "Test Error : \n",
      " Accuracy : 64.5 , Avg loss : 1.094197 \n",
      "\n",
      "Done!\n"
     ]
    }
   ],
   "source": [
    "epochs = 5\n",
    "for t in range(epochs):\n",
    "    print(f\"Epochs : {t+1} \\n --------------------------\")\n",
    "    train(train_dataloader,model,loss_fn,optimizer)\n",
    "    test(test_dataloader,model,loss_fn)\n",
    "print(\"Done!\")"
   ]
  },
  {
   "cell_type": "code",
   "execution_count": null,
   "metadata": {
    "colab": {
     "base_uri": "https://localhost:8080/"
    },
    "executionInfo": {
     "elapsed": 533,
     "status": "ok",
     "timestamp": 1707581835497,
     "user": {
      "displayName": "Panchal Dhruv",
      "userId": "08685030827788807431"
     },
     "user_tz": -330
    },
    "id": "_QR-nuazsHq7",
    "outputId": "eabe04f6-9273-467d-a621-0f66196d5f1e"
   },
   "outputs": [
    {
     "name": "stdout",
     "output_type": "stream",
     "text": [
      "saved pytorch model state to model.pth\n"
     ]
    }
   ],
   "source": [
    "## save model\n",
    "torch.save(model.state_dict(),\"model.pth\")\n",
    "print(\"saved pytorch model state to model.pth\")"
   ]
  },
  {
   "cell_type": "code",
   "execution_count": null,
   "metadata": {
    "colab": {
     "base_uri": "https://localhost:8080/"
    },
    "executionInfo": {
     "elapsed": 421,
     "status": "ok",
     "timestamp": 1707581875118,
     "user": {
      "displayName": "Panchal Dhruv",
      "userId": "08685030827788807431"
     },
     "user_tz": -330
    },
    "id": "SQiQDkcisHnh",
    "outputId": "50a81de5-1f37-4c09-e7b1-074c81218fec"
   },
   "outputs": [
    {
     "data": {
      "text/plain": [
       "<All keys matched successfully>"
      ]
     },
     "execution_count": 32,
     "metadata": {},
     "output_type": "execute_result"
    }
   ],
   "source": [
    "model = NeuralNetwork()\n",
    "model.load_state_dict(torch.load(\"model.pth\"))"
   ]
  },
  {
   "cell_type": "code",
   "execution_count": null,
   "metadata": {
    "colab": {
     "base_uri": "https://localhost:8080/"
    },
    "executionInfo": {
     "elapsed": 510,
     "status": "ok",
     "timestamp": 1707582094653,
     "user": {
      "displayName": "Panchal Dhruv",
      "userId": "08685030827788807431"
     },
     "user_tz": -330
    },
    "id": "Sy9EZ7HvsHlp",
    "outputId": "391d436e-ca3b-4b74-8d3b-eda186318a6c"
   },
   "outputs": [
    {
     "name": "stdout",
     "output_type": "stream",
     "text": [
      "predicted : Ankle boot, actual : Ankle boot\n"
     ]
    }
   ],
   "source": [
    "classes = [\n",
    "    \"T-shirt/top\",\n",
    "    \"Trouser\",\n",
    "    \"Pullover\",\n",
    "    \"Dress\",\n",
    "    \"Coat\",\n",
    "    \"Sandal\",\n",
    "    \"Shirt\",\n",
    "    \"Sneaker\",\n",
    "    \"Bag\",\n",
    "    \"Ankle boot\"\n",
    "]\n",
    "\n",
    "model.eval()\n",
    "x,y = test_data[0][0], test_data[0][1]\n",
    "\n",
    "with torch.no_grad():\n",
    "    pred = model(x)\n",
    "    predicted, actual = classes[pred[0].argmax(0)],classes[y]\n",
    "    print(f\"predicted : {predicted}, actual : {actual}\")\n"
   ]
  },
  {
   "cell_type": "code",
   "execution_count": null,
   "metadata": {
    "id": "IJKE_3alsHjw"
   },
   "outputs": [],
   "source": []
  },
  {
   "cell_type": "code",
   "execution_count": null,
   "metadata": {
    "id": "MQgRb4EYuaBZ"
   },
   "outputs": [],
   "source": []
  },
  {
   "cell_type": "code",
   "execution_count": null,
   "metadata": {
    "id": "ln2uZOkduaEF"
   },
   "outputs": [],
   "source": []
  },
  {
   "cell_type": "code",
   "execution_count": 1,
   "metadata": {
    "executionInfo": {
     "elapsed": 3492,
     "status": "ok",
     "timestamp": 1714543029616,
     "user": {
      "displayName": "Panchal Dhruv",
      "userId": "08685030827788807431"
     },
     "user_tz": -330
    },
    "id": "IZx_k8PMuaHN"
   },
   "outputs": [],
   "source": [
    "import torch"
   ]
  },
  {
   "cell_type": "code",
   "execution_count": 2,
   "metadata": {
    "colab": {
     "base_uri": "https://localhost:8080/"
    },
    "executionInfo": {
     "elapsed": 6,
     "status": "ok",
     "timestamp": 1714543038913,
     "user": {
      "displayName": "Panchal Dhruv",
      "userId": "08685030827788807431"
     },
     "user_tz": -330
    },
    "id": "SJdFp4MguaKq",
    "outputId": "812f25b3-8cbe-413f-9f27-46ff5c35d543"
   },
   "outputs": [
    {
     "data": {
      "text/plain": [
       "tensor([0.1000, 0.9000])"
      ]
     },
     "execution_count": 2,
     "metadata": {},
     "output_type": "execute_result"
    }
   ],
   "source": [
    "tensor = torch.tensor([0.1,0.9])\n",
    "tensor"
   ]
  },
  {
   "cell_type": "markdown",
   "metadata": {
    "id": "inpG60Dlu7vA"
   },
   "source": []
  },
  {
   "cell_type": "code",
   "execution_count": 5,
   "metadata": {
    "colab": {
     "base_uri": "https://localhost:8080/"
    },
    "executionInfo": {
     "elapsed": 4,
     "status": "ok",
     "timestamp": 1714543155657,
     "user": {
      "displayName": "Panchal Dhruv",
      "userId": "08685030827788807431"
     },
     "user_tz": -330
    },
    "id": "H15xGOcIuaN6",
    "outputId": "27273f1c-d729-43e0-e5ea-24eb83d2c12f"
   },
   "outputs": [
    {
     "data": {
      "text/plain": [
       "tensor([1, 0, 1, 1, 1, 1, 1, 1, 1, 1])"
      ]
     },
     "execution_count": 5,
     "metadata": {},
     "output_type": "execute_result"
    }
   ],
   "source": [
    "samples = torch.multinomial(tensor, num_samples=10, replacement=True)\n",
    "samples"
   ]
  },
  {
   "cell_type": "code",
   "execution_count": 7,
   "metadata": {
    "colab": {
     "base_uri": "https://localhost:8080/"
    },
    "executionInfo": {
     "elapsed": 4,
     "status": "ok",
     "timestamp": 1714543243967,
     "user": {
      "displayName": "Panchal Dhruv",
      "userId": "08685030827788807431"
     },
     "user_tz": -330
    },
    "id": "Fk5ZZGxCuaQx",
    "outputId": "9c24f932-33af-46f7-aa4a-e0ad283227f4"
   },
   "outputs": [
    {
     "data": {
      "text/plain": [
       "tensor([1, 2, 3, 4, 5, 6])"
      ]
     },
     "execution_count": 7,
     "metadata": {},
     "output_type": "execute_result"
    }
   ],
   "source": [
    "tensor = torch.tensor([1,2,3,4,5])\n",
    "out = torch.cat((tensor, torch.tensor([6])), dim=0)\n",
    "out"
   ]
  },
  {
   "cell_type": "code",
   "execution_count": 9,
   "metadata": {
    "colab": {
     "base_uri": "https://localhost:8080/"
    },
    "executionInfo": {
     "elapsed": 5,
     "status": "ok",
     "timestamp": 1714543289606,
     "user": {
      "displayName": "Panchal Dhruv",
      "userId": "08685030827788807431"
     },
     "user_tz": -330
    },
    "id": "8VdkEQQIuaTE",
    "outputId": "688e86f1-3b0c-4d90-f789-6e8a20b6bb00"
   },
   "outputs": [
    {
     "data": {
      "text/plain": [
       "tensor([[1., 0., 0., 0., 0.],\n",
       "        [1., 1., 0., 0., 0.],\n",
       "        [1., 1., 1., 0., 0.],\n",
       "        [1., 1., 1., 1., 0.],\n",
       "        [1., 1., 1., 1., 1.]])"
      ]
     },
     "execution_count": 9,
     "metadata": {},
     "output_type": "execute_result"
    }
   ],
   "source": [
    "out = torch.tril(torch.ones(5,5))\n",
    "out"
   ]
  },
  {
   "cell_type": "code",
   "execution_count": 11,
   "metadata": {
    "colab": {
     "base_uri": "https://localhost:8080/"
    },
    "executionInfo": {
     "elapsed": 4,
     "status": "ok",
     "timestamp": 1714543320349,
     "user": {
      "displayName": "Panchal Dhruv",
      "userId": "08685030827788807431"
     },
     "user_tz": -330
    },
    "id": "U25YcFjduaV0",
    "outputId": "04b3a32b-74cb-4012-b515-3c0ad8bc532b"
   },
   "outputs": [
    {
     "data": {
      "text/plain": [
       "tensor([[1., 1., 1., 1., 1.],\n",
       "        [0., 1., 1., 1., 1.],\n",
       "        [0., 0., 1., 1., 1.],\n",
       "        [0., 0., 0., 1., 1.],\n",
       "        [0., 0., 0., 0., 1.]])"
      ]
     },
     "execution_count": 11,
     "metadata": {},
     "output_type": "execute_result"
    }
   ],
   "source": [
    "out = torch.triu(torch.ones(5,5))\n",
    "out"
   ]
  },
  {
   "cell_type": "code",
   "execution_count": 12,
   "metadata": {
    "colab": {
     "base_uri": "https://localhost:8080/"
    },
    "executionInfo": {
     "elapsed": 12,
     "status": "ok",
     "timestamp": 1714543334432,
     "user": {
      "displayName": "Panchal Dhruv",
      "userId": "08685030827788807431"
     },
     "user_tz": -330
    },
    "id": "avxp4vsIuaYH",
    "outputId": "2a764068-cb47-4f5a-d224-4a6a89684d72"
   },
   "outputs": [
    {
     "data": {
      "text/plain": [
       "tensor([[1., 0., 0., 0., 0.],\n",
       "        [1., 1., 0., 0., 0.],\n",
       "        [1., 1., 1., 0., 0.],\n",
       "        [1., 1., 1., 1., 0.],\n",
       "        [1., 1., 1., 1., 1.]])"
      ]
     },
     "execution_count": 12,
     "metadata": {},
     "output_type": "execute_result"
    }
   ],
   "source": [
    "out = torch.tril(torch.ones(5,5))\n",
    "out"
   ]
  },
  {
   "cell_type": "code",
   "execution_count": 14,
   "metadata": {
    "colab": {
     "base_uri": "https://localhost:8080/"
    },
    "executionInfo": {
     "elapsed": 5,
     "status": "ok",
     "timestamp": 1714543604343,
     "user": {
      "displayName": "Panchal Dhruv",
      "userId": "08685030827788807431"
     },
     "user_tz": -330
    },
    "id": "R6IYNNyeuabm",
    "outputId": "5d36ac54-81ca-4a29-eff0-bdc2018a8ca9"
   },
   "outputs": [
    {
     "data": {
      "text/plain": [
       "tensor([[0., 0., 0., 0., 0.],\n",
       "        [-inf, 0., 0., 0., 0.],\n",
       "        [-inf, -inf, 0., 0., 0.],\n",
       "        [-inf, -inf, -inf, 0., 0.],\n",
       "        [-inf, -inf, -inf, -inf, 0.]])"
      ]
     },
     "execution_count": 14,
     "metadata": {},
     "output_type": "execute_result"
    }
   ],
   "source": [
    "out = torch.zeros(5,5).masked_fill(torch.triu(torch.ones(5,5))== 0 , float(\"-inf\"))\n",
    "out"
   ]
  },
  {
   "cell_type": "code",
   "execution_count": 15,
   "metadata": {
    "colab": {
     "base_uri": "https://localhost:8080/"
    },
    "executionInfo": {
     "elapsed": 393,
     "status": "ok",
     "timestamp": 1714543617896,
     "user": {
      "displayName": "Panchal Dhruv",
      "userId": "08685030827788807431"
     },
     "user_tz": -330
    },
    "id": "rMeksajiwuPq",
    "outputId": "c9709003-8210-44e6-91b2-07ba0729bb78"
   },
   "outputs": [
    {
     "data": {
      "text/plain": [
       "tensor([[0., -inf, -inf, -inf, -inf],\n",
       "        [0., 0., -inf, -inf, -inf],\n",
       "        [0., 0., 0., -inf, -inf],\n",
       "        [0., 0., 0., 0., -inf],\n",
       "        [0., 0., 0., 0., 0.]])"
      ]
     },
     "execution_count": 15,
     "metadata": {},
     "output_type": "execute_result"
    }
   ],
   "source": [
    "out = torch.zeros(5,5).masked_fill(torch.tril(torch.ones(5,5))== 0 , float(\"-inf\"))\n",
    "out"
   ]
  },
  {
   "cell_type": "code",
   "execution_count": 16,
   "metadata": {
    "colab": {
     "base_uri": "https://localhost:8080/"
    },
    "executionInfo": {
     "elapsed": 5,
     "status": "ok",
     "timestamp": 1714543825885,
     "user": {
      "displayName": "Panchal Dhruv",
      "userId": "08685030827788807431"
     },
     "user_tz": -330
    },
    "id": "9JpI7q44xAm3",
    "outputId": "a2055a67-69ef-4cdd-a480-8f20aee9588f"
   },
   "outputs": [
    {
     "data": {
      "text/plain": [
       "tensor([[1., 0., 0., 0., 0.],\n",
       "        [1., 1., 0., 0., 0.],\n",
       "        [1., 1., 1., 0., 0.],\n",
       "        [1., 1., 1., 1., 0.],\n",
       "        [1., 1., 1., 1., 1.]])"
      ]
     },
     "execution_count": 16,
     "metadata": {},
     "output_type": "execute_result"
    }
   ],
   "source": [
    "torch.exp(out)"
   ]
  },
  {
   "cell_type": "code",
   "execution_count": null,
   "metadata": {
    "id": "ss-k5jiMxAvJ"
   },
   "outputs": [],
   "source": []
  },
  {
   "cell_type": "code",
   "execution_count": 17,
   "metadata": {
    "colab": {
     "base_uri": "https://localhost:8080/"
    },
    "executionInfo": {
     "elapsed": 4,
     "status": "ok",
     "timestamp": 1714543848977,
     "user": {
      "displayName": "Panchal Dhruv",
      "userId": "08685030827788807431"
     },
     "user_tz": -330
    },
    "id": "5PnzkxATxA3v",
    "outputId": "9fce0a67-a2e5-4292-82dd-20f37e947538"
   },
   "outputs": [
    {
     "data": {
      "text/plain": [
       "tensor([[[0., 0., 0., 0.],\n",
       "         [0., 0., 0., 0.],\n",
       "         [0., 0., 0., 0.]],\n",
       "\n",
       "        [[0., 0., 0., 0.],\n",
       "         [0., 0., 0., 0.],\n",
       "         [0., 0., 0., 0.]]])"
      ]
     },
     "execution_count": 17,
     "metadata": {},
     "output_type": "execute_result"
    }
   ],
   "source": [
    "input = torch.zeros(2,3,4)\n",
    "input"
   ]
  },
  {
   "cell_type": "code",
   "execution_count": 21,
   "metadata": {
    "colab": {
     "base_uri": "https://localhost:8080/"
    },
    "executionInfo": {
     "elapsed": 4,
     "status": "ok",
     "timestamp": 1714543949798,
     "user": {
      "displayName": "Panchal Dhruv",
      "userId": "08685030827788807431"
     },
     "user_tz": -330
    },
    "id": "E686LcS0yEV2",
    "outputId": "374cb52e-2523-4644-abde-16e33187f95b"
   },
   "outputs": [
    {
     "data": {
      "text/plain": [
       "torch.Size([2, 3, 4])"
      ]
     },
     "execution_count": 21,
     "metadata": {},
     "output_type": "execute_result"
    }
   ],
   "source": [
    "input.shape"
   ]
  },
  {
   "cell_type": "code",
   "execution_count": 19,
   "metadata": {
    "colab": {
     "base_uri": "https://localhost:8080/"
    },
    "executionInfo": {
     "elapsed": 4,
     "status": "ok",
     "timestamp": 1714543902419,
     "user": {
      "displayName": "Panchal Dhruv",
      "userId": "08685030827788807431"
     },
     "user_tz": -330
    },
    "id": "iGMggQTBxr2x",
    "outputId": "19f456b9-6dda-4bb5-8403-f90f83dd89fb"
   },
   "outputs": [
    {
     "data": {
      "text/plain": [
       "tensor([[[0., 0.],\n",
       "         [0., 0.],\n",
       "         [0., 0.]],\n",
       "\n",
       "        [[0., 0.],\n",
       "         [0., 0.],\n",
       "         [0., 0.]],\n",
       "\n",
       "        [[0., 0.],\n",
       "         [0., 0.],\n",
       "         [0., 0.]],\n",
       "\n",
       "        [[0., 0.],\n",
       "         [0., 0.],\n",
       "         [0., 0.]]])"
      ]
     },
     "execution_count": 19,
     "metadata": {},
     "output_type": "execute_result"
    }
   ],
   "source": [
    "out = input.transpose(0,2)\n",
    "out"
   ]
  },
  {
   "cell_type": "code",
   "execution_count": 22,
   "metadata": {
    "colab": {
     "base_uri": "https://localhost:8080/"
    },
    "executionInfo": {
     "elapsed": 6,
     "status": "ok",
     "timestamp": 1714543958648,
     "user": {
      "displayName": "Panchal Dhruv",
      "userId": "08685030827788807431"
     },
     "user_tz": -330
    },
    "id": "YDIiij_XyIgP",
    "outputId": "f4044573-eb4e-4a16-ce87-328fdcab1444"
   },
   "outputs": [
    {
     "data": {
      "text/plain": [
       "torch.Size([4, 3, 2])"
      ]
     },
     "execution_count": 22,
     "metadata": {},
     "output_type": "execute_result"
    }
   ],
   "source": [
    "out.shape"
   ]
  },
  {
   "cell_type": "code",
   "execution_count": 23,
   "metadata": {
    "colab": {
     "base_uri": "https://localhost:8080/"
    },
    "executionInfo": {
     "elapsed": 5,
     "status": "ok",
     "timestamp": 1714543988383,
     "user": {
      "displayName": "Panchal Dhruv",
      "userId": "08685030827788807431"
     },
     "user_tz": -330
    },
    "id": "izqugeJVyKNb",
    "outputId": "bbe89e4f-3ac7-493a-a2c0-1d2ecbe7dc41"
   },
   "outputs": [
    {
     "data": {
      "text/plain": [
       "torch.Size([3, 2, 4])"
      ]
     },
     "execution_count": 23,
     "metadata": {},
     "output_type": "execute_result"
    }
   ],
   "source": [
    "out1 = input.transpose(0,1)\n",
    "out1.shape"
   ]
  },
  {
   "cell_type": "code",
   "execution_count": null,
   "metadata": {
    "id": "w0QqGo6CySKb"
   },
   "outputs": [],
   "source": [
    "## here we pass 0 1 2  are the dimentions\n",
    "                # 2 3 4\n",
    "                # 3 2 4\n",
    "                # 4 3 2\n"
   ]
  },
  {
   "cell_type": "code",
   "execution_count": null,
   "metadata": {
    "id": "N2IQhHbbySOh"
   },
   "outputs": [],
   "source": []
  },
  {
   "cell_type": "code",
   "execution_count": 20,
   "metadata": {
    "colab": {
     "base_uri": "https://localhost:8080/"
    },
    "executionInfo": {
     "elapsed": 4,
     "status": "ok",
     "timestamp": 1714543913938,
     "user": {
      "displayName": "Panchal Dhruv",
      "userId": "08685030827788807431"
     },
     "user_tz": -330
    },
    "id": "5x8QUFTkxsHu",
    "outputId": "62b63e86-407e-4f3a-95e1-d4242baee5eb"
   },
   "outputs": [
    {
     "name": "stderr",
     "output_type": "stream",
     "text": [
      "<ipython-input-20-203fe2415b6a>:1: UserWarning: The use of `x.T` on tensors of dimension other than 2 to reverse their shape is deprecated and it will throw an error in a future release. Consider `x.mT` to transpose batches of matrices or `x.permute(*torch.arange(x.ndim - 1, -1, -1))` to reverse the dimensions of a tensor. (Triggered internally at ../aten/src/ATen/native/TensorShape.cpp:3637.)\n",
      "  input.T\n"
     ]
    },
    {
     "data": {
      "text/plain": [
       "tensor([[[0., 0.],\n",
       "         [0., 0.],\n",
       "         [0., 0.]],\n",
       "\n",
       "        [[0., 0.],\n",
       "         [0., 0.],\n",
       "         [0., 0.]],\n",
       "\n",
       "        [[0., 0.],\n",
       "         [0., 0.],\n",
       "         [0., 0.]],\n",
       "\n",
       "        [[0., 0.],\n",
       "         [0., 0.],\n",
       "         [0., 0.]]])"
      ]
     },
     "execution_count": 20,
     "metadata": {},
     "output_type": "execute_result"
    }
   ],
   "source": [
    "input.T"
   ]
  },
  {
   "cell_type": "code",
   "execution_count": null,
   "metadata": {
    "id": "EgXHhfUuw2DN"
   },
   "outputs": [],
   "source": []
  },
  {
   "cell_type": "code",
   "execution_count": 24,
   "metadata": {
    "colab": {
     "base_uri": "https://localhost:8080/"
    },
    "executionInfo": {
     "elapsed": 4,
     "status": "ok",
     "timestamp": 1714544133615,
     "user": {
      "displayName": "Panchal Dhruv",
      "userId": "08685030827788807431"
     },
     "user_tz": -330
    },
    "id": "d5flhBD7yeiJ",
    "outputId": "fe14eda0-1145-40bc-f08d-2896f6d0cefe"
   },
   "outputs": [
    {
     "data": {
      "text/plain": [
       "tensor([[1, 2, 3],\n",
       "        [3, 4, 5],\n",
       "        [5, 6, 7]])"
      ]
     },
     "execution_count": 24,
     "metadata": {},
     "output_type": "execute_result"
    }
   ],
   "source": [
    "tensor1 = torch.tensor([1,2,3])\n",
    "tensor2 = torch.tensor([3,4,5])\n",
    "tensor3 = torch.tensor([5,6,7])\n",
    "\n",
    "stacked_tensor = torch.stack([tensor1,tensor2,tensor3])\n",
    "stacked_tensor\n",
    "\n",
    "## default dim = 0"
   ]
  },
  {
   "cell_type": "code",
   "execution_count": 25,
   "metadata": {
    "colab": {
     "base_uri": "https://localhost:8080/"
    },
    "executionInfo": {
     "elapsed": 5,
     "status": "ok",
     "timestamp": 1714544150296,
     "user": {
      "displayName": "Panchal Dhruv",
      "userId": "08685030827788807431"
     },
     "user_tz": -330
    },
    "id": "vTKs1f84yenO",
    "outputId": "6a88577e-2f2f-466c-c8a1-64a7c683aa58"
   },
   "outputs": [
    {
     "data": {
      "text/plain": [
       "tensor([[1, 3, 5],\n",
       "        [2, 4, 6],\n",
       "        [3, 5, 7]])"
      ]
     },
     "execution_count": 25,
     "metadata": {},
     "output_type": "execute_result"
    }
   ],
   "source": [
    "stacked_tensor = torch.stack([tensor1,tensor2,tensor3],dim=1)\n",
    "stacked_tensor"
   ]
  },
  {
   "cell_type": "code",
   "execution_count": 25,
   "metadata": {
    "executionInfo": {
     "elapsed": 666,
     "status": "ok",
     "timestamp": 1714544171324,
     "user": {
      "displayName": "Panchal Dhruv",
      "userId": "08685030827788807431"
     },
     "user_tz": -330
    },
    "id": "fdX5kpY0yetu"
   },
   "outputs": [],
   "source": []
  },
  {
   "cell_type": "code",
   "execution_count": 28,
   "metadata": {
    "colab": {
     "base_uri": "https://localhost:8080/"
    },
    "executionInfo": {
     "elapsed": 4,
     "status": "ok",
     "timestamp": 1714544286645,
     "user": {
      "displayName": "Panchal Dhruv",
      "userId": "08685030827788807431"
     },
     "user_tz": -330
    },
    "id": "ue2LOeZ5y9Vm",
    "outputId": "8ddde7d2-0766-4945-dbbf-f7a1a7e3f96a"
   },
   "outputs": [
    {
     "name": "stdout",
     "output_type": "stream",
     "text": [
      "tensor([ 6.1224,  4.2115, -4.8187], grad_fn=<SqueezeBackward4>)\n"
     ]
    }
   ],
   "source": [
    "import torch.nn as nn\n",
    "\n",
    "sample = torch.tensor([10.,10.,10.])\n",
    "linear = nn.Linear(3,3,bias=False)\n",
    "\n",
    "## linear transformation\n",
    "\n",
    "print(linear(sample))"
   ]
  },
  {
   "cell_type": "code",
   "execution_count": 29,
   "metadata": {
    "colab": {
     "base_uri": "https://localhost:8080/"
    },
    "executionInfo": {
     "elapsed": 4,
     "status": "ok",
     "timestamp": 1714544497760,
     "user": {
      "displayName": "Panchal Dhruv",
      "userId": "08685030827788807431"
     },
     "user_tz": -330
    },
    "id": "350DMtQjzUlY",
    "outputId": "94102eee-3493-4ed5-d726-f72a982483a0"
   },
   "outputs": [
    {
     "name": "stdout",
     "output_type": "stream",
     "text": [
      "tensor([-3.7373], grad_fn=<SqueezeBackward4>)\n"
     ]
    }
   ],
   "source": [
    "linear = nn.Linear(3,1,bias=False)\n",
    "\n",
    "## linear transformation\n",
    "## 3 input and second value show the output\n",
    "\n",
    "print(linear(sample))"
   ]
  },
  {
   "cell_type": "code",
   "execution_count": 32,
   "metadata": {
    "colab": {
     "base_uri": "https://localhost:8080/"
    },
    "executionInfo": {
     "elapsed": 4,
     "status": "ok",
     "timestamp": 1714545636492,
     "user": {
      "displayName": "Panchal Dhruv",
      "userId": "08685030827788807431"
     },
     "user_tz": -330
    },
    "id": "6beFxWeG0NC-",
    "outputId": "9efbff1a-e8db-4473-c0fa-d6261f9c4edb"
   },
   "outputs": [
    {
     "name": "stdout",
     "output_type": "stream",
     "text": [
      "tensor([0.0900, 0.2447, 0.6652])\n"
     ]
    }
   ],
   "source": [
    "import torch.nn.functional as F\n",
    "\n",
    "tensor1 = torch.tensor([1.0,2.0,3.0])\n",
    "\n",
    "softmax_output = F.softmax(tensor1,dim=0)\n",
    "print(softmax_output)"
   ]
  },
  {
   "cell_type": "code",
   "execution_count": null,
   "metadata": {
    "id": "_ygKx8634xSm"
   },
   "outputs": [],
   "source": []
  },
  {
   "cell_type": "code",
   "execution_count": 33,
   "metadata": {
    "executionInfo": {
     "elapsed": 3,
     "status": "ok",
     "timestamp": 1714546868536,
     "user": {
      "displayName": "Panchal Dhruv",
      "userId": "08685030827788807431"
     },
     "user_tz": -330
    },
    "id": "IvbGyN8Q9LiH"
   },
   "outputs": [],
   "source": [
    "import torch.nn as nn"
   ]
  },
  {
   "cell_type": "code",
   "execution_count": 34,
   "metadata": {
    "colab": {
     "base_uri": "https://localhost:8080/"
    },
    "executionInfo": {
     "elapsed": 4,
     "status": "ok",
     "timestamp": 1714546986553,
     "user": {
      "displayName": "Panchal Dhruv",
      "userId": "08685030827788807431"
     },
     "user_tz": -330
    },
    "id": "1rx234yu1XTC",
    "outputId": "b5a079f8-ba7e-4fa7-e1e0-6731ac5e89e9"
   },
   "outputs": [
    {
     "name": "stdout",
     "output_type": "stream",
     "text": [
      "torch.Size([4, 100])\n"
     ]
    }
   ],
   "source": [
    "## Embading\n",
    "\n",
    "vocab_size = 1000\n",
    "embedding_size = 100\n",
    "\n",
    "embedding = nn.Embedding(vocab_size, embedding_size)\n",
    "\n",
    "input_indices = torch.LongTensor([1,2,3,4])\n",
    "\n",
    "embedding_output = embedding(input_indices)\n",
    "\n",
    "print(embedding_output.shape)"
   ]
  },
  {
   "cell_type": "code",
   "execution_count": 35,
   "metadata": {
    "colab": {
     "base_uri": "https://localhost:8080/"
    },
    "executionInfo": {
     "elapsed": 6,
     "status": "ok",
     "timestamp": 1714546988181,
     "user": {
      "displayName": "Panchal Dhruv",
      "userId": "08685030827788807431"
     },
     "user_tz": -330
    },
    "id": "jMmw-ku19soB",
    "outputId": "48663ab3-72d7-4c43-d8b8-f6b7f4894582"
   },
   "outputs": [
    {
     "data": {
      "text/plain": [
       "tensor([[ 6.7317e-01, -6.0775e-01,  2.2616e-01,  6.4475e-01, -9.5786e-01,\n",
       "         -1.5392e-01, -6.7305e-01, -1.4680e+00, -6.3673e-01, -4.4504e-02,\n",
       "         -3.5203e-01, -4.4269e-01, -8.0603e-01,  3.2831e-01, -1.7649e+00,\n",
       "          1.4208e-01,  9.1895e-02,  1.3067e+00,  2.5802e-01,  1.0116e+00,\n",
       "          3.8548e-01,  1.7396e+00, -1.3342e+00, -1.4885e+00,  7.5243e-03,\n",
       "         -1.5530e-01, -3.2763e-01, -1.3537e+00,  2.7955e-01, -5.9710e-01,\n",
       "          6.3795e-01,  3.0875e-01, -1.4084e+00, -8.1905e-01,  6.9137e-01,\n",
       "         -1.0777e+00, -2.5954e-01, -2.9294e-01,  1.3602e+00, -1.6316e-02,\n",
       "          5.9525e-01, -1.3433e+00, -1.0156e-01, -9.4362e-02, -2.5865e+00,\n",
       "          9.9429e-01,  2.1559e-01,  1.3702e+00,  2.4615e-01, -1.2092e+00,\n",
       "          1.1740e-01, -1.4320e-02,  9.6165e-01,  1.1600e+00, -5.1184e-01,\n",
       "          6.7109e-02, -1.8342e-01, -1.6475e+00,  1.0290e+00,  2.2672e+00,\n",
       "         -3.9259e-02,  3.8998e-01,  5.4569e-01,  7.0658e-01, -1.3195e-01,\n",
       "          4.2641e-01,  5.7855e-01,  1.4769e+00, -3.0406e-02,  1.2088e+00,\n",
       "         -1.7507e+00,  5.2538e-01, -5.3992e-01,  1.5910e+00,  3.6979e-01,\n",
       "         -9.7520e-01,  5.9455e-01, -7.6706e-02, -4.7032e-01, -1.2380e+00,\n",
       "          1.5810e-01, -1.4335e+00,  7.5714e-01,  2.0375e+00,  1.4574e+00,\n",
       "          4.2050e-01, -5.9588e-01, -1.1840e+00,  7.4609e-01,  1.0092e-01,\n",
       "         -3.2289e-01,  7.8204e-01, -5.9494e-01,  3.8194e-01,  1.3497e+00,\n",
       "         -2.4419e+00,  7.0403e-02, -3.2376e-01, -5.5654e-01, -1.3727e+00],\n",
       "        [ 1.7277e+00,  7.6717e-01,  1.3760e+00,  5.4233e-01,  2.7504e-02,\n",
       "          8.9170e-01,  2.8630e-01, -5.9821e-01,  6.0720e-01,  1.7018e-01,\n",
       "         -4.4920e-01, -5.8988e-01,  1.0709e-02,  7.0754e-01, -1.2034e+00,\n",
       "         -2.4259e-01, -2.0350e-01, -2.8103e-01,  1.4738e-01, -7.4689e-01,\n",
       "          9.6188e-01,  1.4837e-02, -8.9637e-01,  2.6294e-01, -1.2240e-01,\n",
       "          5.2970e-01, -7.8353e-01, -1.0792e+00,  5.5838e-01, -9.9750e-01,\n",
       "          2.3142e+00, -1.3653e+00, -6.2438e-01,  6.6266e-01,  1.4201e+00,\n",
       "          6.4222e-01, -2.0506e+00, -6.5642e-01,  2.1798e-01, -6.7301e-01,\n",
       "          1.1402e+00, -4.9276e-01,  8.5152e-01,  2.1813e+00,  5.6148e-01,\n",
       "         -1.1132e+00,  1.3779e+00, -1.2384e+00,  1.5988e+00, -1.2285e+00,\n",
       "          2.2025e-01, -1.5173e+00, -6.1539e-01,  2.5614e-01,  7.1839e-01,\n",
       "         -1.5865e-01, -1.0434e+00,  1.2233e+00,  9.6806e-01,  6.3567e-01,\n",
       "          7.9700e-01, -9.8600e-01, -1.3725e+00,  2.3497e-01,  5.3251e-01,\n",
       "         -4.0898e-01, -1.0446e+00, -8.6719e-01,  1.0221e-01, -8.4472e-01,\n",
       "          1.9878e-02,  1.6691e+00, -4.7867e-01, -2.1395e+00,  2.0545e+00,\n",
       "          4.3253e-01, -1.4390e+00, -1.9878e-01,  8.5565e-01,  6.8658e-02,\n",
       "          1.1524e+00, -4.2149e-01, -1.6314e+00,  1.9953e-01,  1.0545e+00,\n",
       "          1.6812e+00, -1.2898e+00, -4.9767e-01,  1.9450e-01, -5.9106e-01,\n",
       "          5.4631e-01,  2.2073e-01,  4.9678e-01, -1.0110e+00, -3.1541e-01,\n",
       "          1.5388e+00, -1.4004e+00, -1.0463e+00, -2.7409e-01,  4.2475e-01],\n",
       "        [ 2.1307e+00, -4.5026e-01,  1.1027e+00,  1.3916e+00,  2.0308e-02,\n",
       "         -1.6490e+00,  9.5570e-01, -6.9510e-01,  7.1714e-01, -3.7853e-01,\n",
       "          5.7947e-01, -7.5655e-02, -8.7806e-01, -2.9439e-01,  1.4586e+00,\n",
       "          1.5038e-01,  9.2049e-01, -1.7309e+00,  9.6378e-01, -1.6482e+00,\n",
       "          2.9949e-01, -1.6127e-01,  1.4871e+00,  4.0439e-01,  1.4597e+00,\n",
       "          7.1119e-01, -8.2123e-01,  1.7269e+00,  1.2864e+00, -6.9189e-01,\n",
       "          8.9727e-01, -6.8877e-01, -3.8912e-01,  5.0999e-01, -1.6147e+00,\n",
       "          4.5534e-01,  8.0627e-01,  6.4237e-01,  8.7872e-01,  7.3808e-01,\n",
       "         -3.1389e-01,  8.0300e-01,  3.2767e-01,  4.0621e-01, -1.1511e+00,\n",
       "         -1.7359e-01,  1.0297e+00,  3.9042e-01, -3.7283e-01, -3.8533e-01,\n",
       "         -8.1594e-01, -1.5119e+00, -1.5476e+00, -3.3694e-02, -1.2361e+00,\n",
       "         -1.8473e+00, -5.8225e-01,  1.6698e-01,  4.0322e-01,  3.3488e-03,\n",
       "          8.3486e-01,  2.2402e+00,  7.9876e-01,  6.6231e-01,  6.5480e-01,\n",
       "          3.7176e-01, -1.2503e+00, -2.7679e-01,  4.9646e-01, -3.3501e-01,\n",
       "          6.1931e-01, -1.4704e+00, -8.0810e-01, -1.2950e+00, -1.8214e+00,\n",
       "         -1.9894e-01,  5.3912e-01, -7.9068e-01, -3.1569e-01,  1.2461e+00,\n",
       "          1.8180e+00,  2.8803e-01,  9.1232e-01, -8.4518e-01, -5.7006e-02,\n",
       "          5.4571e-01, -6.9776e-01,  8.2531e-01, -8.9770e-01,  2.2978e+00,\n",
       "          3.1244e-01,  4.8637e-01, -2.8940e-02, -1.5230e+00,  1.8874e+00,\n",
       "          1.2992e-01,  6.6660e-01, -1.4313e+00, -1.2115e-01,  1.6193e+00],\n",
       "        [-1.2710e-01,  1.0782e+00,  4.1005e-01, -8.2841e-01, -5.2300e-01,\n",
       "          4.3633e-01,  9.2793e-01,  6.8695e-01,  5.2870e-01, -2.1080e+00,\n",
       "         -7.9478e-01,  8.2631e-01, -2.4766e-02, -1.1151e+00, -7.2493e-01,\n",
       "         -5.2132e-01, -4.4347e-01, -8.4859e-01,  6.0988e-01,  7.6995e-01,\n",
       "          1.5924e-03,  1.9286e-01, -1.2891e+00, -9.9696e-01,  1.3557e+00,\n",
       "         -5.1885e-01, -1.2790e-01,  1.3256e+00, -1.9789e-01,  3.9343e-01,\n",
       "          1.3423e+00, -7.9248e-01, -2.6153e+00, -1.4285e+00, -2.3827e+00,\n",
       "          1.8316e-01, -4.3466e-01, -1.6592e+00, -2.3187e+00,  3.5679e-01,\n",
       "         -1.1570e-01, -1.9865e-01, -6.0474e-01,  2.2852e+00,  6.4709e-01,\n",
       "          7.2186e-01,  7.5877e-01, -6.7939e-01, -5.9804e-01, -3.0418e-02,\n",
       "          2.1457e-01,  2.2449e+00,  9.8554e-01,  1.4150e+00,  3.6499e-02,\n",
       "          1.9652e-01,  5.5139e-01,  7.6793e-01, -3.3006e-01, -3.8612e-01,\n",
       "         -2.7827e-01, -6.2368e-01,  2.2163e+00,  1.7816e-01,  2.6435e+00,\n",
       "         -8.1102e-01, -2.1478e+00, -1.4533e+00, -9.7499e-01, -4.0935e-01,\n",
       "         -7.2377e-01, -3.1851e-01, -7.6626e-01,  8.4634e-01, -2.7957e-01,\n",
       "         -4.8378e-01,  1.0058e+00,  4.1060e-01, -4.5917e-01, -4.9381e-01,\n",
       "          1.4707e+00,  3.5495e-01,  7.1956e-01,  5.6314e-01,  3.2618e-02,\n",
       "         -1.4839e+00, -6.8352e-01, -7.2697e-01,  1.6312e-01,  3.9926e-01,\n",
       "          1.0387e+00, -7.2319e-01, -6.9674e-02, -8.0932e-01, -1.6900e+00,\n",
       "          3.8573e-01, -4.6904e-01, -3.5757e-01, -4.9810e-01,  8.3354e-01]],\n",
       "       grad_fn=<EmbeddingBackward0>)"
      ]
     },
     "execution_count": 35,
     "metadata": {},
     "output_type": "execute_result"
    }
   ],
   "source": [
    "embedding_output"
   ]
  },
  {
   "cell_type": "code",
   "execution_count": null,
   "metadata": {
    "id": "qBF1h2BG9tEz"
   },
   "outputs": [],
   "source": []
  },
  {
   "cell_type": "code",
   "execution_count": null,
   "metadata": {
    "id": "cJ6U1Rg092yG"
   },
   "outputs": [],
   "source": []
  },
  {
   "cell_type": "code",
   "execution_count": 36,
   "metadata": {
    "colab": {
     "base_uri": "https://localhost:8080/"
    },
    "executionInfo": {
     "elapsed": 5,
     "status": "ok",
     "timestamp": 1714547227119,
     "user": {
      "displayName": "Panchal Dhruv",
      "userId": "08685030827788807431"
     },
     "user_tz": -330
    },
    "id": "apXEwKA7922l",
    "outputId": "3f8dabc4-d4b7-40f1-d6b8-19d87290f97e"
   },
   "outputs": [
    {
     "data": {
      "text/plain": [
       "tensor(55)"
      ]
     },
     "execution_count": 36,
     "metadata": {},
     "output_type": "execute_result"
    }
   ],
   "source": [
    "a = torch.tensor([1,2,3,4,5])\n",
    "b = torch.tensor([1,2,3,4,5])\n",
    "\n",
    "c = torch.dot(a,b)\n",
    "c"
   ]
  },
  {
   "cell_type": "code",
   "execution_count": 37,
   "metadata": {
    "colab": {
     "base_uri": "https://localhost:8080/"
    },
    "executionInfo": {
     "elapsed": 9,
     "status": "ok",
     "timestamp": 1714547243222,
     "user": {
      "displayName": "Panchal Dhruv",
      "userId": "08685030827788807431"
     },
     "user_tz": -330
    },
    "id": "KiDZqo-U9268",
    "outputId": "32b14b1c-0ca0-4b21-d7cb-7a213c40b6ef"
   },
   "outputs": [
    {
     "data": {
      "text/plain": [
       "55"
      ]
     },
     "execution_count": 37,
     "metadata": {},
     "output_type": "execute_result"
    }
   ],
   "source": [
    "1+4+9+16+25"
   ]
  },
  {
   "cell_type": "code",
   "execution_count": 38,
   "metadata": {
    "colab": {
     "base_uri": "https://localhost:8080/"
    },
    "executionInfo": {
     "elapsed": 10,
     "status": "ok",
     "timestamp": 1714547278147,
     "user": {
      "displayName": "Panchal Dhruv",
      "userId": "08685030827788807431"
     },
     "user_tz": -330
    },
    "id": "YSgc5uiO93AM",
    "outputId": "83872168-8894-43bb-d402-ddc22e641244"
   },
   "outputs": [
    {
     "data": {
      "text/plain": [
       "tensor(55)"
      ]
     },
     "execution_count": 38,
     "metadata": {},
     "output_type": "execute_result"
    }
   ],
   "source": [
    "d = torch.matmul(a,b)\n",
    "d"
   ]
  },
  {
   "cell_type": "code",
   "execution_count": 39,
   "metadata": {
    "colab": {
     "base_uri": "https://localhost:8080/"
    },
    "executionInfo": {
     "elapsed": 4,
     "status": "ok",
     "timestamp": 1714547382254,
     "user": {
      "displayName": "Panchal Dhruv",
      "userId": "08685030827788807431"
     },
     "user_tz": -330
    },
    "id": "5hfX23Tg93Jl",
    "outputId": "d6245379-7166-49f3-856f-1627450f192a"
   },
   "outputs": [
    {
     "data": {
      "text/plain": [
       "tensor(55)"
      ]
     },
     "execution_count": 39,
     "metadata": {},
     "output_type": "execute_result"
    }
   ],
   "source": [
    "d = a @ b\n",
    "d"
   ]
  },
  {
   "cell_type": "code",
   "execution_count": 41,
   "metadata": {
    "colab": {
     "base_uri": "https://localhost:8080/"
    },
    "executionInfo": {
     "elapsed": 4,
     "status": "ok",
     "timestamp": 1714547458133,
     "user": {
      "displayName": "Panchal Dhruv",
      "userId": "08685030827788807431"
     },
     "user_tz": -330
    },
    "id": "mg-mPQ5g93Oe",
    "outputId": "2a47e5fc-6346-4c5e-f41f-b53d340497e9"
   },
   "outputs": [
    {
     "name": "stdout",
     "output_type": "stream",
     "text": [
      "a is :  tensor([[1, 2],\n",
      "        [3, 4]])\n",
      "b is :  tensor([[2, 2],\n",
      "        [3, 3]])\n"
     ]
    }
   ],
   "source": [
    "a = torch.tensor([[1,2] , [3,4]])\n",
    "b = torch.tensor([[2,2] , [3,3]])\n",
    "print(\"a is : \", a)\n",
    "print(\"b is : \", b)"
   ]
  },
  {
   "cell_type": "code",
   "execution_count": 42,
   "metadata": {
    "colab": {
     "base_uri": "https://localhost:8080/"
    },
    "executionInfo": {
     "elapsed": 3,
     "status": "ok",
     "timestamp": 1714547463490,
     "user": {
      "displayName": "Panchal Dhruv",
      "userId": "08685030827788807431"
     },
     "user_tz": -330
    },
    "id": "ex930U-893TR",
    "outputId": "d9869c5b-c9c4-49ea-8325-0de70b69d6c1"
   },
   "outputs": [
    {
     "data": {
      "text/plain": [
       "torch.Size([2, 2])"
      ]
     },
     "execution_count": 42,
     "metadata": {},
     "output_type": "execute_result"
    }
   ],
   "source": [
    "a.shape"
   ]
  },
  {
   "cell_type": "code",
   "execution_count": 43,
   "metadata": {
    "colab": {
     "base_uri": "https://localhost:8080/"
    },
    "executionInfo": {
     "elapsed": 6,
     "status": "ok",
     "timestamp": 1714547467335,
     "user": {
      "displayName": "Panchal Dhruv",
      "userId": "08685030827788807431"
     },
     "user_tz": -330
    },
    "id": "wG0bsym793YM",
    "outputId": "47061f9b-85ef-49c8-8f98-e6e32b08ae5a"
   },
   "outputs": [
    {
     "data": {
      "text/plain": [
       "torch.int64"
      ]
     },
     "execution_count": 43,
     "metadata": {},
     "output_type": "execute_result"
    }
   ],
   "source": [
    "a.dtype"
   ]
  },
  {
   "cell_type": "code",
   "execution_count": 44,
   "metadata": {
    "colab": {
     "base_uri": "https://localhost:8080/"
    },
    "executionInfo": {
     "elapsed": 4,
     "status": "ok",
     "timestamp": 1714547472681,
     "user": {
      "displayName": "Panchal Dhruv",
      "userId": "08685030827788807431"
     },
     "user_tz": -330
    },
    "id": "wAJrSp5U_h1f",
    "outputId": "81f297d4-71c7-4f48-9510-025cfa8d848d"
   },
   "outputs": [
    {
     "data": {
      "text/plain": [
       "array([[1, 2],\n",
       "       [3, 4]])"
      ]
     },
     "execution_count": 44,
     "metadata": {},
     "output_type": "execute_result"
    }
   ],
   "source": [
    "a.numpy()"
   ]
  },
  {
   "cell_type": "code",
   "execution_count": 45,
   "metadata": {
    "colab": {
     "base_uri": "https://localhost:8080/",
     "height": 148
    },
    "executionInfo": {
     "elapsed": 5,
     "status": "error",
     "timestamp": 1714547489573,
     "user": {
      "displayName": "Panchal Dhruv",
      "userId": "08685030827788807431"
     },
     "user_tz": -330
    },
    "id": "FMunHVKf_jTw",
    "outputId": "b29295ed-ac39-4e01-c9a5-f33aeae26ddc"
   },
   "outputs": [
    {
     "ename": "RuntimeError",
     "evalue": "1D tensors expected, but got 2D and 2D tensors",
     "output_type": "error",
     "traceback": [
      "\u001b[0;31m---------------------------------------------------------------------------\u001b[0m",
      "\u001b[0;31mRuntimeError\u001b[0m                              Traceback (most recent call last)",
      "\u001b[0;32m<ipython-input-45-5682e150e844>\u001b[0m in \u001b[0;36m<cell line: 1>\u001b[0;34m()\u001b[0m\n\u001b[0;32m----> 1\u001b[0;31m \u001b[0mtorch\u001b[0m\u001b[0;34m.\u001b[0m\u001b[0mdot\u001b[0m\u001b[0;34m(\u001b[0m\u001b[0ma\u001b[0m\u001b[0;34m,\u001b[0m\u001b[0mb\u001b[0m\u001b[0;34m)\u001b[0m\u001b[0;34m\u001b[0m\u001b[0;34m\u001b[0m\u001b[0m\n\u001b[0m",
      "\u001b[0;31mRuntimeError\u001b[0m: 1D tensors expected, but got 2D and 2D tensors"
     ]
    }
   ],
   "source": [
    "torch.dot(a,b)"
   ]
  },
  {
   "cell_type": "code",
   "execution_count": 46,
   "metadata": {
    "colab": {
     "base_uri": "https://localhost:8080/"
    },
    "executionInfo": {
     "elapsed": 6,
     "status": "ok",
     "timestamp": 1714547499962,
     "user": {
      "displayName": "Panchal Dhruv",
      "userId": "08685030827788807431"
     },
     "user_tz": -330
    },
    "id": "tTP_4BgX_nb1",
    "outputId": "efdda89e-83a7-4124-8dbd-bac5e025ec2f"
   },
   "outputs": [
    {
     "data": {
      "text/plain": [
       "tensor([[ 8,  8],\n",
       "        [18, 18]])"
      ]
     },
     "execution_count": 46,
     "metadata": {},
     "output_type": "execute_result"
    }
   ],
   "source": [
    "a @ b"
   ]
  },
  {
   "cell_type": "code",
   "execution_count": 47,
   "metadata": {
    "colab": {
     "base_uri": "https://localhost:8080/"
    },
    "executionInfo": {
     "elapsed": 4,
     "status": "ok",
     "timestamp": 1714547505460,
     "user": {
      "displayName": "Panchal Dhruv",
      "userId": "08685030827788807431"
     },
     "user_tz": -330
    },
    "id": "1EkNjbf1_p-F",
    "outputId": "86da9d99-b106-48d1-ebed-c9a50e344ce7"
   },
   "outputs": [
    {
     "data": {
      "text/plain": [
       "(tensor([[1, 2],\n",
       "         [3, 4]]),\n",
       " tensor([[2, 2],\n",
       "         [3, 3]]))"
      ]
     },
     "execution_count": 47,
     "metadata": {},
     "output_type": "execute_result"
    }
   ],
   "source": [
    "a , b"
   ]
  },
  {
   "cell_type": "code",
   "execution_count": 48,
   "metadata": {
    "colab": {
     "base_uri": "https://localhost:8080/"
    },
    "executionInfo": {
     "elapsed": 5,
     "status": "ok",
     "timestamp": 1714547572286,
     "user": {
      "displayName": "Panchal Dhruv",
      "userId": "08685030827788807431"
     },
     "user_tz": -330
    },
    "id": "16DUp66R_rMg",
    "outputId": "f8412080-c223-4fbf-8972-6e197bb7508f"
   },
   "outputs": [
    {
     "data": {
      "text/plain": [
       "tensor([[ 8,  8],\n",
       "        [18, 18]])"
      ]
     },
     "execution_count": 48,
     "metadata": {},
     "output_type": "execute_result"
    }
   ],
   "source": [
    "torch.matmul(a,b)"
   ]
  },
  {
   "cell_type": "code",
   "execution_count": 49,
   "metadata": {
    "colab": {
     "base_uri": "https://localhost:8080/"
    },
    "executionInfo": {
     "elapsed": 5,
     "status": "ok",
     "timestamp": 1714547678652,
     "user": {
      "displayName": "Panchal Dhruv",
      "userId": "08685030827788807431"
     },
     "user_tz": -330
    },
    "id": "2-y_Cwcm_7l9",
    "outputId": "3429ce62-ede5-4b6b-8cc9-e7d7fff7be47"
   },
   "outputs": [
    {
     "data": {
      "text/plain": [
       "tensor([[0, 0],\n",
       "        [0, 0],\n",
       "        [0, 0]])"
      ]
     },
     "execution_count": 49,
     "metadata": {},
     "output_type": "execute_result"
    }
   ],
   "source": [
    "a_int = torch.randint(1,(3,2))\n",
    "a_int"
   ]
  },
  {
   "cell_type": "code",
   "execution_count": 57,
   "metadata": {
    "colab": {
     "base_uri": "https://localhost:8080/"
    },
    "executionInfo": {
     "elapsed": 392,
     "status": "ok",
     "timestamp": 1714547776213,
     "user": {
      "displayName": "Panchal Dhruv",
      "userId": "08685030827788807431"
     },
     "user_tz": -330
    },
    "id": "MYEiHp7LAhuN",
    "outputId": "ded1600e-3316-446e-8d4e-827772d034b5"
   },
   "outputs": [
    {
     "data": {
      "text/plain": [
       "tensor([[0, 1],\n",
       "        [1, 1],\n",
       "        [0, 0]])"
      ]
     },
     "execution_count": 57,
     "metadata": {},
     "output_type": "execute_result"
    }
   ],
   "source": [
    "torch.randint(2,(3,2))\n",
    "##           high value # size"
   ]
  },
  {
   "cell_type": "code",
   "execution_count": 58,
   "metadata": {
    "colab": {
     "base_uri": "https://localhost:8080/"
    },
    "executionInfo": {
     "elapsed": 3,
     "status": "ok",
     "timestamp": 1714547776739,
     "user": {
      "displayName": "Panchal Dhruv",
      "userId": "08685030827788807431"
     },
     "user_tz": -330
    },
    "id": "nplQK-uJAVa7",
    "outputId": "2f167d64-24f4-47c5-adea-248e475b51c4"
   },
   "outputs": [
    {
     "data": {
      "text/plain": [
       "tensor([[0.4111, 0.5541, 0.3533],\n",
       "        [0.4947, 0.1088, 0.1031]])"
      ]
     },
     "execution_count": 58,
     "metadata": {},
     "output_type": "execute_result"
    }
   ],
   "source": [
    "b_float = torch.rand(2,3)\n",
    "b_float"
   ]
  },
  {
   "cell_type": "code",
   "execution_count": 59,
   "metadata": {
    "colab": {
     "base_uri": "https://localhost:8080/",
     "height": 148
    },
    "executionInfo": {
     "elapsed": 15,
     "status": "error",
     "timestamp": 1714547811937,
     "user": {
      "displayName": "Panchal Dhruv",
      "userId": "08685030827788807431"
     },
     "user_tz": -330
    },
    "id": "QbTFhbriAaiE",
    "outputId": "0b2eca49-274e-498a-e93d-7c14013bc524"
   },
   "outputs": [
    {
     "ename": "RuntimeError",
     "evalue": "expected m1 and m2 to have the same dtype, but got: long int != float",
     "output_type": "error",
     "traceback": [
      "\u001b[0;31m---------------------------------------------------------------------------\u001b[0m",
      "\u001b[0;31mRuntimeError\u001b[0m                              Traceback (most recent call last)",
      "\u001b[0;32m<ipython-input-59-09a6ebbbdaa7>\u001b[0m in \u001b[0;36m<cell line: 1>\u001b[0;34m()\u001b[0m\n\u001b[0;32m----> 1\u001b[0;31m \u001b[0mtorch\u001b[0m\u001b[0;34m.\u001b[0m\u001b[0mmatmul\u001b[0m\u001b[0;34m(\u001b[0m\u001b[0ma_int\u001b[0m\u001b[0;34m,\u001b[0m\u001b[0mb_float\u001b[0m\u001b[0;34m)\u001b[0m\u001b[0;34m\u001b[0m\u001b[0;34m\u001b[0m\u001b[0m\n\u001b[0m",
      "\u001b[0;31mRuntimeError\u001b[0m: expected m1 and m2 to have the same dtype, but got: long int != float"
     ]
    }
   ],
   "source": [
    "torch.matmul(a_int,b_float)"
   ]
  },
  {
   "cell_type": "code",
   "execution_count": 60,
   "metadata": {
    "colab": {
     "base_uri": "https://localhost:8080/"
    },
    "executionInfo": {
     "elapsed": 6,
     "status": "ok",
     "timestamp": 1714547837790,
     "user": {
      "displayName": "Panchal Dhruv",
      "userId": "08685030827788807431"
     },
     "user_tz": -330
    },
    "id": "AYeTO9nBA2Ai",
    "outputId": "72e0f5c4-d658-4558-fc37-1ce3b312bd66"
   },
   "outputs": [
    {
     "data": {
      "text/plain": [
       "tensor([[0, 0],\n",
       "        [0, 0],\n",
       "        [0, 0]])"
      ]
     },
     "execution_count": 60,
     "metadata": {},
     "output_type": "execute_result"
    }
   ],
   "source": [
    "a_int"
   ]
  },
  {
   "cell_type": "code",
   "execution_count": 62,
   "metadata": {
    "colab": {
     "base_uri": "https://localhost:8080/"
    },
    "executionInfo": {
     "elapsed": 9,
     "status": "ok",
     "timestamp": 1714547866363,
     "user": {
      "displayName": "Panchal Dhruv",
      "userId": "08685030827788807431"
     },
     "user_tz": -330
    },
    "id": "Re0vzeHrBCVA",
    "outputId": "7083e340-c84a-4168-abcd-27ca8916843f"
   },
   "outputs": [
    {
     "data": {
      "text/plain": [
       "torch.int64"
      ]
     },
     "execution_count": 62,
     "metadata": {},
     "output_type": "execute_result"
    }
   ],
   "source": [
    "a_int.dtype"
   ]
  },
  {
   "cell_type": "code",
   "execution_count": 61,
   "metadata": {
    "colab": {
     "base_uri": "https://localhost:8080/"
    },
    "executionInfo": {
     "elapsed": 7,
     "status": "ok",
     "timestamp": 1714547841114,
     "user": {
      "displayName": "Panchal Dhruv",
      "userId": "08685030827788807431"
     },
     "user_tz": -330
    },
    "id": "7tXchwWIA8Lj",
    "outputId": "cc40ee7c-f453-4a17-d313-5c2165bcd5b8"
   },
   "outputs": [
    {
     "data": {
      "text/plain": [
       "tensor([[0.4111, 0.5541, 0.3533],\n",
       "        [0.4947, 0.1088, 0.1031]])"
      ]
     },
     "execution_count": 61,
     "metadata": {},
     "output_type": "execute_result"
    }
   ],
   "source": [
    "b_float"
   ]
  },
  {
   "cell_type": "code",
   "execution_count": 63,
   "metadata": {
    "colab": {
     "base_uri": "https://localhost:8080/"
    },
    "executionInfo": {
     "elapsed": 411,
     "status": "ok",
     "timestamp": 1714547881029,
     "user": {
      "displayName": "Panchal Dhruv",
      "userId": "08685030827788807431"
     },
     "user_tz": -330
    },
    "id": "eqqtssPbA82J",
    "outputId": "1a89de07-a82a-4c96-efde-20161621ca8c"
   },
   "outputs": [
    {
     "data": {
      "text/plain": [
       "torch.float32"
      ]
     },
     "execution_count": 63,
     "metadata": {},
     "output_type": "execute_result"
    }
   ],
   "source": [
    "b_float.dtype"
   ]
  },
  {
   "cell_type": "code",
   "execution_count": 64,
   "metadata": {
    "colab": {
     "base_uri": "https://localhost:8080/"
    },
    "executionInfo": {
     "elapsed": 375,
     "status": "ok",
     "timestamp": 1714547943988,
     "user": {
      "displayName": "Panchal Dhruv",
      "userId": "08685030827788807431"
     },
     "user_tz": -330
    },
    "id": "j0Q__CAtBGya",
    "outputId": "c61dd644-31b8-4997-a0b0-7e5238f2ecc0"
   },
   "outputs": [
    {
     "data": {
      "text/plain": [
       "tensor([[0., 0.],\n",
       "        [0., 0.],\n",
       "        [0., 0.]])"
      ]
     },
     "execution_count": 64,
     "metadata": {},
     "output_type": "execute_result"
    }
   ],
   "source": [
    "a_int.float()"
   ]
  },
  {
   "cell_type": "code",
   "execution_count": 65,
   "metadata": {
    "colab": {
     "base_uri": "https://localhost:8080/"
    },
    "executionInfo": {
     "elapsed": 5,
     "status": "ok",
     "timestamp": 1714547969962,
     "user": {
      "displayName": "Panchal Dhruv",
      "userId": "08685030827788807431"
     },
     "user_tz": -330
    },
    "id": "L7PVVYH2BWSr",
    "outputId": "f841b635-3f01-4f5e-add8-7ef752d30432"
   },
   "outputs": [
    {
     "data": {
      "text/plain": [
       "tensor([[0., 0., 0.],\n",
       "        [0., 0., 0.],\n",
       "        [0., 0., 0.]])"
      ]
     },
     "execution_count": 65,
     "metadata": {},
     "output_type": "execute_result"
    }
   ],
   "source": [
    "torch.matmul(a_int.float(),b_float)"
   ]
  },
  {
   "cell_type": "code",
   "execution_count": 72,
   "metadata": {
    "colab": {
     "base_uri": "https://localhost:8080/"
    },
    "executionInfo": {
     "elapsed": 3,
     "status": "ok",
     "timestamp": 1714548976333,
     "user": {
      "displayName": "Panchal Dhruv",
      "userId": "08685030827788807431"
     },
     "user_tz": -330
    },
    "id": "eJTgy2mSBcsp",
    "outputId": "9f24b5de-dc9c-451c-e478-2198f369fab4"
   },
   "outputs": [
    {
     "data": {
      "text/plain": [
       "<zip at 0x7ace5da24c00>"
      ]
     },
     "execution_count": 72,
     "metadata": {},
     "output_type": "execute_result"
    }
   ],
   "source": [
    "sent = \"The sun rises in the east\"\n",
    "words = sent.split(\" \")\n",
    "temp = zip(*[words[i:] for i in range(0,2)])\n",
    "temp"
   ]
  },
  {
   "cell_type": "code",
   "execution_count": 74,
   "metadata": {
    "colab": {
     "base_uri": "https://localhost:8080/"
    },
    "executionInfo": {
     "elapsed": 406,
     "status": "ok",
     "timestamp": 1714548984246,
     "user": {
      "displayName": "Panchal Dhruv",
      "userId": "08685030827788807431"
     },
     "user_tz": -330
    },
    "id": "-Hy30ywpE4Jj",
    "outputId": "af93e0d1-a062-4604-fe13-6ebe650bdcd2"
   },
   "outputs": [
    {
     "data": {
      "text/plain": [
       "[]"
      ]
     },
     "execution_count": 74,
     "metadata": {},
     "output_type": "execute_result"
    }
   ],
   "source": [
    "[\" \".join(i) for i in temp]"
   ]
  },
  {
   "cell_type": "code",
   "execution_count": 73,
   "metadata": {
    "colab": {
     "base_uri": "https://localhost:8080/"
    },
    "executionInfo": {
     "elapsed": 7,
     "status": "ok",
     "timestamp": 1714548978172,
     "user": {
      "displayName": "Panchal Dhruv",
      "userId": "08685030827788807431"
     },
     "user_tz": -330
    },
    "id": "rgsz6aXOFBsU",
    "outputId": "22b2dd1b-ae08-44a0-da42-785ed289c4a6"
   },
   "outputs": [
    {
     "name": "stdout",
     "output_type": "stream",
     "text": [
      "('The', 'sun')\n",
      "('sun', 'rises')\n",
      "('rises', 'in')\n",
      "('in', 'the')\n",
      "('the', 'east')\n"
     ]
    }
   ],
   "source": [
    "for i in temp:\n",
    "    print(i)"
   ]
  },
  {
   "cell_type": "code",
   "execution_count": 80,
   "metadata": {
    "colab": {
     "base_uri": "https://localhost:8080/"
    },
    "executionInfo": {
     "elapsed": 396,
     "status": "ok",
     "timestamp": 1714549080653,
     "user": {
      "displayName": "Panchal Dhruv",
      "userId": "08685030827788807431"
     },
     "user_tz": -330
    },
    "id": "ar8RnL7NFIso",
    "outputId": "9b390ae9-9245-4111-8044-0cbe8fab86c5"
   },
   "outputs": [
    {
     "data": {
      "text/plain": [
       "<zip at 0x7ace5de3afc0>"
      ]
     },
     "execution_count": 80,
     "metadata": {},
     "output_type": "execute_result"
    }
   ],
   "source": [
    "sent = \"The sun rises in the east\"\n",
    "words = sent.split(\" \")\n",
    "temp = zip(*[words[i:] for i in range(0,2)])\n",
    "temp"
   ]
  },
  {
   "cell_type": "code",
   "execution_count": 81,
   "metadata": {
    "colab": {
     "base_uri": "https://localhost:8080/"
    },
    "executionInfo": {
     "elapsed": 3,
     "status": "ok",
     "timestamp": 1714549081593,
     "user": {
      "displayName": "Panchal Dhruv",
      "userId": "08685030827788807431"
     },
     "user_tz": -330
    },
    "id": "_K7yBy-PFYGM",
    "outputId": "7ad41b23-fe0e-4899-b50f-595b937eb4bf"
   },
   "outputs": [
    {
     "data": {
      "text/plain": [
       "['The sun', 'sun rises', 'rises in', 'in the', 'the east']"
      ]
     },
     "execution_count": 81,
     "metadata": {},
     "output_type": "execute_result"
    }
   ],
   "source": [
    "[\" \".join(i) for i in temp]"
   ]
  },
  {
   "cell_type": "code",
   "execution_count": null,
   "metadata": {
    "id": "40KYy9OsFaaL"
   },
   "outputs": [],
   "source": []
  }
 ],
 "metadata": {
  "accelerator": "GPU",
  "colab": {
   "authorship_tag": "ABX9TyPpUrWlzqnWYGGEvLEssro2",
   "gpuType": "T4",
   "provenance": []
  },
  "kernelspec": {
   "display_name": "Python 3 (ipykernel)",
   "language": "python",
   "name": "python3"
  },
  "language_info": {
   "codemirror_mode": {
    "name": "ipython",
    "version": 3
   },
   "file_extension": ".py",
   "mimetype": "text/x-python",
   "name": "python",
   "nbconvert_exporter": "python",
   "pygments_lexer": "ipython3",
   "version": "3.9.13"
  },
  "widgets": {
   "application/vnd.jupyter.widget-state+json": {
    "state": {},
    "version_major": 2,
    "version_minor": 0
   }
  }
 },
 "nbformat": 4,
 "nbformat_minor": 4
}
