{
 "cells": [
  {
   "cell_type": "code",
   "execution_count": 1,
   "id": "8be4f98e",
   "metadata": {},
   "outputs": [
    {
     "name": "stdout",
     "output_type": "stream",
     "text": [
      "Hello  I Am Dhruv Panchal\n"
     ]
    }
   ],
   "source": [
    "print(\"Hello  I Am Dhruv Panchal\")"
   ]
  },
  {
   "cell_type": "code",
   "execution_count": 2,
   "id": "4954920e",
   "metadata": {},
   "outputs": [],
   "source": [
    "## nvidia-smi"
   ]
  },
  {
   "cell_type": "code",
   "execution_count": 3,
   "id": "42afa20e",
   "metadata": {},
   "outputs": [],
   "source": [
    "import torch"
   ]
  },
  {
   "cell_type": "code",
   "execution_count": 4,
   "id": "e8c19263",
   "metadata": {},
   "outputs": [
    {
     "name": "stdout",
     "output_type": "stream",
     "text": [
      "2.5.1+cpu\n"
     ]
    }
   ],
   "source": [
    "print(torch.__version__)"
   ]
  },
  {
   "cell_type": "code",
   "execution_count": 5,
   "id": "6621de46",
   "metadata": {},
   "outputs": [],
   "source": [
    "import pandas as pd\n",
    "import numpy as np\n",
    "import matplotlib.pyplot as plt"
   ]
  },
  {
   "cell_type": "code",
   "execution_count": 6,
   "id": "bf7692e6",
   "metadata": {},
   "outputs": [
    {
     "data": {
      "text/plain": [
       "tensor([1])"
      ]
     },
     "execution_count": 6,
     "metadata": {},
     "output_type": "execute_result"
    }
   ],
   "source": [
    "## scaler tensor \n",
    "\n",
    "a = torch.tensor([1])\n",
    "a"
   ]
  },
  {
   "cell_type": "code",
   "execution_count": 7,
   "id": "324f63f6",
   "metadata": {},
   "outputs": [
    {
     "data": {
      "text/plain": [
       "torch.Size([1])"
      ]
     },
     "execution_count": 7,
     "metadata": {},
     "output_type": "execute_result"
    }
   ],
   "source": [
    "a.shape"
   ]
  },
  {
   "cell_type": "code",
   "execution_count": 8,
   "id": "a19205a5",
   "metadata": {},
   "outputs": [
    {
     "data": {
      "text/plain": [
       "torch.Size([1])"
      ]
     },
     "execution_count": 8,
     "metadata": {},
     "output_type": "execute_result"
    }
   ],
   "source": [
    "a.size()"
   ]
  },
  {
   "cell_type": "code",
   "execution_count": 10,
   "id": "6347880c",
   "metadata": {},
   "outputs": [
    {
     "data": {
      "text/plain": [
       "tensor(7)"
      ]
     },
     "execution_count": 10,
     "metadata": {},
     "output_type": "execute_result"
    }
   ],
   "source": [
    "scaler = torch.tensor(7)\n",
    "scaler"
   ]
  },
  {
   "cell_type": "code",
   "execution_count": 11,
   "id": "52e7cd71",
   "metadata": {},
   "outputs": [
    {
     "data": {
      "text/plain": [
       "torch.Size([])"
      ]
     },
     "execution_count": 11,
     "metadata": {},
     "output_type": "execute_result"
    }
   ],
   "source": [
    "scaler.shape"
   ]
  },
  {
   "cell_type": "code",
   "execution_count": 12,
   "id": "70397e56",
   "metadata": {},
   "outputs": [
    {
     "data": {
      "text/plain": [
       "tensor(1)"
      ]
     },
     "execution_count": 12,
     "metadata": {},
     "output_type": "execute_result"
    }
   ],
   "source": [
    "a[-1]"
   ]
  },
  {
   "cell_type": "code",
   "execution_count": 13,
   "id": "cecd202a",
   "metadata": {},
   "outputs": [
    {
     "data": {
      "text/plain": [
       "0"
      ]
     },
     "execution_count": 13,
     "metadata": {},
     "output_type": "execute_result"
    }
   ],
   "source": [
    "scaler.ndim"
   ]
  },
  {
   "cell_type": "code",
   "execution_count": 14,
   "id": "f802e5fd",
   "metadata": {},
   "outputs": [
    {
     "data": {
      "text/plain": [
       "1"
      ]
     },
     "execution_count": 14,
     "metadata": {},
     "output_type": "execute_result"
    }
   ],
   "source": [
    "a.ndim"
   ]
  },
  {
   "cell_type": "code",
   "execution_count": 16,
   "id": "54a7ac4e",
   "metadata": {},
   "outputs": [
    {
     "data": {
      "text/plain": [
       "1"
      ]
     },
     "execution_count": 16,
     "metadata": {},
     "output_type": "execute_result"
    }
   ],
   "source": [
    "a.item()"
   ]
  },
  {
   "cell_type": "code",
   "execution_count": 17,
   "id": "baff5d10",
   "metadata": {},
   "outputs": [
    {
     "data": {
      "text/plain": [
       "7"
      ]
     },
     "execution_count": 17,
     "metadata": {},
     "output_type": "execute_result"
    }
   ],
   "source": [
    "scaler.item()"
   ]
  },
  {
   "cell_type": "code",
   "execution_count": 18,
   "id": "90021c87",
   "metadata": {},
   "outputs": [
    {
     "data": {
      "text/plain": [
       "torch.Size([4])"
      ]
     },
     "execution_count": 18,
     "metadata": {},
     "output_type": "execute_result"
    }
   ],
   "source": [
    "# vector tensor\n",
    "\n",
    "b = torch.tensor([1,2,3,4])\n",
    "b.shape"
   ]
  },
  {
   "cell_type": "code",
   "execution_count": 19,
   "id": "3312f4bd",
   "metadata": {},
   "outputs": [
    {
     "data": {
      "text/plain": [
       "(torch.Size([4]), 1)"
      ]
     },
     "execution_count": 19,
     "metadata": {},
     "output_type": "execute_result"
    }
   ],
   "source": [
    "b.size(), b.ndim"
   ]
  },
  {
   "cell_type": "code",
   "execution_count": 20,
   "id": "7fde267c",
   "metadata": {},
   "outputs": [
    {
     "ename": "RuntimeError",
     "evalue": "a Tensor with 4 elements cannot be converted to Scalar",
     "output_type": "error",
     "traceback": [
      "\u001b[1;31m---------------------------------------------------------------------------\u001b[0m",
      "\u001b[1;31mRuntimeError\u001b[0m                              Traceback (most recent call last)",
      "Cell \u001b[1;32mIn[20], line 1\u001b[0m\n\u001b[1;32m----> 1\u001b[0m \u001b[43mb\u001b[49m\u001b[38;5;241;43m.\u001b[39;49m\u001b[43mitem\u001b[49m\u001b[43m(\u001b[49m\u001b[43m)\u001b[49m\n",
      "\u001b[1;31mRuntimeError\u001b[0m: a Tensor with 4 elements cannot be converted to Scalar"
     ]
    }
   ],
   "source": [
    "b.item()"
   ]
  },
  {
   "cell_type": "code",
   "execution_count": 1,
   "id": "d7c9819a",
   "metadata": {},
   "outputs": [],
   "source": [
    "import torch"
   ]
  },
  {
   "cell_type": "code",
   "execution_count": 4,
   "id": "8862db47",
   "metadata": {},
   "outputs": [
    {
     "data": {
      "text/plain": [
       "(torch.Size([3]), torch.Size([3]), 1)"
      ]
     },
     "execution_count": 4,
     "metadata": {},
     "output_type": "execute_result"
    }
   ],
   "source": [
    "b = torch.tensor([1,2,3])\n",
    "b.shape, b.size(), b.ndim"
   ]
  },
  {
   "cell_type": "code",
   "execution_count": 5,
   "id": "2d286b23",
   "metadata": {},
   "outputs": [
    {
     "ename": "RuntimeError",
     "evalue": "a Tensor with 3 elements cannot be converted to Scalar",
     "output_type": "error",
     "traceback": [
      "\u001b[1;31m---------------------------------------------------------------------------\u001b[0m",
      "\u001b[1;31mRuntimeError\u001b[0m                              Traceback (most recent call last)",
      "Cell \u001b[1;32mIn[5], line 1\u001b[0m\n\u001b[1;32m----> 1\u001b[0m \u001b[43mb\u001b[49m\u001b[38;5;241;43m.\u001b[39;49m\u001b[43mitem\u001b[49m\u001b[43m(\u001b[49m\u001b[43m)\u001b[49m\n",
      "\u001b[1;31mRuntimeError\u001b[0m: a Tensor with 3 elements cannot be converted to Scalar"
     ]
    }
   ],
   "source": [
    "b.item()"
   ]
  },
  {
   "cell_type": "code",
   "execution_count": 9,
   "id": "6a8abaaa",
   "metadata": {},
   "outputs": [
    {
     "data": {
      "text/plain": [
       "tensor([1., 2., 3.])"
      ]
     },
     "execution_count": 9,
     "metadata": {},
     "output_type": "execute_result"
    }
   ],
   "source": [
    "b.float()"
   ]
  },
  {
   "cell_type": "code",
   "execution_count": 10,
   "id": "c86897bb",
   "metadata": {},
   "outputs": [
    {
     "data": {
      "text/plain": [
       "device(type='cpu')"
      ]
     },
     "execution_count": 10,
     "metadata": {},
     "output_type": "execute_result"
    }
   ],
   "source": [
    "b.device"
   ]
  },
  {
   "cell_type": "code",
   "execution_count": 11,
   "id": "a39925d2",
   "metadata": {},
   "outputs": [
    {
     "data": {
      "text/plain": [
       "tensor([1, 2, 3])"
      ]
     },
     "execution_count": 11,
     "metadata": {},
     "output_type": "execute_result"
    }
   ],
   "source": [
    "b.abs()"
   ]
  },
  {
   "cell_type": "code",
   "execution_count": 12,
   "id": "6164e777",
   "metadata": {},
   "outputs": [
    {
     "data": {
      "text/plain": [
       "tensor([1, 2, 3])"
      ]
     },
     "execution_count": 12,
     "metadata": {},
     "output_type": "execute_result"
    }
   ],
   "source": [
    "b.absolute()"
   ]
  },
  {
   "cell_type": "code",
   "execution_count": 14,
   "id": "280f8f38",
   "metadata": {},
   "outputs": [],
   "source": [
    "b.name"
   ]
  },
  {
   "cell_type": "code",
   "execution_count": 20,
   "id": "5b064f80",
   "metadata": {},
   "outputs": [
    {
     "data": {
      "text/plain": [
       "tensor([1, 2, 3])"
      ]
     },
     "execution_count": 20,
     "metadata": {},
     "output_type": "execute_result"
    }
   ],
   "source": [
    "b.ceil()"
   ]
  },
  {
   "cell_type": "code",
   "execution_count": 21,
   "id": "331cdc21",
   "metadata": {},
   "outputs": [
    {
     "data": {
      "text/plain": [
       "tensor([1, 2, 3])"
      ]
     },
     "execution_count": 21,
     "metadata": {},
     "output_type": "execute_result"
    }
   ],
   "source": [
    "b.floor()"
   ]
  },
  {
   "cell_type": "markdown",
   "id": "060d9f07",
   "metadata": {},
   "source": [
    "## Random tensor"
   ]
  },
  {
   "cell_type": "code",
   "execution_count": 22,
   "id": "38b3f04f",
   "metadata": {},
   "outputs": [],
   "source": [
    "## why random rensor ?\n",
    "\n",
    "## random rensors are important bcause the way many neural networks learn is that they start with tensors full of the random numbers and then adjust those random numbers to better represent the data\n"
   ]
  },
  {
   "cell_type": "code",
   "execution_count": 23,
   "id": "5595e389",
   "metadata": {},
   "outputs": [],
   "source": [
    "## start witj random number --> look at data -- > update random numner --> look at the data -- > update the random number"
   ]
  },
  {
   "cell_type": "code",
   "execution_count": 24,
   "id": "e13d2a06",
   "metadata": {},
   "outputs": [
    {
     "data": {
      "text/plain": [
       "tensor([[0.8956, 0.2574, 0.2992, 0.6917],\n",
       "        [0.8820, 0.2544, 0.3582, 0.0323],\n",
       "        [0.4948, 0.0417, 0.2870, 0.3665]])"
      ]
     },
     "execution_count": 24,
     "metadata": {},
     "output_type": "execute_result"
    }
   ],
   "source": [
    "random_tensor = torch.rand(3,4)\n",
    "random_tensor"
   ]
  },
  {
   "cell_type": "code",
   "execution_count": 25,
   "id": "4e070b03",
   "metadata": {},
   "outputs": [
    {
     "data": {
      "text/plain": [
       "torch.Size([3, 4])"
      ]
     },
     "execution_count": 25,
     "metadata": {},
     "output_type": "execute_result"
    }
   ],
   "source": [
    "random_tensor.shape"
   ]
  },
  {
   "cell_type": "code",
   "execution_count": 26,
   "id": "91303c87",
   "metadata": {},
   "outputs": [
    {
     "data": {
      "text/plain": [
       "torch.float32"
      ]
     },
     "execution_count": 26,
     "metadata": {},
     "output_type": "execute_result"
    }
   ],
   "source": [
    "random_tensor.dtype"
   ]
  },
  {
   "cell_type": "code",
   "execution_count": 27,
   "id": "b7ca1295",
   "metadata": {},
   "outputs": [
    {
     "data": {
      "text/plain": [
       "2"
      ]
     },
     "execution_count": 27,
     "metadata": {},
     "output_type": "execute_result"
    }
   ],
   "source": [
    "random_tensor.ndim"
   ]
  },
  {
   "cell_type": "code",
   "execution_count": 28,
   "id": "10906adf",
   "metadata": {},
   "outputs": [
    {
     "data": {
      "text/plain": [
       "tensor([[[0.5828, 0.8067, 0.4023, 0.3436, 0.5591, 0.0123, 0.9637, 0.1230,\n",
       "          0.4255, 0.1445],\n",
       "         [0.8546, 0.6575, 0.7110, 0.2865, 0.9043, 0.5587, 0.9088, 0.3406,\n",
       "          0.3521, 0.3055],\n",
       "         [0.7513, 0.6684, 0.8654, 0.7433, 0.6770, 0.3617, 0.9849, 0.0768,\n",
       "          0.3132, 0.1692],\n",
       "         [0.9001, 0.6834, 0.0754, 0.5768, 0.6403, 0.6783, 0.2522, 0.4669,\n",
       "          0.9112, 0.2950],\n",
       "         [0.7570, 0.1311, 0.3366, 0.0567, 0.7868, 0.9277, 0.1584, 0.5035,\n",
       "          0.4483, 0.4397],\n",
       "         [0.1602, 0.7503, 0.5899, 0.3963, 0.0851, 0.3251, 0.7340, 0.3623,\n",
       "          0.3852, 0.6508],\n",
       "         [0.5125, 0.4219, 0.2468, 0.5657, 0.7759, 0.6912, 0.4017, 0.1335,\n",
       "          0.7108, 0.8452],\n",
       "         [0.4200, 0.9308, 0.9557, 0.5901, 0.3867, 0.3622, 0.4765, 0.1538,\n",
       "          0.5950, 0.0980],\n",
       "         [0.3232, 0.9569, 0.4685, 0.6973, 0.0711, 0.3032, 0.4882, 0.9864,\n",
       "          0.5469, 0.1835],\n",
       "         [0.5764, 0.6063, 0.5657, 0.7536, 0.2540, 0.4941, 0.1003, 0.5615,\n",
       "          0.1022, 0.2064]]])"
      ]
     },
     "execution_count": 28,
     "metadata": {},
     "output_type": "execute_result"
    }
   ],
   "source": [
    "random_ = torch.rand(1,10,10)\n",
    "random_"
   ]
  },
  {
   "cell_type": "code",
   "execution_count": 29,
   "id": "99267cae",
   "metadata": {},
   "outputs": [
    {
     "data": {
      "text/plain": [
       "torch.Size([1, 10, 10])"
      ]
     },
     "execution_count": 29,
     "metadata": {},
     "output_type": "execute_result"
    }
   ],
   "source": [
    "random_.shape"
   ]
  },
  {
   "cell_type": "code",
   "execution_count": 30,
   "id": "13457b5c",
   "metadata": {},
   "outputs": [
    {
     "data": {
      "text/plain": [
       "3"
      ]
     },
     "execution_count": 30,
     "metadata": {},
     "output_type": "execute_result"
    }
   ],
   "source": [
    "random_.ndim"
   ]
  },
  {
   "cell_type": "code",
   "execution_count": 31,
   "id": "c4133dba",
   "metadata": {},
   "outputs": [
    {
     "data": {
      "text/plain": [
       "device(type='cpu')"
      ]
     },
     "execution_count": 31,
     "metadata": {},
     "output_type": "execute_result"
    }
   ],
   "source": [
    "random_.device"
   ]
  },
  {
   "cell_type": "code",
   "execution_count": 32,
   "id": "43779d6b",
   "metadata": {},
   "outputs": [
    {
     "data": {
      "text/plain": [
       "tensor([[[1.8267e-02, 5.7058e-01, 5.8448e-01, 7.5917e-01, 5.8727e-01,\n",
       "          9.8462e-01, 2.6117e-01, 3.7830e-03, 7.1268e-01, 4.8514e-01],\n",
       "         [1.9704e-01, 7.4120e-01, 2.8855e-01, 5.1055e-01, 1.5031e-01,\n",
       "          5.1669e-02, 9.6893e-01, 5.6997e-01, 6.8020e-01, 2.9622e-01],\n",
       "         [9.1296e-01, 1.9695e-01, 7.7431e-01, 7.6489e-01, 7.7456e-01,\n",
       "          6.4722e-01, 9.2022e-01, 1.6818e-01, 7.8254e-01, 5.3020e-01],\n",
       "         [6.3441e-01, 1.2416e-01, 2.6444e-01, 5.3291e-01, 6.9353e-01,\n",
       "          9.0978e-01, 5.4169e-01, 7.7453e-01, 3.1834e-01, 4.3218e-01],\n",
       "         [7.5887e-01, 9.2264e-01, 5.4658e-01, 5.3200e-01, 6.1806e-01,\n",
       "          2.4499e-01, 5.7078e-01, 5.4605e-01, 8.4094e-01, 3.0703e-01],\n",
       "         [8.5160e-01, 1.6452e-01, 2.2471e-01, 8.2102e-01, 5.4763e-01,\n",
       "          4.8485e-01, 1.8907e-01, 1.9733e-01, 6.7166e-01, 4.8316e-01],\n",
       "         [9.2779e-01, 8.5920e-01, 1.3998e-02, 7.3811e-01, 3.3144e-01,\n",
       "          3.7348e-01, 1.4420e-01, 7.8359e-01, 7.1880e-01, 3.4304e-01],\n",
       "         [1.5889e-01, 1.8114e-01, 7.6935e-01, 7.5958e-01, 2.7837e-01,\n",
       "          2.2432e-01, 4.7585e-02, 4.3729e-01, 2.3480e-01, 7.0220e-01],\n",
       "         [6.3436e-01, 3.8920e-01, 2.5381e-01, 4.3598e-01, 5.1622e-01,\n",
       "          2.1368e-02, 8.5619e-01, 8.9763e-01, 6.1808e-01, 7.7048e-02],\n",
       "         [5.3249e-01, 7.4569e-01, 2.9604e-01, 1.1440e-01, 4.9198e-01,\n",
       "          7.3940e-01, 4.1814e-01, 8.9006e-02, 6.5047e-01, 2.4044e-01]],\n",
       "\n",
       "        [[6.6750e-01, 7.4354e-01, 7.0342e-01, 2.1385e-01, 7.2071e-01,\n",
       "          8.9445e-02, 9.0240e-01, 1.8264e-01, 6.3184e-01, 6.1234e-01],\n",
       "         [3.4503e-02, 2.5537e-02, 6.7815e-01, 9.0099e-01, 1.1353e-01,\n",
       "          4.8829e-01, 3.3494e-01, 5.9315e-01, 7.0468e-01, 9.9699e-01],\n",
       "         [8.7014e-01, 3.9105e-01, 7.6785e-01, 4.7667e-01, 8.0393e-01,\n",
       "          4.7546e-01, 3.1174e-01, 7.6900e-01, 5.6503e-01, 1.0440e-01],\n",
       "         [5.3195e-01, 2.9690e-01, 6.9796e-01, 8.4585e-01, 9.8491e-01,\n",
       "          3.2282e-01, 7.9345e-01, 1.6594e-01, 8.0404e-01, 8.2223e-01],\n",
       "         [4.2267e-01, 4.2832e-01, 9.2414e-01, 3.3182e-01, 8.4398e-01,\n",
       "          8.1918e-01, 6.0410e-01, 3.2073e-01, 7.7128e-01, 9.6968e-01],\n",
       "         [3.7186e-01, 9.3514e-01, 4.0676e-01, 6.9274e-01, 7.2824e-01,\n",
       "          8.5461e-01, 7.9979e-01, 9.3266e-01, 5.8102e-01, 3.6070e-02],\n",
       "         [5.1390e-01, 4.8420e-01, 8.7259e-01, 9.5688e-01, 4.3025e-01,\n",
       "          9.5095e-01, 2.3987e-01, 3.8686e-01, 3.8666e-01, 4.1615e-01],\n",
       "         [9.8337e-01, 8.4669e-01, 6.2392e-01, 6.1628e-01, 8.7411e-01,\n",
       "          1.2195e-01, 4.5964e-01, 4.0919e-02, 7.5977e-01, 5.0007e-01],\n",
       "         [4.1117e-01, 8.3701e-01, 2.9649e-01, 8.5277e-01, 9.0494e-01,\n",
       "          1.8967e-01, 2.2790e-01, 2.8501e-02, 2.8176e-01, 2.4413e-01],\n",
       "         [5.1113e-01, 9.2779e-01, 5.5571e-01, 5.2434e-01, 4.4775e-01,\n",
       "          7.9130e-01, 5.3650e-01, 8.8055e-01, 1.6556e-01, 3.1968e-01]],\n",
       "\n",
       "        [[5.6893e-01, 1.2511e-01, 7.6504e-01, 2.4880e-02, 6.6917e-01,\n",
       "          2.5371e-03, 2.9255e-01, 7.8070e-01, 5.8374e-01, 2.6731e-01],\n",
       "         [7.1772e-01, 1.8465e-01, 5.7025e-01, 2.8467e-02, 3.0989e-01,\n",
       "          9.4618e-01, 7.3327e-01, 3.0760e-01, 5.0872e-01, 4.2913e-01],\n",
       "         [1.7883e-01, 3.9085e-01, 8.6962e-01, 1.4585e-01, 2.1545e-01,\n",
       "          6.1052e-01, 2.5845e-01, 7.2989e-01, 5.2799e-01, 2.7010e-01],\n",
       "         [3.1773e-01, 8.5779e-01, 3.5123e-01, 4.5974e-01, 3.1432e-01,\n",
       "          3.9208e-01, 3.4890e-01, 3.0876e-01, 2.1994e-02, 9.2663e-02],\n",
       "         [8.9385e-01, 2.3446e-02, 3.2157e-01, 2.0385e-01, 7.9078e-01,\n",
       "          2.5464e-01, 3.8409e-01, 8.3076e-01, 4.8481e-01, 1.1607e-01],\n",
       "         [6.5654e-01, 6.5024e-01, 2.1607e-01, 3.5577e-01, 4.9528e-01,\n",
       "          3.1536e-01, 4.0849e-01, 7.2179e-01, 4.9811e-01, 6.5827e-01],\n",
       "         [1.9475e-01, 2.2808e-01, 4.2042e-01, 2.3126e-01, 1.1331e-01,\n",
       "          4.3991e-02, 3.7434e-02, 5.2990e-01, 6.5206e-02, 6.1164e-01],\n",
       "         [7.2442e-01, 1.9136e-01, 1.4334e-01, 3.8610e-01, 2.9015e-01,\n",
       "          7.4196e-01, 3.6884e-01, 1.1581e-01, 5.9284e-02, 5.0767e-01],\n",
       "         [6.8303e-01, 2.5648e-01, 8.7501e-03, 9.2372e-01, 6.9679e-01,\n",
       "          6.6647e-02, 1.3037e-01, 5.0650e-01, 7.0735e-01, 6.7084e-01],\n",
       "         [3.9746e-01, 4.2292e-01, 8.5089e-01, 7.9535e-01, 4.3396e-01,\n",
       "          5.5894e-01, 7.7621e-01, 7.8171e-01, 1.4570e-01, 5.5514e-01]],\n",
       "\n",
       "        [[4.6038e-01, 1.0184e-01, 8.0009e-01, 5.8269e-01, 2.4504e-01,\n",
       "          1.6413e-02, 8.2700e-01, 4.5920e-01, 3.3579e-01, 8.3178e-01],\n",
       "         [1.4911e-01, 9.1982e-02, 7.4232e-01, 1.4652e-01, 7.1763e-01,\n",
       "          5.6808e-01, 9.8996e-02, 4.9995e-02, 8.9813e-01, 5.6638e-01],\n",
       "         [4.5472e-01, 8.2887e-01, 3.6687e-01, 2.4762e-01, 5.6891e-01,\n",
       "          1.7144e-01, 1.9509e-01, 4.4711e-01, 1.0490e-01, 3.6338e-02],\n",
       "         [8.8508e-01, 8.5855e-01, 3.4993e-01, 7.2932e-04, 2.1227e-01,\n",
       "          3.3440e-01, 6.3297e-01, 5.8863e-01, 4.3479e-02, 2.6070e-01],\n",
       "         [7.1686e-01, 1.4430e-01, 8.5253e-01, 2.0972e-01, 8.9515e-01,\n",
       "          1.9881e-02, 9.2329e-01, 6.5746e-01, 9.7589e-01, 3.1292e-01],\n",
       "         [5.2702e-01, 4.7171e-01, 1.8007e-01, 7.1912e-01, 6.8398e-01,\n",
       "          4.3153e-01, 2.4002e-01, 8.3273e-01, 7.8963e-01, 3.0244e-01],\n",
       "         [5.4816e-01, 8.1385e-01, 7.2653e-01, 3.8581e-01, 5.7285e-01,\n",
       "          9.1701e-01, 1.1016e-01, 2.7461e-01, 4.0201e-01, 7.5844e-01],\n",
       "         [8.4967e-01, 7.9312e-02, 4.7022e-01, 3.0580e-01, 1.2825e-01,\n",
       "          9.5466e-01, 9.6347e-01, 9.1392e-01, 2.3633e-01, 7.0912e-01],\n",
       "         [8.6462e-01, 5.9911e-01, 5.5885e-01, 7.4752e-01, 5.3741e-01,\n",
       "          5.5179e-01, 4.6987e-01, 7.8159e-01, 7.1423e-01, 9.5826e-01],\n",
       "         [6.9311e-01, 8.2072e-02, 2.1942e-01, 3.5631e-01, 2.3541e-01,\n",
       "          3.9450e-01, 5.3674e-01, 3.3344e-02, 2.5951e-01, 6.4954e-01]],\n",
       "\n",
       "        [[7.0874e-01, 8.3141e-01, 9.3560e-01, 7.1173e-01, 4.9999e-01,\n",
       "          6.2542e-01, 8.2975e-01, 2.9656e-01, 5.1684e-01, 1.1146e-01],\n",
       "         [5.8289e-01, 4.4493e-01, 4.9348e-01, 7.8750e-01, 4.0392e-01,\n",
       "          3.5270e-01, 6.1839e-01, 5.4859e-01, 6.7457e-01, 3.0766e-01],\n",
       "         [6.4479e-01, 6.1020e-01, 5.5828e-01, 4.1272e-01, 4.2050e-01,\n",
       "          2.8791e-02, 1.6730e-01, 3.9371e-01, 3.8333e-01, 2.9778e-01],\n",
       "         [1.5015e-01, 8.2114e-01, 1.4084e-01, 4.5550e-01, 2.1827e-01,\n",
       "          8.5095e-01, 3.6047e-01, 2.5568e-01, 5.5856e-02, 8.8545e-01],\n",
       "         [8.0726e-01, 8.1399e-01, 5.4516e-01, 6.8538e-01, 3.8219e-01,\n",
       "          3.2405e-01, 3.2759e-01, 5.3981e-01, 5.8496e-01, 5.3039e-02],\n",
       "         [4.2165e-01, 2.1937e-01, 3.8628e-01, 6.9955e-02, 4.7687e-02,\n",
       "          4.1537e-01, 3.3194e-01, 1.9460e-01, 7.4727e-01, 9.9990e-01],\n",
       "         [3.6179e-01, 5.3241e-01, 9.1078e-01, 9.6586e-01, 6.3608e-02,\n",
       "          7.3111e-02, 3.1829e-01, 5.6125e-01, 2.1450e-01, 6.3697e-01],\n",
       "         [9.2649e-01, 7.7115e-01, 9.7668e-01, 9.0023e-01, 1.4557e-01,\n",
       "          2.0798e-01, 7.0601e-01, 3.1872e-01, 8.9087e-01, 9.7316e-01],\n",
       "         [3.1785e-01, 1.3236e-01, 1.6764e-01, 5.8865e-01, 5.7787e-01,\n",
       "          5.9557e-01, 1.8201e-01, 9.0712e-01, 2.5484e-01, 2.9950e-01],\n",
       "         [8.1233e-01, 2.5790e-01, 4.9278e-01, 7.9527e-01, 9.4899e-02,\n",
       "          9.4708e-01, 3.3147e-01, 2.1566e-01, 3.8376e-01, 9.4094e-01]],\n",
       "\n",
       "        [[5.2933e-01, 4.7188e-01, 8.7997e-02, 4.0244e-01, 1.1010e-01,\n",
       "          7.7816e-01, 6.0633e-01, 9.3689e-01, 9.3745e-01, 5.8041e-01],\n",
       "         [7.4969e-01, 7.0322e-01, 9.4096e-01, 4.2435e-02, 7.3315e-01,\n",
       "          9.6883e-01, 7.7977e-01, 9.0248e-01, 5.6772e-01, 5.5577e-01],\n",
       "         [8.9587e-01, 2.4673e-01, 7.4998e-01, 1.4054e-01, 2.7672e-01,\n",
       "          4.0475e-01, 7.0767e-01, 4.8133e-01, 3.5821e-01, 9.9338e-01],\n",
       "         [1.8337e-01, 9.5169e-01, 1.3449e-01, 8.2939e-01, 6.5061e-02,\n",
       "          8.8949e-01, 8.7776e-01, 2.4749e-01, 9.1518e-01, 8.2525e-01],\n",
       "         [4.4600e-01, 3.9157e-01, 9.6930e-01, 4.4189e-01, 7.7498e-01,\n",
       "          6.7014e-01, 4.8382e-01, 4.4306e-01, 6.3794e-01, 8.8849e-01],\n",
       "         [1.4374e-01, 8.4339e-01, 2.8375e-02, 9.3713e-01, 9.5430e-01,\n",
       "          3.8173e-01, 1.9163e-01, 6.8753e-01, 3.8542e-01, 2.4448e-01],\n",
       "         [3.4571e-01, 9.6600e-01, 7.6138e-01, 2.4338e-01, 1.6313e-01,\n",
       "          7.1878e-01, 6.7561e-01, 8.9603e-01, 6.7172e-02, 8.2880e-01],\n",
       "         [3.8422e-01, 6.3680e-01, 9.7194e-01, 1.4548e-01, 6.9876e-01,\n",
       "          5.3263e-01, 7.8678e-01, 3.4389e-01, 4.2146e-01, 2.9982e-02],\n",
       "         [5.0028e-01, 8.9041e-02, 9.7833e-02, 6.8993e-01, 7.9517e-01,\n",
       "          5.3178e-01, 8.1445e-01, 9.7737e-01, 6.8423e-01, 2.7569e-01],\n",
       "         [4.9937e-01, 3.0602e-01, 7.4340e-01, 6.2667e-01, 5.8368e-01,\n",
       "          3.9924e-01, 9.5229e-01, 8.9770e-01, 9.5799e-01, 7.7755e-01]],\n",
       "\n",
       "        [[5.7331e-01, 6.8719e-01, 9.8769e-01, 9.5449e-01, 2.3014e-01,\n",
       "          8.9083e-01, 2.9361e-01, 2.0362e-01, 7.4390e-01, 2.9072e-01],\n",
       "         [4.0342e-01, 4.5906e-01, 3.1259e-01, 5.1550e-01, 2.7911e-02,\n",
       "          7.7147e-01, 8.6015e-01, 9.1558e-01, 8.2383e-01, 7.2543e-01],\n",
       "         [4.2271e-01, 9.8548e-01, 1.6169e-01, 3.3837e-01, 7.5676e-01,\n",
       "          5.4942e-01, 6.9223e-01, 1.6548e-01, 7.2865e-01, 4.3172e-01],\n",
       "         [2.2976e-01, 5.1817e-02, 7.9312e-01, 3.7868e-01, 2.7231e-01,\n",
       "          8.8760e-01, 1.4511e-01, 8.7208e-01, 5.2626e-01, 8.1586e-01],\n",
       "         [8.7814e-01, 3.6397e-01, 1.7796e-01, 4.4872e-01, 6.9657e-01,\n",
       "          9.2776e-02, 2.4542e-01, 3.2381e-01, 7.9540e-01, 8.6084e-01],\n",
       "         [5.7913e-01, 7.8096e-01, 5.2835e-01, 8.3125e-01, 4.0441e-01,\n",
       "          9.0033e-01, 7.8200e-02, 4.0930e-01, 3.4769e-01, 6.9198e-02],\n",
       "         [7.3270e-01, 9.1051e-01, 9.5365e-01, 7.2267e-02, 1.0974e-01,\n",
       "          9.8616e-01, 6.5462e-01, 3.0941e-01, 7.2855e-01, 6.1853e-01],\n",
       "         [9.1347e-01, 8.0368e-01, 2.6217e-01, 9.0116e-01, 5.3006e-01,\n",
       "          2.7931e-01, 4.2646e-01, 1.6392e-01, 8.8948e-01, 8.7245e-01],\n",
       "         [6.8448e-01, 5.0634e-01, 7.1606e-01, 7.8038e-01, 1.0993e-01,\n",
       "          5.7781e-01, 7.1169e-02, 4.7930e-01, 9.1850e-01, 5.0000e-01],\n",
       "         [1.2072e-01, 2.7081e-01, 2.7314e-01, 1.9079e-01, 9.3462e-01,\n",
       "          1.7085e-01, 1.6439e-01, 5.7199e-01, 3.7522e-02, 2.0730e-01]],\n",
       "\n",
       "        [[4.5111e-01, 2.0058e-01, 5.4145e-01, 3.9192e-01, 9.4246e-01,\n",
       "          3.6598e-01, 4.1553e-01, 5.4803e-01, 5.1369e-01, 5.1677e-01],\n",
       "         [4.0539e-01, 8.3156e-01, 6.8245e-01, 7.2884e-01, 1.9727e-01,\n",
       "          1.2026e-01, 8.1554e-01, 4.3914e-01, 3.0418e-01, 8.3397e-01],\n",
       "         [2.3808e-01, 7.9367e-02, 5.0854e-01, 1.7611e-01, 2.6841e-03,\n",
       "          5.8951e-01, 9.0099e-01, 5.0215e-01, 1.1180e-01, 9.4248e-01],\n",
       "         [9.6143e-01, 9.7829e-01, 3.4335e-01, 9.2936e-01, 3.6086e-01,\n",
       "          2.3427e-01, 6.6289e-01, 4.8603e-01, 6.3783e-01, 8.5439e-01],\n",
       "         [3.5815e-01, 5.4201e-01, 4.0852e-01, 9.3152e-01, 3.2055e-01,\n",
       "          1.1486e-01, 1.1004e-01, 9.8204e-01, 6.0757e-01, 6.8442e-01],\n",
       "         [9.5312e-01, 9.9702e-02, 4.3329e-01, 7.6336e-01, 1.9133e-01,\n",
       "          2.4691e-01, 5.8381e-01, 6.3362e-01, 6.7175e-01, 2.9980e-01],\n",
       "         [5.1318e-01, 9.3200e-01, 9.3328e-01, 2.4130e-01, 6.3874e-01,\n",
       "          9.2244e-01, 5.9844e-01, 6.1943e-01, 2.2698e-01, 3.4377e-01],\n",
       "         [8.3593e-01, 6.6277e-01, 1.7063e-01, 6.1896e-01, 4.6166e-01,\n",
       "          2.1965e-01, 1.9961e-01, 4.1410e-01, 8.2695e-01, 9.5244e-01],\n",
       "         [2.4198e-01, 5.7517e-01, 6.9016e-01, 9.6663e-01, 6.7409e-01,\n",
       "          5.2505e-02, 5.7894e-01, 2.2102e-02, 1.6437e-02, 4.6068e-01],\n",
       "         [5.7876e-01, 1.8201e-01, 9.3069e-01, 9.8164e-01, 6.9109e-02,\n",
       "          4.2829e-01, 2.7026e-01, 9.8414e-01, 8.3394e-01, 6.2345e-02]],\n",
       "\n",
       "        [[8.7406e-01, 2.7729e-01, 9.7487e-01, 1.8303e-01, 5.3047e-01,\n",
       "          5.0249e-01, 4.2335e-01, 5.2249e-02, 5.8511e-01, 7.9826e-03],\n",
       "         [8.3560e-02, 5.3022e-02, 2.0492e-01, 8.0197e-01, 3.2462e-02,\n",
       "          9.4153e-01, 1.5938e-01, 8.1324e-01, 6.2617e-01, 8.7157e-01],\n",
       "         [1.1768e-01, 6.6240e-01, 1.1696e-01, 1.9121e-01, 5.9663e-01,\n",
       "          6.6091e-01, 7.7769e-01, 6.2292e-01, 6.5220e-01, 1.9588e-01],\n",
       "         [1.4655e-01, 7.6047e-01, 3.7790e-01, 1.5775e-01, 1.9860e-01,\n",
       "          7.4735e-01, 2.7702e-01, 1.6310e-01, 8.4695e-01, 1.4389e-01],\n",
       "         [9.2162e-01, 3.2402e-01, 4.1391e-01, 3.6934e-01, 2.8041e-01,\n",
       "          2.3522e-01, 6.2162e-01, 1.9743e-01, 3.7350e-01, 6.2389e-01],\n",
       "         [6.1426e-01, 5.4427e-01, 5.5088e-01, 4.6080e-01, 6.1111e-01,\n",
       "          4.9289e-01, 1.5718e-01, 5.0627e-02, 6.1630e-01, 2.5570e-01],\n",
       "         [4.2281e-02, 6.6291e-01, 3.2321e-01, 7.4264e-01, 7.8443e-01,\n",
       "          4.8792e-01, 4.5515e-01, 8.3956e-01, 6.3247e-01, 8.9460e-01],\n",
       "         [7.1854e-01, 5.3964e-01, 3.8146e-03, 9.0049e-01, 9.9229e-01,\n",
       "          2.5128e-01, 2.5298e-01, 1.2313e-02, 7.0886e-01, 4.2898e-01],\n",
       "         [9.7465e-01, 5.6873e-01, 4.1742e-01, 1.9970e-01, 2.3140e-02,\n",
       "          1.4190e-02, 4.0550e-01, 1.5960e-01, 3.8890e-01, 9.6149e-01],\n",
       "         [7.4994e-01, 1.2312e-01, 3.3051e-01, 7.1814e-01, 9.3085e-01,\n",
       "          8.0960e-01, 5.9422e-01, 5.3780e-01, 7.8471e-01, 1.3505e-01]],\n",
       "\n",
       "        [[2.5566e-01, 8.8887e-01, 5.3290e-01, 2.0210e-01, 6.6586e-01,\n",
       "          7.3055e-01, 3.8492e-01, 2.7155e-01, 4.3188e-01, 8.0302e-01],\n",
       "         [9.1299e-01, 3.7561e-01, 9.9829e-01, 2.1367e-01, 5.5058e-01,\n",
       "          1.9634e-01, 8.3005e-01, 4.4754e-01, 8.6571e-01, 1.7782e-01],\n",
       "         [1.4299e-01, 1.7421e-01, 5.7902e-01, 1.3885e-01, 4.3565e-01,\n",
       "          9.7778e-01, 7.3964e-01, 3.7216e-01, 3.1395e-01, 6.5124e-01],\n",
       "         [5.9968e-01, 8.9978e-01, 8.8142e-01, 7.5786e-01, 7.6081e-02,\n",
       "          1.7597e-01, 7.7255e-01, 8.3854e-01, 7.6064e-01, 7.6626e-01],\n",
       "         [8.7777e-01, 4.1617e-01, 8.5792e-02, 6.2134e-01, 6.1000e-01,\n",
       "          7.2016e-01, 9.5320e-01, 9.7426e-01, 3.8975e-01, 3.2085e-01],\n",
       "         [2.6235e-01, 1.5672e-01, 9.5378e-01, 7.3163e-01, 1.0274e-01,\n",
       "          3.4752e-01, 7.8950e-01, 3.8359e-01, 4.2394e-01, 5.9984e-01],\n",
       "         [4.6876e-03, 7.2265e-01, 9.8804e-01, 8.6258e-01, 9.9291e-01,\n",
       "          6.2649e-01, 4.4047e-01, 7.0227e-01, 4.5581e-01, 5.7397e-01],\n",
       "         [6.5868e-01, 5.9962e-01, 5.3148e-01, 9.2516e-01, 2.9026e-01,\n",
       "          5.7841e-01, 1.0337e-01, 4.4614e-01, 3.5200e-01, 8.1909e-01],\n",
       "         [6.7201e-01, 8.1787e-01, 3.5742e-01, 6.5264e-01, 5.6300e-01,\n",
       "          2.5706e-01, 8.6641e-01, 3.7720e-01, 1.8877e-01, 8.9753e-01],\n",
       "         [2.7175e-01, 4.3610e-01, 1.0932e-01, 9.0338e-01, 5.1834e-01,\n",
       "          8.9678e-01, 5.7519e-01, 8.0144e-01, 4.1553e-01, 5.0868e-01]]])"
      ]
     },
     "execution_count": 32,
     "metadata": {},
     "output_type": "execute_result"
    }
   ],
   "source": [
    "random_ = torch.rand(10,10,10)\n",
    "random_"
   ]
  },
  {
   "cell_type": "code",
   "execution_count": 33,
   "id": "fd3b8a03",
   "metadata": {},
   "outputs": [
    {
     "data": {
      "text/plain": [
       "3"
      ]
     },
     "execution_count": 33,
     "metadata": {},
     "output_type": "execute_result"
    }
   ],
   "source": [
    "random_.ndim"
   ]
  },
  {
   "cell_type": "code",
   "execution_count": 41,
   "id": "497f54b9",
   "metadata": {},
   "outputs": [
    {
     "data": {
      "text/plain": [
       "torch.Size([10, 10, 10])"
      ]
     },
     "execution_count": 41,
     "metadata": {},
     "output_type": "execute_result"
    }
   ],
   "source": [
    "random_.shape"
   ]
  },
  {
   "cell_type": "code",
   "execution_count": null,
   "id": "25a027fe",
   "metadata": {},
   "outputs": [],
   "source": [
    "## lets create a random tensor of same size as image \n",
    "\n",
    "random_size_iamge_size = torch.random()"
   ]
  }
 ],
 "metadata": {
  "kernelspec": {
   "display_name": "Python 3",
   "language": "python",
   "name": "python3"
  },
  "language_info": {
   "codemirror_mode": {
    "name": "ipython",
    "version": 3
   },
   "file_extension": ".py",
   "mimetype": "text/x-python",
   "name": "python",
   "nbconvert_exporter": "python",
   "pygments_lexer": "ipython3",
   "version": "3.10.0"
  }
 },
 "nbformat": 4,
 "nbformat_minor": 5
}
